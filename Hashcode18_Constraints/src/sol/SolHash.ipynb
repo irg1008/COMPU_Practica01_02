{
 "cells": [
  {
   "cell_type": "code",
   "execution_count": 568,
   "metadata": {},
   "outputs": [],
   "source": [
    "from os import listdir\n",
    "from os.path import join, isfile\n",
    "from deap import base, creator, tools, algorithms\n",
    "\n",
    "import random\n",
    "import numpy as np\n",
    "import matplotlib.pyplot as plt\n",
    "\n",
    "plt_styles = plt.style.available\n",
    "plt.style.use(plt_styles[7])\n"
   ]
  },
  {
   "cell_type": "code",
   "execution_count": 569,
   "metadata": {},
   "outputs": [],
   "source": [
    "def get_data_from_file(path: str):\n",
    "    with open(path, \"r\") as f:\n",
    "        data = []\n",
    "        lines = f.readlines()\n",
    "        for line in lines:\n",
    "            data.append([int(c) for c in line.split()])\n",
    "        return data\n",
    "\n",
    "\n",
    "def get_paths_of_dir(path: str, extension: str):\n",
    "    return [join(path, f) for f in listdir(path)\n",
    "            if isfile(join(path, f)) and f.endswith(extension)]\n",
    "    "
   ]
  },
  {
   "cell_type": "code",
   "execution_count": 570,
   "metadata": {},
   "outputs": [],
   "source": [
    "inDirPath = \"../../Input/\"\n",
    "inPaths = get_paths_of_dir(inDirPath, extension=\".in\")"
   ]
  },
  {
   "cell_type": "code",
   "execution_count": 571,
   "metadata": {},
   "outputs": [],
   "source": [
    "n_problem = int(input(f\"Elige el problema (1-{len(inPaths)}): \"))\n",
    "\n",
    "inDirFiles = listdir(inDirPath)\n",
    "file_name = inDirFiles[n_problem - 1]\n",
    "\n",
    "path = inPaths[n_problem - 1]\n",
    "prob = get_data_from_file(path)"
   ]
  },
  {
   "cell_type": "markdown",
   "metadata": {},
   "source": [
    "## Variable meanings.\n",
    "\n",
    "* R = Number of rows.\n",
    "* C = Number of columns.\n",
    "* F = Number of cars.\n",
    "* N = Pre-booked rides.\n",
    "* B = Per-ride bonus for starting the ride on time.\n",
    "* T = Simulation steps = distance between start and end."
   ]
  },
  {
   "cell_type": "code",
   "execution_count": 572,
   "metadata": {},
   "outputs": [],
   "source": [
    "# Problem data.\n",
    "_, _, F, N, B, T = prob[0]\n",
    "\n",
    "# Rides.\n",
    "rides = prob[1:-1]\n",
    "\n",
    "# Car accessibility.\n",
    "adapted = prob[-1]"
   ]
  },
  {
   "cell_type": "markdown",
   "metadata": {},
   "source": [
    "Bonus:\n",
    "* Earn points proportional to distance of ride.\n",
    "* Bonus if started on time. "
   ]
  },
  {
   "cell_type": "code",
   "execution_count": 573,
   "metadata": {},
   "outputs": [],
   "source": [
    "toolbox = base.Toolbox()"
   ]
  },
  {
   "cell_type": "code",
   "execution_count": 574,
   "metadata": {},
   "outputs": [],
   "source": [
    "if not hasattr(creator, \"FitnessMax\"):\n",
    "    creator.create(\"FitnessMax\", base.Fitness, weights=(1.0,))\n",
    "\n",
    "if not hasattr(creator, \"Individual\"):\n",
    "    creator.create(\"Individual\", list, fitness=creator.FitnessMax)\n"
   ]
  },
  {
   "cell_type": "code",
   "execution_count": 575,
   "metadata": {},
   "outputs": [],
   "source": [
    "toolbox.register(\"attribute\", random.randint, 0, F - 1)\n",
    "toolbox.register(\"individual\", tools.initRepeat,\n",
    "                 creator.Individual, toolbox.attribute, n=N)\n",
    "toolbox.register(\"population\", tools.initRepeat, list, toolbox.individual)"
   ]
  },
  {
   "cell_type": "code",
   "execution_count": 576,
   "metadata": {},
   "outputs": [],
   "source": [
    "def sort_rides(car_rides):\n",
    "    def sort_ride(ride):\n",
    "        a, b, x, y, s, f, _ = ride\n",
    "        origin = [a, b]\n",
    "        destiny = [x, y]\n",
    "        distance = dis(origin, destiny)\n",
    "\n",
    "        return s + f - distance\n",
    "\n",
    "    return sorted(car_rides, key=lambda ride: sort_ride(ride[1]))\n",
    "\n",
    "\n",
    "def get_rides_from_ind(individual):\n",
    "    cars_rides = np.full(F, None)\n",
    "\n",
    "    for i, car in enumerate(individual):\n",
    "        v_r = cars_rides[car]\n",
    "\n",
    "        if v_r is None:\n",
    "            v_r = []\n",
    "\n",
    "        ride = rides[i]\n",
    "        v_r.append([i, ride])\n",
    "\n",
    "        cars_rides[car] = v_r\n",
    "\n",
    "    return cars_rides\n",
    "\n",
    "\n",
    "def dis(a, b): return np.abs(a[0] - b[0]) + np.abs(a[1]-b[1])\n"
   ]
  },
  {
   "cell_type": "code",
   "execution_count": 577,
   "metadata": {},
   "outputs": [],
   "source": [
    "\n",
    "\n",
    "def calc_fitness(car_rides):\n",
    "    fitness = 0\n",
    "    step = 0\n",
    "    pos = [0, 0]\n",
    "\n",
    "    # Sort car_rides given earliest time.\n",
    "    car_rides = sort_rides(car_rides)\n",
    "\n",
    "    for _, ride in car_rides:\n",
    "        a, b, x, y, earliest_start, latest_finish, _ = ride\n",
    "        origin = [a, b]\n",
    "        destiny = [x, y]\n",
    "\n",
    "        # 1.- Go to origin.\n",
    "        step += dis(pos, origin)\n",
    "\n",
    "        # 2.- If arrived before the earliest time. Wait and earn bonus.\n",
    "        if step <= earliest_start:\n",
    "            fitness += B\n",
    "            step = earliest_start\n",
    "\n",
    "        # 3.- Go to destiny.\n",
    "        dis_ori_des = dis(origin, destiny)\n",
    "        step += dis_ori_des\n",
    "\n",
    "        # 4.- If reached destiny before latest finish. Earn points.\n",
    "        if step <= latest_finish:\n",
    "            fitness += dis_ori_des\n",
    "\n",
    "        # 5.- Update position.\n",
    "        pos = destiny\n",
    "\n",
    "        # 6.- Check if reached max distance with one car.\n",
    "        if step > T:\n",
    "            break\n",
    "\n",
    "    return fitness\n",
    "\n",
    "\n",
    "def eval_ind(ind):\n",
    "    all_rides = get_rides_from_ind(ind)\n",
    "\n",
    "    fitness = 0\n",
    "\n",
    "    for _, car_rides in enumerate(all_rides):\n",
    "        if car_rides is not None:\n",
    "            _fitness = calc_fitness(car_rides)\n",
    "            fitness += _fitness\n",
    "\n",
    "    return fitness,\n"
   ]
  },
  {
   "cell_type": "code",
   "execution_count": 578,
   "metadata": {},
   "outputs": [],
   "source": [
    "TOURNSIZE = 3\n",
    "INDPB = 0.2\n",
    "\n",
    "toolbox.register(\"select\", tools.selTournament, tournsize=TOURNSIZE)\n",
    "toolbox.register(\"mate\", tools.cxOnePoint)\n",
    "toolbox.register(\"mutate\", tools.mutUniformInt, indpb=INDPB, low=0, up=F-1)\n",
    "toolbox.register(\"evaluate\", eval_ind)\n"
   ]
  },
  {
   "cell_type": "code",
   "execution_count": 579,
   "metadata": {},
   "outputs": [],
   "source": [
    "NIND = 300\n",
    "\n",
    "pop = toolbox.population(n=NIND)\n"
   ]
  },
  {
   "cell_type": "code",
   "execution_count": 580,
   "metadata": {},
   "outputs": [
    {
     "name": "stdout",
     "output_type": "stream",
     "text": [
      "Individuo\n",
      "[18, 68, 97, 76, 26, 22, 87, 97, 45, 40, 16, 97, 49, 22, 11, 66, 0, 74, 97]\n",
      "Individuo ANTES de evaluar\n",
      "Valid: False\n",
      "Individuo TRAS evaluar\n",
      "Valid: True. Fitness = (164183.0,)\n"
     ]
    }
   ],
   "source": [
    "ind = toolbox.individual()\n",
    "\n",
    "print(\"Individuo\")\n",
    "print(ind[1:20])\n",
    "\n",
    "print(\"Individuo ANTES de evaluar\")\n",
    "print(f\"Valid: {ind.fitness.valid}\")\n",
    "\n",
    "ind.fitness.values = eval_ind(ind)\n",
    "\n",
    "print(\"Individuo TRAS evaluar\")\n",
    "print(f\"Valid: {ind.fitness.valid}. Fitness = {ind.fitness.values}\")\n"
   ]
  },
  {
   "cell_type": "code",
   "execution_count": 581,
   "metadata": {},
   "outputs": [],
   "source": [
    "def get_penalty(ind):\n",
    "    pen = 0\n",
    "\n",
    "    for i_ride, i_car in enumerate(ind):\n",
    "        adapted_ride = rides[i_ride][-1]\n",
    "        adapted_car = adapted[i_car]\n",
    "\n",
    "        if adapted_car == 0 and adapted_ride == 1:\n",
    "            pen += 1\n",
    "\n",
    "    return pen\n",
    "\n",
    "\n",
    "def distance(ind):   \n",
    "    def constant(pen): return pen\n",
    "    def lineal(pen): return pen*2\n",
    "    def quadratic(pen): return pen**2\n",
    "\n",
    "    pen = get_penalty(ind)\n",
    "    dis = lineal(pen)\n",
    "    return dis\n",
    "\n",
    "\n",
    "def feasible(ind):\n",
    "    pen = get_penalty(ind)\n",
    "    threshold = B  # Bonus value of problem.\n",
    "    return -threshold <= pen <= threshold\n"
   ]
  },
  {
   "cell_type": "markdown",
   "metadata": {},
   "source": [
    "![Constraints](https://deap.readthedocs.io/en/master/_images/constraints.png)"
   ]
  },
  {
   "cell_type": "code",
   "execution_count": 582,
   "metadata": {},
   "outputs": [],
   "source": [
    "DISTANCE_OFFSET = 0\n",
    "\n",
    "toolbox.decorate(\"evaluate\", tools.DeltaPenality(\n",
    "    feasible, DISTANCE_OFFSET, distance))\n"
   ]
  },
  {
   "cell_type": "code",
   "execution_count": 583,
   "metadata": {},
   "outputs": [],
   "source": [
    "stats = tools.Statistics(lambda ind: ind.fitness.values)\n",
    "stats.register(\"min\", np.min)\n",
    "stats.register(\"max\", np.max)\n",
    "stats.register(\"std\", np.std)\n",
    "stats.register(\"avg\", np.average)\n"
   ]
  },
  {
   "cell_type": "code",
   "execution_count": 584,
   "metadata": {},
   "outputs": [],
   "source": [
    "NGEN = 50\n",
    "CXPB = 0.8\n",
    "MUTPB = 0.1\n",
    "\n",
    "pop, logbook = algorithms.eaSimple(\n",
    "    pop, toolbox, CXPB, MUTPB, NGEN, stats, verbose=False)"
   ]
  },
  {
   "cell_type": "code",
   "execution_count": 585,
   "metadata": {},
   "outputs": [
    {
     "name": "stdout",
     "output_type": "stream",
     "text": [
      "El resultado de la evolución es:\n",
      "gen\tnevals\tmin \tmax   \tstd    \tavg     \n",
      "0  \t300   \t-160\t-104  \t8.55023\t-134.347\n",
      "1  \t246   \t-148\t-104  \t7.50233\t-126.78 \n",
      "2  \t257   \t-138\t-100  \t6.88786\t-120.193\n",
      "3  \t262   \t-136\t-92   \t6.9729 \t-115.407\n",
      "4  \t241   \t-130\t-88   \t6.98357\t-110.42 \n",
      "5  \t248   \t-124\t-90   \t6.80776\t-105.12 \n",
      "6  \t263   \t-126\t-86   \t5.98821\t-100.273\n",
      "7  \t256   \t-120\t-80   \t5.61498\t-96.4067\n",
      "8  \t262   \t-114\t-80   \t5.54904\t-92.8533\n",
      "9  \t239   \t-110\t-78   \t5.37621\t-89.42  \n",
      "10 \t243   \t-102\t-68   \t4.735  \t-85.92  \n",
      "11 \t250   \t-108\t-68   \t5.07716\t-82.68  \n",
      "12 \t242   \t-108\t-66   \t5.17815\t-79.9933\n",
      "13 \t240   \t-104\t-64   \t5.8852 \t-78.0667\n",
      "14 \t245   \t-106\t-64   \t5.68592\t-74.94  \n",
      "15 \t242   \t-96 \t-60   \t6.15158\t-72.2267\n",
      "16 \t257   \t-92 \t-56   \t5.86083\t-68.8067\n",
      "17 \t235   \t-96 \t-52   \t5.55458\t-65.6   \n",
      "18 \t227   \t-94 \t-54   \t5.80032\t-63.36  \n",
      "19 \t251   \t-86 \t-52   \t5.60136\t-61.2267\n",
      "20 \t235   \t-90 \t166193\t16318.2\t1581.29 \n",
      "21 \t248   \t-90 \t168064\t37584.3\t9152.15 \n",
      "22 \t253   \t-88 \t168064\t57085.4\t23290.9 \n",
      "23 \t238   \t-86 \t168085\t78246.8\t58196.2 \n",
      "24 \t242   \t-82 \t169413\t80510.4\t97156.4 \n",
      "25 \t231   \t-78 \t169463\t72431.8\t122083  \n",
      "26 \t244   \t-80 \t170963\t62451.5\t137872  \n",
      "27 \t240   \t-78 \t171216\t64350.7\t137254  \n",
      "28 \t241   \t-76 \t171883\t62689.4\t140090  \n",
      "29 \t253   \t-78 \t171913\t63853.8\t139366  \n",
      "30 \t244   \t-76 \t172107\t59333.7\t144965  \n",
      "31 \t254   \t-82 \t173383\t55844.3\t148788  \n",
      "32 \t248   \t-84 \t173578\t59743.4\t145973  \n",
      "33 \t249   \t-78 \t173383\t58135.7\t148132  \n",
      "34 \t249   \t-76 \t174027\t57051.8\t149715  \n",
      "35 \t233   \t-76 \t174430\t48431.2\t157129  \n",
      "36 \t240   \t-80 \t174430\t60507.1\t147848  \n",
      "37 \t238   \t-76 \t174723\t57619  \t151221  \n",
      "38 \t262   \t-72 \t175350\t46211.1\t160291  \n",
      "39 \t247   \t-78 \t175350\t44430.8\t161872  \n",
      "40 \t254   \t-80 \t175350\t46434.7\t161076  \n",
      "41 \t257   \t-82 \t175513\t50863.8\t158462  \n",
      "42 \t241   \t-74 \t175513\t48403.2\t160469  \n",
      "43 \t248   \t-76 \t175570\t51801.6\t158286  \n",
      "44 \t240   \t-76 \t175570\t47587.1\t161312  \n",
      "45 \t257   \t-80 \t175570\t51847.9\t158430  \n",
      "46 \t250   \t-76 \t175570\t48512.6\t160834  \n",
      "47 \t261   \t-80 \t175595\t57735.6\t153865  \n",
      "48 \t222   \t-78 \t175595\t52683.4\t157985  \n",
      "49 \t242   \t-74 \t175595\t51895.8\t158576  \n",
      "50 \t257   \t-80 \t175595\t51902.2\t158597  \n",
      "Mejor solución es [24, 91, 37, 14, 63, 63, 37, 60, 99] con fitness (175595,)\n"
     ]
    }
   ],
   "source": [
    "best_sol = tools.selBest(pop, k=1)[0]\n",
    "\n",
    "print(f\"El resultado de la evolución es:\")\n",
    "print(logbook)\n",
    "print(\n",
    "    f\"Mejor solución es {best_sol[1:10]} con fitness {eval_ind(best_sol)}\")\n"
   ]
  },
  {
   "cell_type": "code",
   "execution_count": 586,
   "metadata": {},
   "outputs": [
    {
     "name": "stdout",
     "output_type": "stream",
     "text": [
      "Min pen: 175595.0\n"
     ]
    },
    {
     "data": {
      "image/png": "[encoded data removed]",
      "image/svg+xml": "<?xml version=\"1.0\" encoding=\"utf-8\" standalone=\"no\"?>\r\n<!DOCTYPE svg PUBLIC \"-//W3C//DTD SVG 1.1//EN\"\r\n  \"http://www.w3.org/Graphics/SVG/1.1/DTD/svg11.dtd\">\r\n<!-- Created with matplotlib (https://matplotlib.org/) -->\r\n<svg height=\"264.131875pt\" version=\"1.1\" viewBox=\"0 0 409.98875 264.131875\" width=\"409.98875pt\" xmlns=\"http://www.w3.org/2000/svg\" xmlns:xlink=\"http://www.w3.org/1999/xlink\">\r\n <metadata>\r\n  <rdf:RDF xmlns:cc=\"http://creativecommons.org/ns#\" xmlns:dc=\"http://purl.org/dc/elements/1.1/\" xmlns:rdf=\"http://www.w3.org/1999/02/22-rdf-syntax-ns#\">\r\n   <cc:Work>\r\n    <dc:type rdf:resource=\"http://purl.org/dc/dcmitype/StillImage\"/>\r\n    <dc:date>2021-10-27T12:50:04.410842</dc:date>\r\n    <dc:format>image/svg+xml</dc:format>\r\n    <dc:creator>\r\n     <cc:Agent>\r\n      <dc:title>Matplotlib v3.3.2, https://matplotlib.org/</dc:title>\r\n     </cc:Agent>\r\n    </dc:creator>\r\n   </cc:Work>\r\n  </rdf:RDF>\r\n </metadata>\r\n <defs>\r\n  <style type=\"text/css\">*{stroke-linecap:butt;stroke-linejoin:round;}</style>\r\n </defs>\r\n <g id=\"figure_1\">\r\n  <g id=\"patch_1\">\r\n   <path d=\"M -0 264.131875 \r\nL 409.98875 264.131875 \r\nL 409.98875 0 \r\nL -0 0 \r\nz\r\n\" style=\"fill:#ffffff;\"/>\r\n  </g>\r\n  <g id=\"axes_1\">\r\n   <g id=\"patch_2\">\r\n    <path d=\"M 67.98875 224.64 \r\nL 402.78875 224.64 \r\nL 402.78875 7.2 \r\nL 67.98875 7.2 \r\nz\r\n\" style=\"fill:#e5e5e5;\"/>\r\n   </g>\r\n   <g id=\"matplotlib.axis_1\">\r\n    <g id=\"xtick_1\">\r\n     <g id=\"line2d_1\">\r\n      <path clip-path=\"url(#paa29009010)\" d=\"M 83.206932 224.64 \r\nL 83.206932 7.2 \r\n\" style=\"fill:none;stroke:#ffffff;stroke-linecap:square;stroke-width:0.8;\"/>\r\n     </g>\r\n     <g id=\"line2d_2\">\r\n      <defs>\r\n       <path d=\"M 0 0 \r\nL 0 3.5 \r\n\" id=\"md4ad9b8d55\" style=\"stroke:#555555;stroke-width:0.8;\"/>\r\n      </defs>\r\n      <g>\r\n       <use style=\"fill:#555555;stroke:#555555;stroke-width:0.8;\" x=\"83.206932\" xlink:href=\"#md4ad9b8d55\" y=\"224.64\"/>\r\n      </g>\r\n     </g>\r\n     <g id=\"text_1\">\r\n      <!-- 0 -->\r\n      <g style=\"fill:#555555;\" transform=\"translate(80.025682 239.238437)scale(0.1 -0.1)\">\r\n       <defs>\r\n        <path d=\"M 31.78125 66.40625 \r\nQ 24.171875 66.40625 20.328125 58.90625 \r\nQ 16.5 51.421875 16.5 36.375 \r\nQ 16.5 21.390625 20.328125 13.890625 \r\nQ 24.171875 6.390625 31.78125 6.390625 \r\nQ 39.453125 6.390625 43.28125 13.890625 \r\nQ 47.125 21.390625 47.125 36.375 \r\nQ 47.125 51.421875 43.28125 58.90625 \r\nQ 39.453125 66.40625 31.78125 66.40625 \r\nz\r\nM 31.78125 74.21875 \r\nQ 44.046875 74.21875 50.515625 64.515625 \r\nQ 56.984375 54.828125 56.984375 36.375 \r\nQ 56.984375 17.96875 50.515625 8.265625 \r\nQ 44.046875 -1.421875 31.78125 -1.421875 \r\nQ 19.53125 -1.421875 13.0625 8.265625 \r\nQ 6.59375 17.96875 6.59375 36.375 \r\nQ 6.59375 54.828125 13.0625 64.515625 \r\nQ 19.53125 74.21875 31.78125 74.21875 \r\nz\r\n\" id=\"DejaVuSans-48\"/>\r\n       </defs>\r\n       <use xlink:href=\"#DejaVuSans-48\"/>\r\n      </g>\r\n     </g>\r\n    </g>\r\n    <g id=\"xtick_2\">\r\n     <g id=\"line2d_3\">\r\n      <path clip-path=\"url(#paa29009010)\" d=\"M 144.079659 224.64 \r\nL 144.079659 7.2 \r\n\" style=\"fill:none;stroke:#ffffff;stroke-linecap:square;stroke-width:0.8;\"/>\r\n     </g>\r\n     <g id=\"line2d_4\">\r\n      <g>\r\n       <use style=\"fill:#555555;stroke:#555555;stroke-width:0.8;\" x=\"144.079659\" xlink:href=\"#md4ad9b8d55\" y=\"224.64\"/>\r\n      </g>\r\n     </g>\r\n     <g id=\"text_2\">\r\n      <!-- 10 -->\r\n      <g style=\"fill:#555555;\" transform=\"translate(137.717159 239.238437)scale(0.1 -0.1)\">\r\n       <defs>\r\n        <path d=\"M 12.40625 8.296875 \r\nL 28.515625 8.296875 \r\nL 28.515625 63.921875 \r\nL 10.984375 60.40625 \r\nL 10.984375 69.390625 \r\nL 28.421875 72.90625 \r\nL 38.28125 72.90625 \r\nL 38.28125 8.296875 \r\nL 54.390625 8.296875 \r\nL 54.390625 0 \r\nL 12.40625 0 \r\nz\r\n\" id=\"DejaVuSans-49\"/>\r\n       </defs>\r\n       <use xlink:href=\"#DejaVuSans-49\"/>\r\n       <use x=\"63.623047\" xlink:href=\"#DejaVuSans-48\"/>\r\n      </g>\r\n     </g>\r\n    </g>\r\n    <g id=\"xtick_3\">\r\n     <g id=\"line2d_5\">\r\n      <path clip-path=\"url(#paa29009010)\" d=\"M 204.952386 224.64 \r\nL 204.952386 7.2 \r\n\" style=\"fill:none;stroke:#ffffff;stroke-linecap:square;stroke-width:0.8;\"/>\r\n     </g>\r\n     <g id=\"line2d_6\">\r\n      <g>\r\n       <use style=\"fill:#555555;stroke:#555555;stroke-width:0.8;\" x=\"204.952386\" xlink:href=\"#md4ad9b8d55\" y=\"224.64\"/>\r\n      </g>\r\n     </g>\r\n     <g id=\"text_3\">\r\n      <!-- 20 -->\r\n      <g style=\"fill:#555555;\" transform=\"translate(198.589886 239.238437)scale(0.1 -0.1)\">\r\n       <defs>\r\n        <path d=\"M 19.1875 8.296875 \r\nL 53.609375 8.296875 \r\nL 53.609375 0 \r\nL 7.328125 0 \r\nL 7.328125 8.296875 \r\nQ 12.9375 14.109375 22.625 23.890625 \r\nQ 32.328125 33.6875 34.8125 36.53125 \r\nQ 39.546875 41.84375 41.421875 45.53125 \r\nQ 43.3125 49.21875 43.3125 52.78125 \r\nQ 43.3125 58.59375 39.234375 62.25 \r\nQ 35.15625 65.921875 28.609375 65.921875 \r\nQ 23.96875 65.921875 18.8125 64.3125 \r\nQ 13.671875 62.703125 7.8125 59.421875 \r\nL 7.8125 69.390625 \r\nQ 13.765625 71.78125 18.9375 73 \r\nQ 24.125 74.21875 28.421875 74.21875 \r\nQ 39.75 74.21875 46.484375 68.546875 \r\nQ 53.21875 62.890625 53.21875 53.421875 \r\nQ 53.21875 48.921875 51.53125 44.890625 \r\nQ 49.859375 40.875 45.40625 35.40625 \r\nQ 44.1875 33.984375 37.640625 27.21875 \r\nQ 31.109375 20.453125 19.1875 8.296875 \r\nz\r\n\" id=\"DejaVuSans-50\"/>\r\n       </defs>\r\n       <use xlink:href=\"#DejaVuSans-50\"/>\r\n       <use x=\"63.623047\" xlink:href=\"#DejaVuSans-48\"/>\r\n      </g>\r\n     </g>\r\n    </g>\r\n    <g id=\"xtick_4\">\r\n     <g id=\"line2d_7\">\r\n      <path clip-path=\"url(#paa29009010)\" d=\"M 265.825114 224.64 \r\nL 265.825114 7.2 \r\n\" style=\"fill:none;stroke:#ffffff;stroke-linecap:square;stroke-width:0.8;\"/>\r\n     </g>\r\n     <g id=\"line2d_8\">\r\n      <g>\r\n       <use style=\"fill:#555555;stroke:#555555;stroke-width:0.8;\" x=\"265.825114\" xlink:href=\"#md4ad9b8d55\" y=\"224.64\"/>\r\n      </g>\r\n     </g>\r\n     <g id=\"text_4\">\r\n      <!-- 30 -->\r\n      <g style=\"fill:#555555;\" transform=\"translate(259.462614 239.238437)scale(0.1 -0.1)\">\r\n       <defs>\r\n        <path d=\"M 40.578125 39.3125 \r\nQ 47.65625 37.796875 51.625 33 \r\nQ 55.609375 28.21875 55.609375 21.1875 \r\nQ 55.609375 10.40625 48.1875 4.484375 \r\nQ 40.765625 -1.421875 27.09375 -1.421875 \r\nQ 22.515625 -1.421875 17.65625 -0.515625 \r\nQ 12.796875 0.390625 7.625 2.203125 \r\nL 7.625 11.71875 \r\nQ 11.71875 9.328125 16.59375 8.109375 \r\nQ 21.484375 6.890625 26.8125 6.890625 \r\nQ 36.078125 6.890625 40.9375 10.546875 \r\nQ 45.796875 14.203125 45.796875 21.1875 \r\nQ 45.796875 27.640625 41.28125 31.265625 \r\nQ 36.765625 34.90625 28.71875 34.90625 \r\nL 20.21875 34.90625 \r\nL 20.21875 43.015625 \r\nL 29.109375 43.015625 \r\nQ 36.375 43.015625 40.234375 45.921875 \r\nQ 44.09375 48.828125 44.09375 54.296875 \r\nQ 44.09375 59.90625 40.109375 62.90625 \r\nQ 36.140625 65.921875 28.71875 65.921875 \r\nQ 24.65625 65.921875 20.015625 65.03125 \r\nQ 15.375 64.15625 9.8125 62.3125 \r\nL 9.8125 71.09375 \r\nQ 15.4375 72.65625 20.34375 73.4375 \r\nQ 25.25 74.21875 29.59375 74.21875 \r\nQ 40.828125 74.21875 47.359375 69.109375 \r\nQ 53.90625 64.015625 53.90625 55.328125 \r\nQ 53.90625 49.265625 50.4375 45.09375 \r\nQ 46.96875 40.921875 40.578125 39.3125 \r\nz\r\n\" id=\"DejaVuSans-51\"/>\r\n       </defs>\r\n       <use xlink:href=\"#DejaVuSans-51\"/>\r\n       <use x=\"63.623047\" xlink:href=\"#DejaVuSans-48\"/>\r\n      </g>\r\n     </g>\r\n    </g>\r\n    <g id=\"xtick_5\">\r\n     <g id=\"line2d_9\">\r\n      <path clip-path=\"url(#paa29009010)\" d=\"M 326.697841 224.64 \r\nL 326.697841 7.2 \r\n\" style=\"fill:none;stroke:#ffffff;stroke-linecap:square;stroke-width:0.8;\"/>\r\n     </g>\r\n     <g id=\"line2d_10\">\r\n      <g>\r\n       <use style=\"fill:#555555;stroke:#555555;stroke-width:0.8;\" x=\"326.697841\" xlink:href=\"#md4ad9b8d55\" y=\"224.64\"/>\r\n      </g>\r\n     </g>\r\n     <g id=\"text_5\">\r\n      <!-- 40 -->\r\n      <g style=\"fill:#555555;\" transform=\"translate(320.335341 239.238437)scale(0.1 -0.1)\">\r\n       <defs>\r\n        <path d=\"M 37.796875 64.3125 \r\nL 12.890625 25.390625 \r\nL 37.796875 25.390625 \r\nz\r\nM 35.203125 72.90625 \r\nL 47.609375 72.90625 \r\nL 47.609375 25.390625 \r\nL 58.015625 25.390625 \r\nL 58.015625 17.1875 \r\nL 47.609375 17.1875 \r\nL 47.609375 0 \r\nL 37.796875 0 \r\nL 37.796875 17.1875 \r\nL 4.890625 17.1875 \r\nL 4.890625 26.703125 \r\nz\r\n\" id=\"DejaVuSans-52\"/>\r\n       </defs>\r\n       <use xlink:href=\"#DejaVuSans-52\"/>\r\n       <use x=\"63.623047\" xlink:href=\"#DejaVuSans-48\"/>\r\n      </g>\r\n     </g>\r\n    </g>\r\n    <g id=\"xtick_6\">\r\n     <g id=\"line2d_11\">\r\n      <path clip-path=\"url(#paa29009010)\" d=\"M 387.570568 224.64 \r\nL 387.570568 7.2 \r\n\" style=\"fill:none;stroke:#ffffff;stroke-linecap:square;stroke-width:0.8;\"/>\r\n     </g>\r\n     <g id=\"line2d_12\">\r\n      <g>\r\n       <use style=\"fill:#555555;stroke:#555555;stroke-width:0.8;\" x=\"387.570568\" xlink:href=\"#md4ad9b8d55\" y=\"224.64\"/>\r\n      </g>\r\n     </g>\r\n     <g id=\"text_6\">\r\n      <!-- 50 -->\r\n      <g style=\"fill:#555555;\" transform=\"translate(381.208068 239.238437)scale(0.1 -0.1)\">\r\n       <defs>\r\n        <path d=\"M 10.796875 72.90625 \r\nL 49.515625 72.90625 \r\nL 49.515625 64.59375 \r\nL 19.828125 64.59375 \r\nL 19.828125 46.734375 \r\nQ 21.96875 47.46875 24.109375 47.828125 \r\nQ 26.265625 48.1875 28.421875 48.1875 \r\nQ 40.625 48.1875 47.75 41.5 \r\nQ 54.890625 34.8125 54.890625 23.390625 \r\nQ 54.890625 11.625 47.5625 5.09375 \r\nQ 40.234375 -1.421875 26.90625 -1.421875 \r\nQ 22.3125 -1.421875 17.546875 -0.640625 \r\nQ 12.796875 0.140625 7.71875 1.703125 \r\nL 7.71875 11.625 \r\nQ 12.109375 9.234375 16.796875 8.0625 \r\nQ 21.484375 6.890625 26.703125 6.890625 \r\nQ 35.15625 6.890625 40.078125 11.328125 \r\nQ 45.015625 15.765625 45.015625 23.390625 \r\nQ 45.015625 31 40.078125 35.4375 \r\nQ 35.15625 39.890625 26.703125 39.890625 \r\nQ 22.75 39.890625 18.8125 39.015625 \r\nQ 14.890625 38.140625 10.796875 36.28125 \r\nz\r\n\" id=\"DejaVuSans-53\"/>\r\n       </defs>\r\n       <use xlink:href=\"#DejaVuSans-53\"/>\r\n       <use x=\"63.623047\" xlink:href=\"#DejaVuSans-48\"/>\r\n      </g>\r\n     </g>\r\n    </g>\r\n    <g id=\"text_7\">\r\n     <!-- Generation -->\r\n     <g style=\"fill:#555555;\" transform=\"translate(201.917187 254.43625)scale(0.12 -0.12)\">\r\n      <defs>\r\n       <path d=\"M 59.515625 10.40625 \r\nL 59.515625 29.984375 \r\nL 43.40625 29.984375 \r\nL 43.40625 38.09375 \r\nL 69.28125 38.09375 \r\nL 69.28125 6.78125 \r\nQ 63.578125 2.734375 56.6875 0.65625 \r\nQ 49.8125 -1.421875 42 -1.421875 \r\nQ 24.90625 -1.421875 15.25 8.5625 \r\nQ 5.609375 18.5625 5.609375 36.375 \r\nQ 5.609375 54.25 15.25 64.234375 \r\nQ 24.90625 74.21875 42 74.21875 \r\nQ 49.125 74.21875 55.546875 72.453125 \r\nQ 61.96875 70.703125 67.390625 67.28125 \r\nL 67.390625 56.78125 \r\nQ 61.921875 61.421875 55.765625 63.765625 \r\nQ 49.609375 66.109375 42.828125 66.109375 \r\nQ 29.4375 66.109375 22.71875 58.640625 \r\nQ 16.015625 51.171875 16.015625 36.375 \r\nQ 16.015625 21.625 22.71875 14.15625 \r\nQ 29.4375 6.6875 42.828125 6.6875 \r\nQ 48.046875 6.6875 52.140625 7.59375 \r\nQ 56.25 8.5 59.515625 10.40625 \r\nz\r\n\" id=\"DejaVuSans-71\"/>\r\n       <path d=\"M 56.203125 29.59375 \r\nL 56.203125 25.203125 \r\nL 14.890625 25.203125 \r\nQ 15.484375 15.921875 20.484375 11.0625 \r\nQ 25.484375 6.203125 34.421875 6.203125 \r\nQ 39.59375 6.203125 44.453125 7.46875 \r\nQ 49.3125 8.734375 54.109375 11.28125 \r\nL 54.109375 2.78125 \r\nQ 49.265625 0.734375 44.1875 -0.34375 \r\nQ 39.109375 -1.421875 33.890625 -1.421875 \r\nQ 20.796875 -1.421875 13.15625 6.1875 \r\nQ 5.515625 13.8125 5.515625 26.8125 \r\nQ 5.515625 40.234375 12.765625 48.109375 \r\nQ 20.015625 56 32.328125 56 \r\nQ 43.359375 56 49.78125 48.890625 \r\nQ 56.203125 41.796875 56.203125 29.59375 \r\nz\r\nM 47.21875 32.234375 \r\nQ 47.125 39.59375 43.09375 43.984375 \r\nQ 39.0625 48.390625 32.421875 48.390625 \r\nQ 24.90625 48.390625 20.390625 44.140625 \r\nQ 15.875 39.890625 15.1875 32.171875 \r\nz\r\n\" id=\"DejaVuSans-101\"/>\r\n       <path d=\"M 54.890625 33.015625 \r\nL 54.890625 0 \r\nL 45.90625 0 \r\nL 45.90625 32.71875 \r\nQ 45.90625 40.484375 42.875 44.328125 \r\nQ 39.84375 48.1875 33.796875 48.1875 \r\nQ 26.515625 48.1875 22.3125 43.546875 \r\nQ 18.109375 38.921875 18.109375 30.90625 \r\nL 18.109375 0 \r\nL 9.078125 0 \r\nL 9.078125 54.6875 \r\nL 18.109375 54.6875 \r\nL 18.109375 46.1875 \r\nQ 21.34375 51.125 25.703125 53.5625 \r\nQ 30.078125 56 35.796875 56 \r\nQ 45.21875 56 50.046875 50.171875 \r\nQ 54.890625 44.34375 54.890625 33.015625 \r\nz\r\n\" id=\"DejaVuSans-110\"/>\r\n       <path d=\"M 41.109375 46.296875 \r\nQ 39.59375 47.171875 37.8125 47.578125 \r\nQ 36.03125 48 33.890625 48 \r\nQ 26.265625 48 22.1875 43.046875 \r\nQ 18.109375 38.09375 18.109375 28.8125 \r\nL 18.109375 0 \r\nL 9.078125 0 \r\nL 9.078125 54.6875 \r\nL 18.109375 54.6875 \r\nL 18.109375 46.1875 \r\nQ 20.953125 51.171875 25.484375 53.578125 \r\nQ 30.03125 56 36.53125 56 \r\nQ 37.453125 56 38.578125 55.875 \r\nQ 39.703125 55.765625 41.0625 55.515625 \r\nz\r\n\" id=\"DejaVuSans-114\"/>\r\n       <path d=\"M 34.28125 27.484375 \r\nQ 23.390625 27.484375 19.1875 25 \r\nQ 14.984375 22.515625 14.984375 16.5 \r\nQ 14.984375 11.71875 18.140625 8.90625 \r\nQ 21.296875 6.109375 26.703125 6.109375 \r\nQ 34.1875 6.109375 38.703125 11.40625 \r\nQ 43.21875 16.703125 43.21875 25.484375 \r\nL 43.21875 27.484375 \r\nz\r\nM 52.203125 31.203125 \r\nL 52.203125 0 \r\nL 43.21875 0 \r\nL 43.21875 8.296875 \r\nQ 40.140625 3.328125 35.546875 0.953125 \r\nQ 30.953125 -1.421875 24.3125 -1.421875 \r\nQ 15.921875 -1.421875 10.953125 3.296875 \r\nQ 6 8.015625 6 15.921875 \r\nQ 6 25.140625 12.171875 29.828125 \r\nQ 18.359375 34.515625 30.609375 34.515625 \r\nL 43.21875 34.515625 \r\nL 43.21875 35.40625 \r\nQ 43.21875 41.609375 39.140625 45 \r\nQ 35.0625 48.390625 27.6875 48.390625 \r\nQ 23 48.390625 18.546875 47.265625 \r\nQ 14.109375 46.140625 10.015625 43.890625 \r\nL 10.015625 52.203125 \r\nQ 14.9375 54.109375 19.578125 55.046875 \r\nQ 24.21875 56 28.609375 56 \r\nQ 40.484375 56 46.34375 49.84375 \r\nQ 52.203125 43.703125 52.203125 31.203125 \r\nz\r\n\" id=\"DejaVuSans-97\"/>\r\n       <path d=\"M 18.3125 70.21875 \r\nL 18.3125 54.6875 \r\nL 36.8125 54.6875 \r\nL 36.8125 47.703125 \r\nL 18.3125 47.703125 \r\nL 18.3125 18.015625 \r\nQ 18.3125 11.328125 20.140625 9.421875 \r\nQ 21.96875 7.515625 27.59375 7.515625 \r\nL 36.8125 7.515625 \r\nL 36.8125 0 \r\nL 27.59375 0 \r\nQ 17.1875 0 13.234375 3.875 \r\nQ 9.28125 7.765625 9.28125 18.015625 \r\nL 9.28125 47.703125 \r\nL 2.6875 47.703125 \r\nL 2.6875 54.6875 \r\nL 9.28125 54.6875 \r\nL 9.28125 70.21875 \r\nz\r\n\" id=\"DejaVuSans-116\"/>\r\n       <path d=\"M 9.421875 54.6875 \r\nL 18.40625 54.6875 \r\nL 18.40625 0 \r\nL 9.421875 0 \r\nz\r\nM 9.421875 75.984375 \r\nL 18.40625 75.984375 \r\nL 18.40625 64.59375 \r\nL 9.421875 64.59375 \r\nz\r\n\" id=\"DejaVuSans-105\"/>\r\n       <path d=\"M 30.609375 48.390625 \r\nQ 23.390625 48.390625 19.1875 42.75 \r\nQ 14.984375 37.109375 14.984375 27.296875 \r\nQ 14.984375 17.484375 19.15625 11.84375 \r\nQ 23.34375 6.203125 30.609375 6.203125 \r\nQ 37.796875 6.203125 41.984375 11.859375 \r\nQ 46.1875 17.53125 46.1875 27.296875 \r\nQ 46.1875 37.015625 41.984375 42.703125 \r\nQ 37.796875 48.390625 30.609375 48.390625 \r\nz\r\nM 30.609375 56 \r\nQ 42.328125 56 49.015625 48.375 \r\nQ 55.71875 40.765625 55.71875 27.296875 \r\nQ 55.71875 13.875 49.015625 6.21875 \r\nQ 42.328125 -1.421875 30.609375 -1.421875 \r\nQ 18.84375 -1.421875 12.171875 6.21875 \r\nQ 5.515625 13.875 5.515625 27.296875 \r\nQ 5.515625 40.765625 12.171875 48.375 \r\nQ 18.84375 56 30.609375 56 \r\nz\r\n\" id=\"DejaVuSans-111\"/>\r\n      </defs>\r\n      <use xlink:href=\"#DejaVuSans-71\"/>\r\n      <use x=\"77.490234\" xlink:href=\"#DejaVuSans-101\"/>\r\n      <use x=\"139.013672\" xlink:href=\"#DejaVuSans-110\"/>\r\n      <use x=\"202.392578\" xlink:href=\"#DejaVuSans-101\"/>\r\n      <use x=\"263.916016\" xlink:href=\"#DejaVuSans-114\"/>\r\n      <use x=\"305.029297\" xlink:href=\"#DejaVuSans-97\"/>\r\n      <use x=\"366.308594\" xlink:href=\"#DejaVuSans-116\"/>\r\n      <use x=\"405.517578\" xlink:href=\"#DejaVuSans-105\"/>\r\n      <use x=\"433.300781\" xlink:href=\"#DejaVuSans-111\"/>\r\n      <use x=\"494.482422\" xlink:href=\"#DejaVuSans-110\"/>\r\n     </g>\r\n    </g>\r\n   </g>\r\n   <g id=\"matplotlib.axis_2\">\r\n    <g id=\"ytick_1\">\r\n     <g id=\"line2d_13\">\r\n      <path clip-path=\"url(#paa29009010)\" d=\"M 67.98875 214.576411 \r\nL 402.78875 214.576411 \r\n\" style=\"fill:none;stroke:#ffffff;stroke-linecap:square;stroke-width:0.8;\"/>\r\n     </g>\r\n     <g id=\"line2d_14\">\r\n      <defs>\r\n       <path d=\"M 0 0 \r\nL -3.5 0 \r\n\" id=\"mbdd95820b8\" style=\"stroke:#555555;stroke-width:0.8;\"/>\r\n      </defs>\r\n      <g>\r\n       <use style=\"fill:#555555;stroke:#555555;stroke-width:0.8;\" x=\"67.98875\" xlink:href=\"#mbdd95820b8\" y=\"214.576411\"/>\r\n      </g>\r\n     </g>\r\n     <g id=\"text_8\">\r\n      <!-- 0 -->\r\n      <g style=\"fill:#555555;\" transform=\"translate(54.62625 218.375629)scale(0.1 -0.1)\">\r\n       <use xlink:href=\"#DejaVuSans-48\"/>\r\n      </g>\r\n     </g>\r\n    </g>\r\n    <g id=\"ytick_2\">\r\n     <g id=\"line2d_15\">\r\n      <path clip-path=\"url(#paa29009010)\" d=\"M 67.98875 186.458757 \r\nL 402.78875 186.458757 \r\n\" style=\"fill:none;stroke:#ffffff;stroke-linecap:square;stroke-width:0.8;\"/>\r\n     </g>\r\n     <g id=\"line2d_16\">\r\n      <g>\r\n       <use style=\"fill:#555555;stroke:#555555;stroke-width:0.8;\" x=\"67.98875\" xlink:href=\"#mbdd95820b8\" y=\"186.458757\"/>\r\n      </g>\r\n     </g>\r\n     <g id=\"text_9\">\r\n      <!-- 25000 -->\r\n      <g style=\"fill:#555555;\" transform=\"translate(29.17625 190.257976)scale(0.1 -0.1)\">\r\n       <use xlink:href=\"#DejaVuSans-50\"/>\r\n       <use x=\"63.623047\" xlink:href=\"#DejaVuSans-53\"/>\r\n       <use x=\"127.246094\" xlink:href=\"#DejaVuSans-48\"/>\r\n       <use x=\"190.869141\" xlink:href=\"#DejaVuSans-48\"/>\r\n       <use x=\"254.492188\" xlink:href=\"#DejaVuSans-48\"/>\r\n      </g>\r\n     </g>\r\n    </g>\r\n    <g id=\"ytick_3\">\r\n     <g id=\"line2d_17\">\r\n      <path clip-path=\"url(#paa29009010)\" d=\"M 67.98875 158.341104 \r\nL 402.78875 158.341104 \r\n\" style=\"fill:none;stroke:#ffffff;stroke-linecap:square;stroke-width:0.8;\"/>\r\n     </g>\r\n     <g id=\"line2d_18\">\r\n      <g>\r\n       <use style=\"fill:#555555;stroke:#555555;stroke-width:0.8;\" x=\"67.98875\" xlink:href=\"#mbdd95820b8\" y=\"158.341104\"/>\r\n      </g>\r\n     </g>\r\n     <g id=\"text_10\">\r\n      <!-- 50000 -->\r\n      <g style=\"fill:#555555;\" transform=\"translate(29.17625 162.140323)scale(0.1 -0.1)\">\r\n       <use xlink:href=\"#DejaVuSans-53\"/>\r\n       <use x=\"63.623047\" xlink:href=\"#DejaVuSans-48\"/>\r\n       <use x=\"127.246094\" xlink:href=\"#DejaVuSans-48\"/>\r\n       <use x=\"190.869141\" xlink:href=\"#DejaVuSans-48\"/>\r\n       <use x=\"254.492188\" xlink:href=\"#DejaVuSans-48\"/>\r\n      </g>\r\n     </g>\r\n    </g>\r\n    <g id=\"ytick_4\">\r\n     <g id=\"line2d_19\">\r\n      <path clip-path=\"url(#paa29009010)\" d=\"M 67.98875 130.22345 \r\nL 402.78875 130.22345 \r\n\" style=\"fill:none;stroke:#ffffff;stroke-linecap:square;stroke-width:0.8;\"/>\r\n     </g>\r\n     <g id=\"line2d_20\">\r\n      <g>\r\n       <use style=\"fill:#555555;stroke:#555555;stroke-width:0.8;\" x=\"67.98875\" xlink:href=\"#mbdd95820b8\" y=\"130.22345\"/>\r\n      </g>\r\n     </g>\r\n     <g id=\"text_11\">\r\n      <!-- 75000 -->\r\n      <g style=\"fill:#555555;\" transform=\"translate(29.17625 134.022669)scale(0.1 -0.1)\">\r\n       <defs>\r\n        <path d=\"M 8.203125 72.90625 \r\nL 55.078125 72.90625 \r\nL 55.078125 68.703125 \r\nL 28.609375 0 \r\nL 18.3125 0 \r\nL 43.21875 64.59375 \r\nL 8.203125 64.59375 \r\nz\r\n\" id=\"DejaVuSans-55\"/>\r\n       </defs>\r\n       <use xlink:href=\"#DejaVuSans-55\"/>\r\n       <use x=\"63.623047\" xlink:href=\"#DejaVuSans-53\"/>\r\n       <use x=\"127.246094\" xlink:href=\"#DejaVuSans-48\"/>\r\n       <use x=\"190.869141\" xlink:href=\"#DejaVuSans-48\"/>\r\n       <use x=\"254.492188\" xlink:href=\"#DejaVuSans-48\"/>\r\n      </g>\r\n     </g>\r\n    </g>\r\n    <g id=\"ytick_5\">\r\n     <g id=\"line2d_21\">\r\n      <path clip-path=\"url(#paa29009010)\" d=\"M 67.98875 102.105797 \r\nL 402.78875 102.105797 \r\n\" style=\"fill:none;stroke:#ffffff;stroke-linecap:square;stroke-width:0.8;\"/>\r\n     </g>\r\n     <g id=\"line2d_22\">\r\n      <g>\r\n       <use style=\"fill:#555555;stroke:#555555;stroke-width:0.8;\" x=\"67.98875\" xlink:href=\"#mbdd95820b8\" y=\"102.105797\"/>\r\n      </g>\r\n     </g>\r\n     <g id=\"text_12\">\r\n      <!-- 100000 -->\r\n      <g style=\"fill:#555555;\" transform=\"translate(22.81375 105.905016)scale(0.1 -0.1)\">\r\n       <use xlink:href=\"#DejaVuSans-49\"/>\r\n       <use x=\"63.623047\" xlink:href=\"#DejaVuSans-48\"/>\r\n       <use x=\"127.246094\" xlink:href=\"#DejaVuSans-48\"/>\r\n       <use x=\"190.869141\" xlink:href=\"#DejaVuSans-48\"/>\r\n       <use x=\"254.492188\" xlink:href=\"#DejaVuSans-48\"/>\r\n       <use x=\"318.115234\" xlink:href=\"#DejaVuSans-48\"/>\r\n      </g>\r\n     </g>\r\n    </g>\r\n    <g id=\"ytick_6\">\r\n     <g id=\"line2d_23\">\r\n      <path clip-path=\"url(#paa29009010)\" d=\"M 67.98875 73.988143 \r\nL 402.78875 73.988143 \r\n\" style=\"fill:none;stroke:#ffffff;stroke-linecap:square;stroke-width:0.8;\"/>\r\n     </g>\r\n     <g id=\"line2d_24\">\r\n      <g>\r\n       <use style=\"fill:#555555;stroke:#555555;stroke-width:0.8;\" x=\"67.98875\" xlink:href=\"#mbdd95820b8\" y=\"73.988143\"/>\r\n      </g>\r\n     </g>\r\n     <g id=\"text_13\">\r\n      <!-- 125000 -->\r\n      <g style=\"fill:#555555;\" transform=\"translate(22.81375 77.787362)scale(0.1 -0.1)\">\r\n       <use xlink:href=\"#DejaVuSans-49\"/>\r\n       <use x=\"63.623047\" xlink:href=\"#DejaVuSans-50\"/>\r\n       <use x=\"127.246094\" xlink:href=\"#DejaVuSans-53\"/>\r\n       <use x=\"190.869141\" xlink:href=\"#DejaVuSans-48\"/>\r\n       <use x=\"254.492188\" xlink:href=\"#DejaVuSans-48\"/>\r\n       <use x=\"318.115234\" xlink:href=\"#DejaVuSans-48\"/>\r\n      </g>\r\n     </g>\r\n    </g>\r\n    <g id=\"ytick_7\">\r\n     <g id=\"line2d_25\">\r\n      <path clip-path=\"url(#paa29009010)\" d=\"M 67.98875 45.87049 \r\nL 402.78875 45.87049 \r\n\" style=\"fill:none;stroke:#ffffff;stroke-linecap:square;stroke-width:0.8;\"/>\r\n     </g>\r\n     <g id=\"line2d_26\">\r\n      <g>\r\n       <use style=\"fill:#555555;stroke:#555555;stroke-width:0.8;\" x=\"67.98875\" xlink:href=\"#mbdd95820b8\" y=\"45.87049\"/>\r\n      </g>\r\n     </g>\r\n     <g id=\"text_14\">\r\n      <!-- 150000 -->\r\n      <g style=\"fill:#555555;\" transform=\"translate(22.81375 49.669709)scale(0.1 -0.1)\">\r\n       <use xlink:href=\"#DejaVuSans-49\"/>\r\n       <use x=\"63.623047\" xlink:href=\"#DejaVuSans-53\"/>\r\n       <use x=\"127.246094\" xlink:href=\"#DejaVuSans-48\"/>\r\n       <use x=\"190.869141\" xlink:href=\"#DejaVuSans-48\"/>\r\n       <use x=\"254.492188\" xlink:href=\"#DejaVuSans-48\"/>\r\n       <use x=\"318.115234\" xlink:href=\"#DejaVuSans-48\"/>\r\n      </g>\r\n     </g>\r\n    </g>\r\n    <g id=\"ytick_8\">\r\n     <g id=\"line2d_27\">\r\n      <path clip-path=\"url(#paa29009010)\" d=\"M 67.98875 17.752837 \r\nL 402.78875 17.752837 \r\n\" style=\"fill:none;stroke:#ffffff;stroke-linecap:square;stroke-width:0.8;\"/>\r\n     </g>\r\n     <g id=\"line2d_28\">\r\n      <g>\r\n       <use style=\"fill:#555555;stroke:#555555;stroke-width:0.8;\" x=\"67.98875\" xlink:href=\"#mbdd95820b8\" y=\"17.752837\"/>\r\n      </g>\r\n     </g>\r\n     <g id=\"text_15\">\r\n      <!-- 175000 -->\r\n      <g style=\"fill:#555555;\" transform=\"translate(22.81375 21.552055)scale(0.1 -0.1)\">\r\n       <use xlink:href=\"#DejaVuSans-49\"/>\r\n       <use x=\"63.623047\" xlink:href=\"#DejaVuSans-55\"/>\r\n       <use x=\"127.246094\" xlink:href=\"#DejaVuSans-53\"/>\r\n       <use x=\"190.869141\" xlink:href=\"#DejaVuSans-48\"/>\r\n       <use x=\"254.492188\" xlink:href=\"#DejaVuSans-48\"/>\r\n       <use x=\"318.115234\" xlink:href=\"#DejaVuSans-48\"/>\r\n      </g>\r\n     </g>\r\n    </g>\r\n    <g id=\"text_16\">\r\n     <!-- Fitness - Penalty -->\r\n     <g style=\"fill:#0000ff;\" transform=\"translate(16.318125 164.820937)rotate(-90)scale(0.12 -0.12)\">\r\n      <defs>\r\n       <path d=\"M 9.8125 72.90625 \r\nL 51.703125 72.90625 \r\nL 51.703125 64.59375 \r\nL 19.671875 64.59375 \r\nL 19.671875 43.109375 \r\nL 48.578125 43.109375 \r\nL 48.578125 34.8125 \r\nL 19.671875 34.8125 \r\nL 19.671875 0 \r\nL 9.8125 0 \r\nz\r\n\" id=\"DejaVuSans-70\"/>\r\n       <path d=\"M 44.28125 53.078125 \r\nL 44.28125 44.578125 \r\nQ 40.484375 46.53125 36.375 47.5 \r\nQ 32.28125 48.484375 27.875 48.484375 \r\nQ 21.1875 48.484375 17.84375 46.4375 \r\nQ 14.5 44.390625 14.5 40.28125 \r\nQ 14.5 37.15625 16.890625 35.375 \r\nQ 19.28125 33.59375 26.515625 31.984375 \r\nL 29.59375 31.296875 \r\nQ 39.15625 29.25 43.1875 25.515625 \r\nQ 47.21875 21.78125 47.21875 15.09375 \r\nQ 47.21875 7.46875 41.1875 3.015625 \r\nQ 35.15625 -1.421875 24.609375 -1.421875 \r\nQ 20.21875 -1.421875 15.453125 -0.5625 \r\nQ 10.6875 0.296875 5.421875 2 \r\nL 5.421875 11.28125 \r\nQ 10.40625 8.6875 15.234375 7.390625 \r\nQ 20.0625 6.109375 24.8125 6.109375 \r\nQ 31.15625 6.109375 34.5625 8.28125 \r\nQ 37.984375 10.453125 37.984375 14.40625 \r\nQ 37.984375 18.0625 35.515625 20.015625 \r\nQ 33.0625 21.96875 24.703125 23.78125 \r\nL 21.578125 24.515625 \r\nQ 13.234375 26.265625 9.515625 29.90625 \r\nQ 5.8125 33.546875 5.8125 39.890625 \r\nQ 5.8125 47.609375 11.28125 51.796875 \r\nQ 16.75 56 26.8125 56 \r\nQ 31.78125 56 36.171875 55.265625 \r\nQ 40.578125 54.546875 44.28125 53.078125 \r\nz\r\n\" id=\"DejaVuSans-115\"/>\r\n       <path id=\"DejaVuSans-32\"/>\r\n       <path d=\"M 4.890625 31.390625 \r\nL 31.203125 31.390625 \r\nL 31.203125 23.390625 \r\nL 4.890625 23.390625 \r\nz\r\n\" id=\"DejaVuSans-45\"/>\r\n       <path d=\"M 19.671875 64.796875 \r\nL 19.671875 37.40625 \r\nL 32.078125 37.40625 \r\nQ 38.96875 37.40625 42.71875 40.96875 \r\nQ 46.484375 44.53125 46.484375 51.125 \r\nQ 46.484375 57.671875 42.71875 61.234375 \r\nQ 38.96875 64.796875 32.078125 64.796875 \r\nz\r\nM 9.8125 72.90625 \r\nL 32.078125 72.90625 \r\nQ 44.34375 72.90625 50.609375 67.359375 \r\nQ 56.890625 61.8125 56.890625 51.125 \r\nQ 56.890625 40.328125 50.609375 34.8125 \r\nQ 44.34375 29.296875 32.078125 29.296875 \r\nL 19.671875 29.296875 \r\nL 19.671875 0 \r\nL 9.8125 0 \r\nz\r\n\" id=\"DejaVuSans-80\"/>\r\n       <path d=\"M 9.421875 75.984375 \r\nL 18.40625 75.984375 \r\nL 18.40625 0 \r\nL 9.421875 0 \r\nz\r\n\" id=\"DejaVuSans-108\"/>\r\n       <path d=\"M 32.171875 -5.078125 \r\nQ 28.375 -14.84375 24.75 -17.8125 \r\nQ 21.140625 -20.796875 15.09375 -20.796875 \r\nL 7.90625 -20.796875 \r\nL 7.90625 -13.28125 \r\nL 13.1875 -13.28125 \r\nQ 16.890625 -13.28125 18.9375 -11.515625 \r\nQ 21 -9.765625 23.484375 -3.21875 \r\nL 25.09375 0.875 \r\nL 2.984375 54.6875 \r\nL 12.5 54.6875 \r\nL 29.59375 11.921875 \r\nL 46.6875 54.6875 \r\nL 56.203125 54.6875 \r\nz\r\n\" id=\"DejaVuSans-121\"/>\r\n      </defs>\r\n      <use xlink:href=\"#DejaVuSans-70\"/>\r\n      <use x=\"50.269531\" xlink:href=\"#DejaVuSans-105\"/>\r\n      <use x=\"78.052734\" xlink:href=\"#DejaVuSans-116\"/>\r\n      <use x=\"117.261719\" xlink:href=\"#DejaVuSans-110\"/>\r\n      <use x=\"180.640625\" xlink:href=\"#DejaVuSans-101\"/>\r\n      <use x=\"242.164062\" xlink:href=\"#DejaVuSans-115\"/>\r\n      <use x=\"294.263672\" xlink:href=\"#DejaVuSans-115\"/>\r\n      <use x=\"346.363281\" xlink:href=\"#DejaVuSans-32\"/>\r\n      <use x=\"378.150391\" xlink:href=\"#DejaVuSans-45\"/>\r\n      <use x=\"414.234375\" xlink:href=\"#DejaVuSans-32\"/>\r\n      <use x=\"446.021484\" xlink:href=\"#DejaVuSans-80\"/>\r\n      <use x=\"502.699219\" xlink:href=\"#DejaVuSans-101\"/>\r\n      <use x=\"564.222656\" xlink:href=\"#DejaVuSans-110\"/>\r\n      <use x=\"627.601562\" xlink:href=\"#DejaVuSans-97\"/>\r\n      <use x=\"688.880859\" xlink:href=\"#DejaVuSans-108\"/>\r\n      <use x=\"716.664062\" xlink:href=\"#DejaVuSans-116\"/>\r\n      <use x=\"755.873047\" xlink:href=\"#DejaVuSans-121\"/>\r\n     </g>\r\n    </g>\r\n   </g>\r\n   <g id=\"line2d_29\">\r\n    <path clip-path=\"url(#paa29009010)\" d=\"M 83.206932 214.727511 \r\nL 89.294205 214.719001 \r\nL 95.381477 214.711593 \r\nL 101.46875 214.706209 \r\nL 107.556023 214.700601 \r\nL 113.643295 214.69464 \r\nL 119.730568 214.689189 \r\nL 125.817841 214.68484 \r\nL 131.905114 214.680843 \r\nL 137.992386 214.676982 \r\nL 144.079659 214.673045 \r\nL 150.166932 214.669401 \r\nL 156.254205 214.66638 \r\nL 162.341477 214.664213 \r\nL 168.42875 214.660696 \r\nL 174.516023 214.657644 \r\nL 180.603295 214.653798 \r\nL 186.690568 214.650191 \r\nL 192.777841 214.647672 \r\nL 198.865114 214.645273 \r\nL 204.952386 212.79792 \r\nL 211.039659 204.282931 \r\nL 217.126932 188.381045 \r\nL 223.214205 149.122765 \r\nL 229.301477 105.304052 \r\nL 235.38875 77.268626 \r\nL 241.476023 59.510491 \r\nL 247.563295 60.205492 \r\nL 253.650568 57.016422 \r\nL 259.737841 57.830274 \r\nL 265.825114 51.533168 \r\nL 271.912386 47.233668 \r\nL 277.999659 50.399325 \r\nL 284.086932 47.971628 \r\nL 290.174205 46.191447 \r\nL 296.261477 37.852831 \r\nL 302.34875 48.291 \r\nL 308.436023 44.497074 \r\nL 314.523295 34.295685 \r\nL 320.610568 32.51832 \r\nL 326.697841 33.413747 \r\nL 332.785114 36.352709 \r\nL 338.872386 34.096103 \r\nL 344.959659 36.550912 \r\nL 351.046932 33.148268 \r\nL 357.134205 36.388794 \r\nL 363.221477 33.685982 \r\nL 369.30875 41.523291 \r\nL 375.396023 36.889348 \r\nL 381.483295 36.224654 \r\nL 387.570568 36.20153 \r\n\" style=\"fill:none;stroke:#008000;stroke-linecap:square;stroke-width:1.5;\"/>\r\n   </g>\r\n   <g id=\"line2d_30\">\r\n    <path clip-path=\"url(#paa29009010)\" d=\"M 83.206932 214.69338 \r\nL 89.294205 214.69338 \r\nL 95.381477 214.688881 \r\nL 101.46875 214.679884 \r\nL 107.556023 214.675385 \r\nL 113.643295 214.677634 \r\nL 119.730568 214.673135 \r\nL 125.817841 214.666387 \r\nL 131.905114 214.666387 \r\nL 137.992386 214.664138 \r\nL 144.079659 214.652891 \r\nL 150.166932 214.652891 \r\nL 156.254205 214.650641 \r\nL 162.341477 214.648392 \r\nL 168.42875 214.648392 \r\nL 174.516023 214.643893 \r\nL 180.603295 214.639394 \r\nL 186.690568 214.634895 \r\nL 192.777841 214.637145 \r\nL 198.865114 214.634895 \r\nL 204.952386 27.658123 \r\nL 211.039659 25.553798 \r\nL 217.126932 25.553798 \r\nL 223.214205 25.530179 \r\nL 229.301477 24.03657 \r\nL 235.38875 23.980334 \r\nL 241.476023 22.293275 \r\nL 247.563295 22.008725 \r\nL 253.650568 21.258546 \r\nL 259.737841 21.224804 \r\nL 265.825114 21.006611 \r\nL 271.912386 19.571486 \r\nL 277.999659 19.352169 \r\nL 284.086932 19.571486 \r\nL 290.174205 18.847176 \r\nL 296.261477 18.393919 \r\nL 302.34875 18.393919 \r\nL 308.436023 18.06438 \r\nL 314.523295 17.359189 \r\nL 320.610568 17.359189 \r\nL 326.697841 17.359189 \r\nL 332.785114 17.175862 \r\nL 338.872386 17.175862 \r\nL 344.959659 17.111754 \r\nL 351.046932 17.111754 \r\nL 357.134205 17.111754 \r\nL 363.221477 17.111754 \r\nL 369.30875 17.083636 \r\nL 375.396023 17.083636 \r\nL 381.483295 17.083636 \r\nL 387.570568 17.083636 \r\n\" style=\"fill:none;stroke:#ff0000;stroke-linecap:square;stroke-width:1.5;\"/>\r\n   </g>\r\n   <g id=\"line2d_31\">\r\n    <path clip-path=\"url(#paa29009010)\" d=\"M 83.206932 214.756364 \r\nL 89.294205 214.742867 \r\nL 95.381477 214.73162 \r\nL 101.46875 214.729371 \r\nL 107.556023 214.722622 \r\nL 113.643295 214.715874 \r\nL 119.730568 214.718124 \r\nL 125.817841 214.711375 \r\nL 131.905114 214.704627 \r\nL 137.992386 214.700128 \r\nL 144.079659 214.691131 \r\nL 150.166932 214.697879 \r\nL 156.254205 214.697879 \r\nL 162.341477 214.69338 \r\nL 168.42875 214.69563 \r\nL 174.516023 214.684382 \r\nL 180.603295 214.679884 \r\nL 186.690568 214.684382 \r\nL 192.777841 214.682133 \r\nL 198.865114 214.673135 \r\nL 204.952386 214.677634 \r\nL 211.039659 214.677634 \r\nL 217.126932 214.675385 \r\nL 223.214205 214.673135 \r\nL 229.301477 214.668637 \r\nL 235.38875 214.664138 \r\nL 241.476023 214.666387 \r\nL 247.563295 214.664138 \r\nL 253.650568 214.661888 \r\nL 259.737841 214.664138 \r\nL 265.825114 214.661888 \r\nL 271.912386 214.668637 \r\nL 277.999659 214.670886 \r\nL 284.086932 214.664138 \r\nL 290.174205 214.661888 \r\nL 296.261477 214.661888 \r\nL 302.34875 214.666387 \r\nL 308.436023 214.661888 \r\nL 314.523295 214.657389 \r\nL 320.610568 214.664138 \r\nL 326.697841 214.666387 \r\nL 332.785114 214.668637 \r\nL 338.872386 214.659639 \r\nL 344.959659 214.661888 \r\nL 351.046932 214.661888 \r\nL 357.134205 214.666387 \r\nL 363.221477 214.661888 \r\nL 369.30875 214.666387 \r\nL 375.396023 214.664138 \r\nL 381.483295 214.659639 \r\nL 387.570568 214.666387 \r\n\" style=\"fill:none;stroke:#0000ff;stroke-linecap:square;stroke-width:1.5;\"/>\r\n   </g>\r\n   <g id=\"patch_3\">\r\n    <path d=\"M 67.98875 224.64 \r\nL 67.98875 7.2 \r\n\" style=\"fill:none;stroke:#ffffff;stroke-linecap:square;stroke-linejoin:miter;\"/>\r\n   </g>\r\n   <g id=\"patch_4\">\r\n    <path d=\"M 402.78875 224.64 \r\nL 402.78875 7.2 \r\n\" style=\"fill:none;stroke:#ffffff;stroke-linecap:square;stroke-linejoin:miter;\"/>\r\n   </g>\r\n   <g id=\"patch_5\">\r\n    <path d=\"M 67.98875 224.64 \r\nL 402.78875 224.64 \r\n\" style=\"fill:none;stroke:#ffffff;stroke-linecap:square;stroke-linejoin:miter;\"/>\r\n   </g>\r\n   <g id=\"patch_6\">\r\n    <path d=\"M 67.98875 7.2 \r\nL 402.78875 7.2 \r\n\" style=\"fill:none;stroke:#ffffff;stroke-linecap:square;stroke-linejoin:miter;\"/>\r\n   </g>\r\n  </g>\r\n </g>\r\n <defs>\r\n  <clipPath id=\"paa29009010\">\r\n   <rect height=\"217.44\" width=\"334.8\" x=\"67.98875\" y=\"7.2\"/>\r\n  </clipPath>\r\n </defs>\r\n</svg>\r\n",
      "text/plain": [
       "<Figure size 432x288 with 1 Axes>"
      ]
     },
     "metadata": {},
     "output_type": "display_data"
    }
   ],
   "source": [
    "def plot_pen_fitness(lb):\n",
    "    gen = lb.select(\"gen\")\n",
    "    avgs = lb.select(\"avg\")\n",
    "    maxs = lb.select(\"max\")\n",
    "    mins = lb.select(\"min\")\n",
    "\n",
    "    print(f\"Min pen: {abs(max(maxs))}\")\n",
    "\n",
    "    _, ax = plt.subplots()\n",
    "\n",
    "    ax.plot(gen, avgs, \"g-\", label=\"Average Fitness\")\n",
    "    ax.plot(gen, maxs, \"r-\", label=\"Average Fitness\")\n",
    "    ax.plot(gen, mins, \"b-\", label=\"Average Fitness\")\n",
    "    ax.set_xlabel(\"Generation\")\n",
    "    ax.set_ylabel(\"Fitness - Penalty\", color=\"b\")\n",
    "\n",
    "    plt.show()\n",
    "\n",
    "\n",
    "plot_pen_fitness(logbook)\n"
   ]
  },
  {
   "cell_type": "code",
   "execution_count": 587,
   "metadata": {},
   "outputs": [],
   "source": [
    "outDirPath = \"../../Output/\"\n",
    "outFilePath = outDirPath + file_name.strip(\".in\") + \".out\"\n",
    "\n",
    "cars_rides = get_rides_from_ind(best_sol)\n",
    "\n",
    "with open(outFilePath, \"w\") as f:\n",
    "    for v_r in cars_rides:\n",
    "      if v_r is None:\n",
    "        f.write(str(0))\n",
    "      else:\n",
    "        v_r = sort_rides(v_r)    \n",
    "        f.write(str(len(v_r)))\n",
    "        f.write(\" \")\n",
    "        f.write(\" \".join(str(pos) for pos, _ in v_r))\n",
    "      \n",
    "      f.write(\"\\n\")"
   ]
  }
 ],
 "metadata": {
  "interpreter": {
   "hash": "d5eb7a8f509e7ccbf47035c59f1ff1c37d44186d90acd8dc6b44b2ecc8ca6e3f"
  },
  "kernelspec": {
   "display_name": "Python 3.8.6 64-bit",
   "name": "python3"
  },
  "language_info": {
   "codemirror_mode": {
    "name": "ipython",
    "version": 3
   },
   "file_extension": ".py",
   "mimetype": "text/x-python",
   "name": "python",
   "nbconvert_exporter": "python",
   "pygments_lexer": "ipython3",
   "version": "3.8.6"
  },
  "orig_nbformat": 4
 },
 "nbformat": 4,
 "nbformat_minor": 2
}
