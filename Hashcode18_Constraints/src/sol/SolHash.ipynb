{
 "cells": [
  {
   "cell_type": "code",
   "execution_count": 72,
   "metadata": {},
   "outputs": [],
   "source": [
    "from os import listdir\n",
    "from os.path import join, isfile\n",
    "from deap import base, creator, tools, algorithms\n",
    "\n",
    "import random\n",
    "import numpy as np\n",
    "import matplotlib.pyplot as plt\n",
    "\n",
    "plt_styles = plt.style.available\n",
    "plt.style.use(plt_styles[7])\n"
   ]
  },
  {
   "cell_type": "code",
   "execution_count": 73,
   "metadata": {},
   "outputs": [],
   "source": [
    "def get_data_from_file(path: str):\n",
    "    with open(path, \"r\") as f:\n",
    "        data = []\n",
    "        lines = f.readlines()\n",
    "        for line in lines:\n",
    "            data.append([int(c) for c in line.split()])\n",
    "        return data\n",
    "\n",
    "\n",
    "def get_paths_of_dir(path: str, extension: str):\n",
    "    return [join(path, f) for f in listdir(path)\n",
    "            if isfile(join(path, f)) and f.endswith(extension)]\n",
    "    "
   ]
  },
  {
   "cell_type": "code",
   "execution_count": 74,
   "metadata": {},
   "outputs": [],
   "source": [
    "inDirPath = \"../../Input/\"\n",
    "inPaths = get_paths_of_dir(inDirPath, extension=\".in\")"
   ]
  },
  {
   "cell_type": "code",
   "execution_count": 75,
   "metadata": {},
   "outputs": [],
   "source": [
    "n_problem = int(input(f\"Elige el problema (1-{len(inPaths)}): \"))\n",
    "\n",
    "inDirFiles = listdir(inDirPath)\n",
    "file_name = inDirFiles[n_problem - 1]\n",
    "\n",
    "path = inPaths[n_problem - 1]\n",
    "prob = get_data_from_file(path)"
   ]
  },
  {
   "cell_type": "markdown",
   "metadata": {},
   "source": [
    "## Variable meanings.\n",
    "\n",
    "* R = Number of rows.\n",
    "* C = Number of columns.\n",
    "* F = Number of cars.\n",
    "* N = Pre-booked rides.\n",
    "* B = Per-ride bonus for starting the ride on time.\n",
    "* T = Simulation steps = distance between start and end."
   ]
  },
  {
   "cell_type": "code",
   "execution_count": 76,
   "metadata": {},
   "outputs": [],
   "source": [
    "# Problem data.\n",
    "_, _, F, N, B, T = prob[0]\n",
    "\n",
    "# Rides.\n",
    "rides = prob[1:-1]\n",
    "\n",
    "# Car accessibility.\n",
    "adapted = prob[-1]"
   ]
  },
  {
   "cell_type": "markdown",
   "metadata": {},
   "source": [
    "Bonus:\n",
    "* Earn points proportional to distance of ride.\n",
    "* Bonus if started on time. "
   ]
  },
  {
   "cell_type": "code",
   "execution_count": 77,
   "metadata": {},
   "outputs": [],
   "source": [
    "toolbox = base.Toolbox()"
   ]
  },
  {
   "cell_type": "code",
   "execution_count": 78,
   "metadata": {},
   "outputs": [],
   "source": [
    "if not hasattr(creator, \"FitnessMax\"):\n",
    "    creator.create(\"FitnessMax\", base.Fitness, weights=(1.0,))\n",
    "\n",
    "if not hasattr(creator, \"Individual\"):\n",
    "    creator.create(\"Individual\", list, fitness=creator.FitnessMax)\n"
   ]
  },
  {
   "cell_type": "code",
   "execution_count": 79,
   "metadata": {},
   "outputs": [],
   "source": [
    "toolbox.register(\"attribute\", random.randint, 0, F - 1)\n",
    "toolbox.register(\"individual\", tools.initRepeat,\n",
    "                 creator.Individual, toolbox.attribute, n=N)\n",
    "toolbox.register(\"population\", tools.initRepeat, list, toolbox.individual)"
   ]
  },
  {
   "cell_type": "code",
   "execution_count": 80,
   "metadata": {},
   "outputs": [],
   "source": [
    "def sort_rides(car_rides):\n",
    "    def sort_ride(ride):\n",
    "        a, b, x, y, s, f, _ = ride\n",
    "        origin = [a, b]\n",
    "        destiny = [x, y]\n",
    "        distance = dis(origin, destiny)\n",
    "\n",
    "        return s + f - distance\n",
    "\n",
    "    return sorted(car_rides, key=lambda ride: sort_ride(ride[1]))\n",
    "\n",
    "\n",
    "def get_rides_from_ind(individual):\n",
    "    cars_rides = np.full(F, None)\n",
    "\n",
    "    for i, car in enumerate(individual):\n",
    "        v_r = cars_rides[car]\n",
    "\n",
    "        if v_r is None:\n",
    "            v_r = []\n",
    "\n",
    "        ride = rides[i]\n",
    "        v_r.append([i, ride])\n",
    "\n",
    "        cars_rides[car] = v_r\n",
    "\n",
    "    return cars_rides\n",
    "\n",
    "\n",
    "def dis(a, b): return np.abs(a[0] - b[0]) + np.abs(a[1]-b[1])\n"
   ]
  },
  {
   "cell_type": "code",
   "execution_count": 81,
   "metadata": {},
   "outputs": [],
   "source": [
    "\n",
    "\n",
    "def calc_fitness(car_rides):\n",
    "    fitness = 0\n",
    "    step = 0\n",
    "    pos = [0, 0]\n",
    "\n",
    "    # Sort car_rides given earliest time.\n",
    "    car_rides = sort_rides(car_rides)\n",
    "\n",
    "    for _, ride in car_rides:\n",
    "        a, b, x, y, earliest_start, latest_finish, _ = ride\n",
    "        origin = [a, b]\n",
    "        destiny = [x, y]\n",
    "\n",
    "        # 1.- Go to origin.\n",
    "        step += dis(pos, origin)\n",
    "\n",
    "        # 2.- If arrived before the earliest time. Wait and earn bonus.\n",
    "        if step <= earliest_start:\n",
    "            fitness += B\n",
    "            step = earliest_start\n",
    "\n",
    "        # 3.- Go to destiny.\n",
    "        dis_ori_des = dis(origin, destiny)\n",
    "        step += dis_ori_des\n",
    "\n",
    "        # 4.- If reached destiny before latest finish. Earn points.\n",
    "        if step <= latest_finish:\n",
    "            fitness += dis_ori_des\n",
    "\n",
    "        # 5.- Update position.\n",
    "        pos = destiny\n",
    "\n",
    "        # 6.- Check if reached max distance with one car.\n",
    "        if step > T:\n",
    "            break\n",
    "\n",
    "    return fitness\n",
    "\n",
    "\n",
    "def eval_ind(ind):\n",
    "    all_rides = get_rides_from_ind(ind)\n",
    "\n",
    "    fitness = 0\n",
    "\n",
    "    for _, car_rides in enumerate(all_rides):\n",
    "        if car_rides is not None:\n",
    "            _fitness = calc_fitness(car_rides)\n",
    "            fitness += _fitness\n",
    "\n",
    "    return fitness,\n"
   ]
  },
  {
   "cell_type": "code",
   "execution_count": 82,
   "metadata": {},
   "outputs": [],
   "source": [
    "TOURNSIZE = 3\n",
    "INDPB = 0.2\n",
    "\n",
    "toolbox.register(\"select\", tools.selTournament, tournsize=TOURNSIZE)\n",
    "toolbox.register(\"mate\", tools.cxOnePoint)\n",
    "toolbox.register(\"mutate\", tools.mutUniformInt, indpb=INDPB, low=0, up=F-1)\n",
    "toolbox.register(\"evaluate\", eval_ind)\n"
   ]
  },
  {
   "cell_type": "code",
   "execution_count": 83,
   "metadata": {},
   "outputs": [],
   "source": [
    "NIND = 300\n",
    "\n",
    "pop = toolbox.population(n=NIND)\n"
   ]
  },
  {
   "cell_type": "code",
   "execution_count": 84,
   "metadata": {},
   "outputs": [
    {
     "name": "stdout",
     "output_type": "stream",
     "text": [
      "Individuo\n",
      "[65, 24, 15, 31, 31, 77, 62, 9, 8, 40, 48, 67, 19, 40, 73, 80, 4, 52, 30]\n",
      "Individuo ANTES de evaluar\n",
      "Valid: False\n",
      "Individuo TRAS evaluar\n",
      "Valid: True. Fitness = (9460489.0,)\n"
     ]
    }
   ],
   "source": [
    "ind = toolbox.individual()\n",
    "\n",
    "print(\"Individuo\")\n",
    "print(ind[1:20])\n",
    "\n",
    "print(\"Individuo ANTES de evaluar\")\n",
    "print(f\"Valid: {ind.fitness.valid}\")\n",
    "\n",
    "ind.fitness.values = eval_ind(ind)\n",
    "\n",
    "print(\"Individuo TRAS evaluar\")\n",
    "print(f\"Valid: {ind.fitness.valid}. Fitness = {ind.fitness.values}\")\n"
   ]
  },
  {
   "cell_type": "code",
   "execution_count": 85,
   "metadata": {},
   "outputs": [],
   "source": [
    "def get_penalty(ind):\n",
    "    pen = 0\n",
    "\n",
    "    for i_ride, i_car in enumerate(ind):\n",
    "        adapted_ride = rides[i_ride][-1]\n",
    "        adapted_car = adapted[i_car]\n",
    "\n",
    "        if adapted_car == 0 and adapted_ride == 1:\n",
    "            pen += 1\n",
    "\n",
    "    return pen\n",
    "\n",
    "\n",
    "def distance(ind):   \n",
    "    def constant(pen): return pen\n",
    "    def lineal(pen): return pen*2\n",
    "    def quadratic(pen): return pen**2\n",
    "\n",
    "    pen = get_penalty(ind)\n",
    "    dis = lineal(pen)\n",
    "    return dis\n",
    "\n",
    "\n",
    "def feasible(ind):\n",
    "    pen = get_penalty(ind)\n",
    "    threshold = B  # Bonus value of problem.\n",
    "    return pen <= threshold\n"
   ]
  },
  {
   "cell_type": "markdown",
   "metadata": {},
   "source": [
    "![Constraints](https://deap.readthedocs.io/en/master/_images/constraints.png)"
   ]
  },
  {
   "cell_type": "code",
   "execution_count": 86,
   "metadata": {},
   "outputs": [],
   "source": [
    "DISTANCE_OFFSET = 0\n",
    "\n",
    "toolbox.decorate(\"evaluate\", tools.DeltaPenality(\n",
    "    feasible, DISTANCE_OFFSET, distance))\n"
   ]
  },
  {
   "cell_type": "code",
   "execution_count": 87,
   "metadata": {},
   "outputs": [],
   "source": [
    "stats = tools.Statistics(lambda ind: ind.fitness.values)\n",
    "stats.register(\"min\", np.min)\n",
    "stats.register(\"max\", np.max)\n",
    "stats.register(\"std\", np.std)\n",
    "stats.register(\"avg\", np.average)\n"
   ]
  },
  {
   "cell_type": "code",
   "execution_count": 88,
   "metadata": {},
   "outputs": [],
   "source": [
    "NGEN = 80\n",
    "CXPB = 0.8\n",
    "MUTPB = 0.2\n",
    "\n",
    "pop, logbook = algorithms.eaSimple(\n",
    "    pop, toolbox, CXPB, MUTPB, NGEN, stats, verbose=False)"
   ]
  },
  {
   "cell_type": "code",
   "execution_count": 89,
   "metadata": {},
   "outputs": [
    {
     "name": "stdout",
     "output_type": "stream",
     "text": [
      "El resultado de la evolución es:\n",
      "gen\tnevals\tmin  \tmax  \tstd    \tavg     \n",
      "0  \t300   \t-5512\t-5294\t42.1117\t-5402.95\n",
      "1  \t257   \t-5476\t-5284\t32.6822\t-5368.37\n",
      "2  \t269   \t-5444\t-5266\t31.7653\t-5344.79\n",
      "3  \t259   \t-5434\t-5232\t31.8167\t-5322.93\n",
      "4  \t246   \t-5408\t-5224\t30.8005\t-5300.3 \n",
      "5  \t254   \t-5382\t-5198\t29.7721\t-5281.1 \n",
      "6  \t228   \t-5344\t-5180\t28.828 \t-5259.77\n",
      "7  \t248   \t-5356\t-5134\t32.4224\t-5239.94\n",
      "8  \t267   \t-5338\t-5132\t32.0669\t-5220.85\n",
      "9  \t244   \t-5312\t-5120\t30.9673\t-5203.4 \n",
      "10 \t248   \t-5310\t-5108\t31.9728\t-5187.76\n",
      "11 \t250   \t-5334\t-5068\t33.4324\t-5170.78\n",
      "12 \t247   \t-5282\t-5068\t36.2488\t-5152.7 \n",
      "13 \t258   \t-5244\t-5044\t34.9435\t-5133.41\n",
      "14 \t259   \t-5254\t-5028\t38.7415\t-5118.8 \n",
      "15 \t253   \t-5204\t-5016\t40.0826\t-5098.62\n",
      "16 \t238   \t-5214\t-4988\t40.6705\t-5077.08\n",
      "17 \t260   \t-5184\t-4986\t38.027 \t-5060.87\n",
      "18 \t240   \t-5162\t-4976\t34.2709\t-5043.51\n",
      "19 \t257   \t-5158\t-4962\t39.8143\t-5035.37\n",
      "20 \t236   \t-5150\t-4960\t39.19  \t-5022.17\n",
      "21 \t259   \t-5144\t-4946\t39.6921\t-5011.2 \n",
      "22 \t251   \t-5132\t-4942\t36.9479\t-4997.84\n",
      "23 \t230   \t-5118\t-4938\t35.3174\t-4985.23\n",
      "24 \t240   \t-5136\t-4928\t37.889 \t-4978.34\n",
      "25 \t253   \t-5122\t-4920\t41.6315\t-4974.53\n",
      "26 \t247   \t-5112\t-4916\t41.7091\t-4966.29\n",
      "27 \t255   \t-5114\t-4906\t38.2928\t-4955.54\n",
      "28 \t263   \t-5124\t-4902\t45.027 \t-4952.49\n",
      "29 \t259   \t-5084\t-4894\t39.2847\t-4941.94\n",
      "30 \t258   \t-5080\t-4886\t44.2153\t-4939.47\n",
      "31 \t267   \t-5080\t-4886\t46.71  \t-4935.71\n",
      "32 \t264   \t-5058\t-4878\t45.9271\t-4927.61\n",
      "33 \t264   \t-5080\t-4872\t44.5745\t-4920.09\n",
      "34 \t252   \t-5046\t-4870\t44.1849\t-4911.61\n",
      "35 \t248   \t-5088\t-4854\t44.7843\t-4907.06\n",
      "36 \t263   \t-5062\t-4856\t43.7907\t-4899.25\n",
      "37 \t247   \t-5046\t-4846\t44.391 \t-4894.42\n",
      "38 \t245   \t-5072\t-4842\t46.278 \t-4889.5 \n",
      "39 \t250   \t-5038\t-4838\t49.8615\t-4888.17\n",
      "40 \t253   \t-5046\t-4836\t45.8595\t-4877.39\n",
      "41 \t258   \t-5026\t-4826\t47.8092\t-4875.06\n",
      "42 \t258   \t-5070\t-4820\t50.3233\t-4871.19\n",
      "43 \t249   \t-5046\t-4816\t51.2451\t-4871.25\n",
      "44 \t250   \t-5012\t-4804\t52.9241\t-4866.34\n",
      "45 \t259   \t-5066\t-4804\t52.5916\t-4861.09\n",
      "46 \t255   \t-5018\t-4800\t48.8909\t-4850.26\n",
      "47 \t259   \t-5006\t-4798\t52.2363\t-4847.8 \n",
      "48 \t242   \t-5008\t-4796\t51.8933\t-4843.24\n",
      "49 \t260   \t-5004\t-4796\t57.4787\t-4849.32\n",
      "50 \t255   \t-4992\t-4792\t51.8373\t-4836.76\n",
      "51 \t252   \t-5010\t-4790\t50.0388\t-4828.71\n",
      "52 \t266   \t-4980\t-4788\t48.0406\t-4821.85\n",
      "53 \t254   \t-4986\t-4788\t48.9232\t-4820.93\n",
      "54 \t266   \t-5004\t-4788\t49.2368\t-4819.26\n",
      "55 \t246   \t-4976\t-4782\t43.618 \t-4811.12\n",
      "56 \t255   \t-4966\t-4782\t51.3433\t-4816.55\n",
      "57 \t254   \t-4976\t-4782\t48.5277\t-4812.75\n",
      "58 \t261   \t-4982\t-4774\t50.4745\t-4812.87\n",
      "59 \t241   \t-4972\t-4774\t45.4321\t-4805.21\n",
      "60 \t237   \t-4980\t-4768\t55.9089\t-4812.22\n",
      "61 \t257   \t-4956\t-4768\t53.2419\t-4807.61\n",
      "62 \t259   \t-4980\t-4766\t53.924 \t-4807.43\n",
      "63 \t249   \t-4978\t-4766\t56.7128\t-4809.48\n",
      "64 \t254   \t-4984\t-4766\t50.3997\t-4797.45\n",
      "65 \t241   \t-4938\t-4766\t49.3888\t-4796.04\n",
      "66 \t260   \t-4974\t-4764\t51.6835\t-4794.43\n",
      "67 \t240   \t-4980\t-4762\t52.2362\t-4794.81\n",
      "68 \t266   \t-4962\t-4762\t51.1189\t-4791.51\n",
      "69 \t260   \t-4950\t-4760\t53.3533\t-4791.54\n",
      "70 \t248   \t-4968\t-4758\t56.306 \t-4795.51\n",
      "71 \t256   \t-4964\t-4756\t60.5009\t-4799.59\n",
      "72 \t248   \t-4966\t-4756\t54.6737\t-4790.49\n",
      "73 \t263   \t-4972\t-4754\t57.7356\t-4792.57\n",
      "74 \t259   \t-4964\t-4750\t52.1578\t-4785.79\n",
      "75 \t245   \t-4946\t-4750\t54.0157\t-4787.15\n",
      "76 \t246   \t-4978\t-4750\t53.0257\t-4783.92\n",
      "77 \t268   \t-4946\t-4750\t51.1091\t-4778.39\n",
      "78 \t255   \t-4944\t-4750\t53.1733\t-4776.35\n",
      "79 \t255   \t-4966\t-4750\t51.4749\t-4774.95\n",
      "80 \t260   \t-4960\t-4750\t50.3483\t-4773.75\n",
      "Mejor solución es [29, 53, 19, 47, 28, 74, 36, 43, 13] con fitness (9415082,) y pen 2375\n"
     ]
    }
   ],
   "source": [
    "best_sol = tools.selBest(pop, k=1)[0]\n",
    "pen_best_sol = get_penalty(best_sol)\n",
    "\n",
    "print(f\"El resultado de la evolución es:\")\n",
    "print(logbook)\n",
    "print(\n",
    "    f\"Mejor solución es {best_sol[1:10]} con fitness {eval_ind(best_sol)} y pen {pen_best_sol}\")\n"
   ]
  },
  {
   "cell_type": "code",
   "execution_count": 90,
   "metadata": {},
   "outputs": [
    {
     "name": "stdout",
     "output_type": "stream",
     "text": [
      "Max value: 4750.0\n"
     ]
    },
    {
     "data": {
      "image/png": "[encoded data removed]",
      "image/svg+xml": "<?xml version=\"1.0\" encoding=\"utf-8\" standalone=\"no\"?>\r\n<!DOCTYPE svg PUBLIC \"-//W3C//DTD SVG 1.1//EN\"\r\n  \"http://www.w3.org/Graphics/SVG/1.1/DTD/svg11.dtd\">\r\n<!-- Created with matplotlib (https://matplotlib.org/) -->\r\n<svg height=\"264.131875pt\" version=\"1.1\" viewBox=\"0 0 405.643438 264.131875\" width=\"405.643438pt\" xmlns=\"http://www.w3.org/2000/svg\" xmlns:xlink=\"http://www.w3.org/1999/xlink\">\r\n <metadata>\r\n  <rdf:RDF xmlns:cc=\"http://creativecommons.org/ns#\" xmlns:dc=\"http://purl.org/dc/elements/1.1/\" xmlns:rdf=\"http://www.w3.org/1999/02/22-rdf-syntax-ns#\">\r\n   <cc:Work>\r\n    <dc:type rdf:resource=\"http://purl.org/dc/dcmitype/StillImage\"/>\r\n    <dc:date>2021-10-27T15:32:05.244009</dc:date>\r\n    <dc:format>image/svg+xml</dc:format>\r\n    <dc:creator>\r\n     <cc:Agent>\r\n      <dc:title>Matplotlib v3.3.2, https://matplotlib.org/</dc:title>\r\n     </cc:Agent>\r\n    </dc:creator>\r\n   </cc:Work>\r\n  </rdf:RDF>\r\n </metadata>\r\n <defs>\r\n  <style type=\"text/css\">*{stroke-linecap:butt;stroke-linejoin:round;}</style>\r\n </defs>\r\n <g id=\"figure_1\">\r\n  <g id=\"patch_1\">\r\n   <path d=\"M 0 264.131875 \r\nL 405.643438 264.131875 \r\nL 405.643438 0 \r\nL 0 0 \r\nz\r\n\" style=\"fill:#ffffff;\"/>\r\n  </g>\r\n  <g id=\"axes_1\">\r\n   <g id=\"patch_2\">\r\n    <path d=\"M 63.643438 106.036364 \r\nL 398.443438 106.036364 \r\nL 398.443438 7.2 \r\nL 63.643438 7.2 \r\nz\r\n\" style=\"fill:#e5e5e5;\"/>\r\n   </g>\r\n   <g id=\"matplotlib.axis_1\">\r\n    <g id=\"xtick_1\">\r\n     <g id=\"line2d_1\">\r\n      <path clip-path=\"url(#pfe0b2caba8)\" d=\"M 78.861619 106.036364 \r\nL 78.861619 7.2 \r\n\" style=\"fill:none;stroke:#ffffff;stroke-linecap:square;stroke-width:0.8;\"/>\r\n     </g>\r\n     <g id=\"line2d_2\">\r\n      <defs>\r\n       <path d=\"M 0 0 \r\nL 0 3.5 \r\n\" id=\"m7446b7cb0e\" style=\"stroke:#555555;stroke-width:0.8;\"/>\r\n      </defs>\r\n      <g>\r\n       <use style=\"fill:#555555;stroke:#555555;stroke-width:0.8;\" x=\"78.861619\" xlink:href=\"#m7446b7cb0e\" y=\"106.036364\"/>\r\n      </g>\r\n     </g>\r\n     <g id=\"text_1\">\r\n      <!-- 0 -->\r\n      <g style=\"fill:#555555;\" transform=\"translate(75.680369 120.634801)scale(0.1 -0.1)\">\r\n       <defs>\r\n        <path d=\"M 31.78125 66.40625 \r\nQ 24.171875 66.40625 20.328125 58.90625 \r\nQ 16.5 51.421875 16.5 36.375 \r\nQ 16.5 21.390625 20.328125 13.890625 \r\nQ 24.171875 6.390625 31.78125 6.390625 \r\nQ 39.453125 6.390625 43.28125 13.890625 \r\nQ 47.125 21.390625 47.125 36.375 \r\nQ 47.125 51.421875 43.28125 58.90625 \r\nQ 39.453125 66.40625 31.78125 66.40625 \r\nz\r\nM 31.78125 74.21875 \r\nQ 44.046875 74.21875 50.515625 64.515625 \r\nQ 56.984375 54.828125 56.984375 36.375 \r\nQ 56.984375 17.96875 50.515625 8.265625 \r\nQ 44.046875 -1.421875 31.78125 -1.421875 \r\nQ 19.53125 -1.421875 13.0625 8.265625 \r\nQ 6.59375 17.96875 6.59375 36.375 \r\nQ 6.59375 54.828125 13.0625 64.515625 \r\nQ 19.53125 74.21875 31.78125 74.21875 \r\nz\r\n\" id=\"DejaVuSans-48\"/>\r\n       </defs>\r\n       <use xlink:href=\"#DejaVuSans-48\"/>\r\n      </g>\r\n     </g>\r\n    </g>\r\n    <g id=\"xtick_2\">\r\n     <g id=\"line2d_3\">\r\n      <path clip-path=\"url(#pfe0b2caba8)\" d=\"M 116.907074 106.036364 \r\nL 116.907074 7.2 \r\n\" style=\"fill:none;stroke:#ffffff;stroke-linecap:square;stroke-width:0.8;\"/>\r\n     </g>\r\n     <g id=\"line2d_4\">\r\n      <g>\r\n       <use style=\"fill:#555555;stroke:#555555;stroke-width:0.8;\" x=\"116.907074\" xlink:href=\"#m7446b7cb0e\" y=\"106.036364\"/>\r\n      </g>\r\n     </g>\r\n     <g id=\"text_2\">\r\n      <!-- 10 -->\r\n      <g style=\"fill:#555555;\" transform=\"translate(110.544574 120.634801)scale(0.1 -0.1)\">\r\n       <defs>\r\n        <path d=\"M 12.40625 8.296875 \r\nL 28.515625 8.296875 \r\nL 28.515625 63.921875 \r\nL 10.984375 60.40625 \r\nL 10.984375 69.390625 \r\nL 28.421875 72.90625 \r\nL 38.28125 72.90625 \r\nL 38.28125 8.296875 \r\nL 54.390625 8.296875 \r\nL 54.390625 0 \r\nL 12.40625 0 \r\nz\r\n\" id=\"DejaVuSans-49\"/>\r\n       </defs>\r\n       <use xlink:href=\"#DejaVuSans-49\"/>\r\n       <use x=\"63.623047\" xlink:href=\"#DejaVuSans-48\"/>\r\n      </g>\r\n     </g>\r\n    </g>\r\n    <g id=\"xtick_3\">\r\n     <g id=\"line2d_5\">\r\n      <path clip-path=\"url(#pfe0b2caba8)\" d=\"M 154.952528 106.036364 \r\nL 154.952528 7.2 \r\n\" style=\"fill:none;stroke:#ffffff;stroke-linecap:square;stroke-width:0.8;\"/>\r\n     </g>\r\n     <g id=\"line2d_6\">\r\n      <g>\r\n       <use style=\"fill:#555555;stroke:#555555;stroke-width:0.8;\" x=\"154.952528\" xlink:href=\"#m7446b7cb0e\" y=\"106.036364\"/>\r\n      </g>\r\n     </g>\r\n     <g id=\"text_3\">\r\n      <!-- 20 -->\r\n      <g style=\"fill:#555555;\" transform=\"translate(148.590028 120.634801)scale(0.1 -0.1)\">\r\n       <defs>\r\n        <path d=\"M 19.1875 8.296875 \r\nL 53.609375 8.296875 \r\nL 53.609375 0 \r\nL 7.328125 0 \r\nL 7.328125 8.296875 \r\nQ 12.9375 14.109375 22.625 23.890625 \r\nQ 32.328125 33.6875 34.8125 36.53125 \r\nQ 39.546875 41.84375 41.421875 45.53125 \r\nQ 43.3125 49.21875 43.3125 52.78125 \r\nQ 43.3125 58.59375 39.234375 62.25 \r\nQ 35.15625 65.921875 28.609375 65.921875 \r\nQ 23.96875 65.921875 18.8125 64.3125 \r\nQ 13.671875 62.703125 7.8125 59.421875 \r\nL 7.8125 69.390625 \r\nQ 13.765625 71.78125 18.9375 73 \r\nQ 24.125 74.21875 28.421875 74.21875 \r\nQ 39.75 74.21875 46.484375 68.546875 \r\nQ 53.21875 62.890625 53.21875 53.421875 \r\nQ 53.21875 48.921875 51.53125 44.890625 \r\nQ 49.859375 40.875 45.40625 35.40625 \r\nQ 44.1875 33.984375 37.640625 27.21875 \r\nQ 31.109375 20.453125 19.1875 8.296875 \r\nz\r\n\" id=\"DejaVuSans-50\"/>\r\n       </defs>\r\n       <use xlink:href=\"#DejaVuSans-50\"/>\r\n       <use x=\"63.623047\" xlink:href=\"#DejaVuSans-48\"/>\r\n      </g>\r\n     </g>\r\n    </g>\r\n    <g id=\"xtick_4\">\r\n     <g id=\"line2d_7\">\r\n      <path clip-path=\"url(#pfe0b2caba8)\" d=\"M 192.997983 106.036364 \r\nL 192.997983 7.2 \r\n\" style=\"fill:none;stroke:#ffffff;stroke-linecap:square;stroke-width:0.8;\"/>\r\n     </g>\r\n     <g id=\"line2d_8\">\r\n      <g>\r\n       <use style=\"fill:#555555;stroke:#555555;stroke-width:0.8;\" x=\"192.997983\" xlink:href=\"#m7446b7cb0e\" y=\"106.036364\"/>\r\n      </g>\r\n     </g>\r\n     <g id=\"text_4\">\r\n      <!-- 30 -->\r\n      <g style=\"fill:#555555;\" transform=\"translate(186.635483 120.634801)scale(0.1 -0.1)\">\r\n       <defs>\r\n        <path d=\"M 40.578125 39.3125 \r\nQ 47.65625 37.796875 51.625 33 \r\nQ 55.609375 28.21875 55.609375 21.1875 \r\nQ 55.609375 10.40625 48.1875 4.484375 \r\nQ 40.765625 -1.421875 27.09375 -1.421875 \r\nQ 22.515625 -1.421875 17.65625 -0.515625 \r\nQ 12.796875 0.390625 7.625 2.203125 \r\nL 7.625 11.71875 \r\nQ 11.71875 9.328125 16.59375 8.109375 \r\nQ 21.484375 6.890625 26.8125 6.890625 \r\nQ 36.078125 6.890625 40.9375 10.546875 \r\nQ 45.796875 14.203125 45.796875 21.1875 \r\nQ 45.796875 27.640625 41.28125 31.265625 \r\nQ 36.765625 34.90625 28.71875 34.90625 \r\nL 20.21875 34.90625 \r\nL 20.21875 43.015625 \r\nL 29.109375 43.015625 \r\nQ 36.375 43.015625 40.234375 45.921875 \r\nQ 44.09375 48.828125 44.09375 54.296875 \r\nQ 44.09375 59.90625 40.109375 62.90625 \r\nQ 36.140625 65.921875 28.71875 65.921875 \r\nQ 24.65625 65.921875 20.015625 65.03125 \r\nQ 15.375 64.15625 9.8125 62.3125 \r\nL 9.8125 71.09375 \r\nQ 15.4375 72.65625 20.34375 73.4375 \r\nQ 25.25 74.21875 29.59375 74.21875 \r\nQ 40.828125 74.21875 47.359375 69.109375 \r\nQ 53.90625 64.015625 53.90625 55.328125 \r\nQ 53.90625 49.265625 50.4375 45.09375 \r\nQ 46.96875 40.921875 40.578125 39.3125 \r\nz\r\n\" id=\"DejaVuSans-51\"/>\r\n       </defs>\r\n       <use xlink:href=\"#DejaVuSans-51\"/>\r\n       <use x=\"63.623047\" xlink:href=\"#DejaVuSans-48\"/>\r\n      </g>\r\n     </g>\r\n    </g>\r\n    <g id=\"xtick_5\">\r\n     <g id=\"line2d_9\">\r\n      <path clip-path=\"url(#pfe0b2caba8)\" d=\"M 231.043438 106.036364 \r\nL 231.043438 7.2 \r\n\" style=\"fill:none;stroke:#ffffff;stroke-linecap:square;stroke-width:0.8;\"/>\r\n     </g>\r\n     <g id=\"line2d_10\">\r\n      <g>\r\n       <use style=\"fill:#555555;stroke:#555555;stroke-width:0.8;\" x=\"231.043438\" xlink:href=\"#m7446b7cb0e\" y=\"106.036364\"/>\r\n      </g>\r\n     </g>\r\n     <g id=\"text_5\">\r\n      <!-- 40 -->\r\n      <g style=\"fill:#555555;\" transform=\"translate(224.680937 120.634801)scale(0.1 -0.1)\">\r\n       <defs>\r\n        <path d=\"M 37.796875 64.3125 \r\nL 12.890625 25.390625 \r\nL 37.796875 25.390625 \r\nz\r\nM 35.203125 72.90625 \r\nL 47.609375 72.90625 \r\nL 47.609375 25.390625 \r\nL 58.015625 25.390625 \r\nL 58.015625 17.1875 \r\nL 47.609375 17.1875 \r\nL 47.609375 0 \r\nL 37.796875 0 \r\nL 37.796875 17.1875 \r\nL 4.890625 17.1875 \r\nL 4.890625 26.703125 \r\nz\r\n\" id=\"DejaVuSans-52\"/>\r\n       </defs>\r\n       <use xlink:href=\"#DejaVuSans-52\"/>\r\n       <use x=\"63.623047\" xlink:href=\"#DejaVuSans-48\"/>\r\n      </g>\r\n     </g>\r\n    </g>\r\n    <g id=\"xtick_6\">\r\n     <g id=\"line2d_11\">\r\n      <path clip-path=\"url(#pfe0b2caba8)\" d=\"M 269.088892 106.036364 \r\nL 269.088892 7.2 \r\n\" style=\"fill:none;stroke:#ffffff;stroke-linecap:square;stroke-width:0.8;\"/>\r\n     </g>\r\n     <g id=\"line2d_12\">\r\n      <g>\r\n       <use style=\"fill:#555555;stroke:#555555;stroke-width:0.8;\" x=\"269.088892\" xlink:href=\"#m7446b7cb0e\" y=\"106.036364\"/>\r\n      </g>\r\n     </g>\r\n     <g id=\"text_6\">\r\n      <!-- 50 -->\r\n      <g style=\"fill:#555555;\" transform=\"translate(262.726392 120.634801)scale(0.1 -0.1)\">\r\n       <defs>\r\n        <path d=\"M 10.796875 72.90625 \r\nL 49.515625 72.90625 \r\nL 49.515625 64.59375 \r\nL 19.828125 64.59375 \r\nL 19.828125 46.734375 \r\nQ 21.96875 47.46875 24.109375 47.828125 \r\nQ 26.265625 48.1875 28.421875 48.1875 \r\nQ 40.625 48.1875 47.75 41.5 \r\nQ 54.890625 34.8125 54.890625 23.390625 \r\nQ 54.890625 11.625 47.5625 5.09375 \r\nQ 40.234375 -1.421875 26.90625 -1.421875 \r\nQ 22.3125 -1.421875 17.546875 -0.640625 \r\nQ 12.796875 0.140625 7.71875 1.703125 \r\nL 7.71875 11.625 \r\nQ 12.109375 9.234375 16.796875 8.0625 \r\nQ 21.484375 6.890625 26.703125 6.890625 \r\nQ 35.15625 6.890625 40.078125 11.328125 \r\nQ 45.015625 15.765625 45.015625 23.390625 \r\nQ 45.015625 31 40.078125 35.4375 \r\nQ 35.15625 39.890625 26.703125 39.890625 \r\nQ 22.75 39.890625 18.8125 39.015625 \r\nQ 14.890625 38.140625 10.796875 36.28125 \r\nz\r\n\" id=\"DejaVuSans-53\"/>\r\n       </defs>\r\n       <use xlink:href=\"#DejaVuSans-53\"/>\r\n       <use x=\"63.623047\" xlink:href=\"#DejaVuSans-48\"/>\r\n      </g>\r\n     </g>\r\n    </g>\r\n    <g id=\"xtick_7\">\r\n     <g id=\"line2d_13\">\r\n      <path clip-path=\"url(#pfe0b2caba8)\" d=\"M 307.134347 106.036364 \r\nL 307.134347 7.2 \r\n\" style=\"fill:none;stroke:#ffffff;stroke-linecap:square;stroke-width:0.8;\"/>\r\n     </g>\r\n     <g id=\"line2d_14\">\r\n      <g>\r\n       <use style=\"fill:#555555;stroke:#555555;stroke-width:0.8;\" x=\"307.134347\" xlink:href=\"#m7446b7cb0e\" y=\"106.036364\"/>\r\n      </g>\r\n     </g>\r\n     <g id=\"text_7\">\r\n      <!-- 60 -->\r\n      <g style=\"fill:#555555;\" transform=\"translate(300.771847 120.634801)scale(0.1 -0.1)\">\r\n       <defs>\r\n        <path d=\"M 33.015625 40.375 \r\nQ 26.375 40.375 22.484375 35.828125 \r\nQ 18.609375 31.296875 18.609375 23.390625 \r\nQ 18.609375 15.53125 22.484375 10.953125 \r\nQ 26.375 6.390625 33.015625 6.390625 \r\nQ 39.65625 6.390625 43.53125 10.953125 \r\nQ 47.40625 15.53125 47.40625 23.390625 \r\nQ 47.40625 31.296875 43.53125 35.828125 \r\nQ 39.65625 40.375 33.015625 40.375 \r\nz\r\nM 52.59375 71.296875 \r\nL 52.59375 62.3125 \r\nQ 48.875 64.0625 45.09375 64.984375 \r\nQ 41.3125 65.921875 37.59375 65.921875 \r\nQ 27.828125 65.921875 22.671875 59.328125 \r\nQ 17.53125 52.734375 16.796875 39.40625 \r\nQ 19.671875 43.65625 24.015625 45.921875 \r\nQ 28.375 48.1875 33.59375 48.1875 \r\nQ 44.578125 48.1875 50.953125 41.515625 \r\nQ 57.328125 34.859375 57.328125 23.390625 \r\nQ 57.328125 12.15625 50.6875 5.359375 \r\nQ 44.046875 -1.421875 33.015625 -1.421875 \r\nQ 20.359375 -1.421875 13.671875 8.265625 \r\nQ 6.984375 17.96875 6.984375 36.375 \r\nQ 6.984375 53.65625 15.1875 63.9375 \r\nQ 23.390625 74.21875 37.203125 74.21875 \r\nQ 40.921875 74.21875 44.703125 73.484375 \r\nQ 48.484375 72.75 52.59375 71.296875 \r\nz\r\n\" id=\"DejaVuSans-54\"/>\r\n       </defs>\r\n       <use xlink:href=\"#DejaVuSans-54\"/>\r\n       <use x=\"63.623047\" xlink:href=\"#DejaVuSans-48\"/>\r\n      </g>\r\n     </g>\r\n    </g>\r\n    <g id=\"xtick_8\">\r\n     <g id=\"line2d_15\">\r\n      <path clip-path=\"url(#pfe0b2caba8)\" d=\"M 345.179801 106.036364 \r\nL 345.179801 7.2 \r\n\" style=\"fill:none;stroke:#ffffff;stroke-linecap:square;stroke-width:0.8;\"/>\r\n     </g>\r\n     <g id=\"line2d_16\">\r\n      <g>\r\n       <use style=\"fill:#555555;stroke:#555555;stroke-width:0.8;\" x=\"345.179801\" xlink:href=\"#m7446b7cb0e\" y=\"106.036364\"/>\r\n      </g>\r\n     </g>\r\n     <g id=\"text_8\">\r\n      <!-- 70 -->\r\n      <g style=\"fill:#555555;\" transform=\"translate(338.817301 120.634801)scale(0.1 -0.1)\">\r\n       <defs>\r\n        <path d=\"M 8.203125 72.90625 \r\nL 55.078125 72.90625 \r\nL 55.078125 68.703125 \r\nL 28.609375 0 \r\nL 18.3125 0 \r\nL 43.21875 64.59375 \r\nL 8.203125 64.59375 \r\nz\r\n\" id=\"DejaVuSans-55\"/>\r\n       </defs>\r\n       <use xlink:href=\"#DejaVuSans-55\"/>\r\n       <use x=\"63.623047\" xlink:href=\"#DejaVuSans-48\"/>\r\n      </g>\r\n     </g>\r\n    </g>\r\n    <g id=\"xtick_9\">\r\n     <g id=\"line2d_17\">\r\n      <path clip-path=\"url(#pfe0b2caba8)\" d=\"M 383.225256 106.036364 \r\nL 383.225256 7.2 \r\n\" style=\"fill:none;stroke:#ffffff;stroke-linecap:square;stroke-width:0.8;\"/>\r\n     </g>\r\n     <g id=\"line2d_18\">\r\n      <g>\r\n       <use style=\"fill:#555555;stroke:#555555;stroke-width:0.8;\" x=\"383.225256\" xlink:href=\"#m7446b7cb0e\" y=\"106.036364\"/>\r\n      </g>\r\n     </g>\r\n     <g id=\"text_9\">\r\n      <!-- 80 -->\r\n      <g style=\"fill:#555555;\" transform=\"translate(376.862756 120.634801)scale(0.1 -0.1)\">\r\n       <defs>\r\n        <path d=\"M 31.78125 34.625 \r\nQ 24.75 34.625 20.71875 30.859375 \r\nQ 16.703125 27.09375 16.703125 20.515625 \r\nQ 16.703125 13.921875 20.71875 10.15625 \r\nQ 24.75 6.390625 31.78125 6.390625 \r\nQ 38.8125 6.390625 42.859375 10.171875 \r\nQ 46.921875 13.96875 46.921875 20.515625 \r\nQ 46.921875 27.09375 42.890625 30.859375 \r\nQ 38.875 34.625 31.78125 34.625 \r\nz\r\nM 21.921875 38.8125 \r\nQ 15.578125 40.375 12.03125 44.71875 \r\nQ 8.5 49.078125 8.5 55.328125 \r\nQ 8.5 64.0625 14.71875 69.140625 \r\nQ 20.953125 74.21875 31.78125 74.21875 \r\nQ 42.671875 74.21875 48.875 69.140625 \r\nQ 55.078125 64.0625 55.078125 55.328125 \r\nQ 55.078125 49.078125 51.53125 44.71875 \r\nQ 48 40.375 41.703125 38.8125 \r\nQ 48.828125 37.15625 52.796875 32.3125 \r\nQ 56.78125 27.484375 56.78125 20.515625 \r\nQ 56.78125 9.90625 50.3125 4.234375 \r\nQ 43.84375 -1.421875 31.78125 -1.421875 \r\nQ 19.734375 -1.421875 13.25 4.234375 \r\nQ 6.78125 9.90625 6.78125 20.515625 \r\nQ 6.78125 27.484375 10.78125 32.3125 \r\nQ 14.796875 37.15625 21.921875 38.8125 \r\nz\r\nM 18.3125 54.390625 \r\nQ 18.3125 48.734375 21.84375 45.5625 \r\nQ 25.390625 42.390625 31.78125 42.390625 \r\nQ 38.140625 42.390625 41.71875 45.5625 \r\nQ 45.3125 48.734375 45.3125 54.390625 \r\nQ 45.3125 60.0625 41.71875 63.234375 \r\nQ 38.140625 66.40625 31.78125 66.40625 \r\nQ 25.390625 66.40625 21.84375 63.234375 \r\nQ 18.3125 60.0625 18.3125 54.390625 \r\nz\r\n\" id=\"DejaVuSans-56\"/>\r\n       </defs>\r\n       <use xlink:href=\"#DejaVuSans-56\"/>\r\n       <use x=\"63.623047\" xlink:href=\"#DejaVuSans-48\"/>\r\n      </g>\r\n     </g>\r\n    </g>\r\n    <g id=\"text_10\">\r\n     <!-- Generation -->\r\n     <g style=\"fill:#555555;\" transform=\"translate(197.571875 135.832614)scale(0.12 -0.12)\">\r\n      <defs>\r\n       <path d=\"M 59.515625 10.40625 \r\nL 59.515625 29.984375 \r\nL 43.40625 29.984375 \r\nL 43.40625 38.09375 \r\nL 69.28125 38.09375 \r\nL 69.28125 6.78125 \r\nQ 63.578125 2.734375 56.6875 0.65625 \r\nQ 49.8125 -1.421875 42 -1.421875 \r\nQ 24.90625 -1.421875 15.25 8.5625 \r\nQ 5.609375 18.5625 5.609375 36.375 \r\nQ 5.609375 54.25 15.25 64.234375 \r\nQ 24.90625 74.21875 42 74.21875 \r\nQ 49.125 74.21875 55.546875 72.453125 \r\nQ 61.96875 70.703125 67.390625 67.28125 \r\nL 67.390625 56.78125 \r\nQ 61.921875 61.421875 55.765625 63.765625 \r\nQ 49.609375 66.109375 42.828125 66.109375 \r\nQ 29.4375 66.109375 22.71875 58.640625 \r\nQ 16.015625 51.171875 16.015625 36.375 \r\nQ 16.015625 21.625 22.71875 14.15625 \r\nQ 29.4375 6.6875 42.828125 6.6875 \r\nQ 48.046875 6.6875 52.140625 7.59375 \r\nQ 56.25 8.5 59.515625 10.40625 \r\nz\r\n\" id=\"DejaVuSans-71\"/>\r\n       <path d=\"M 56.203125 29.59375 \r\nL 56.203125 25.203125 \r\nL 14.890625 25.203125 \r\nQ 15.484375 15.921875 20.484375 11.0625 \r\nQ 25.484375 6.203125 34.421875 6.203125 \r\nQ 39.59375 6.203125 44.453125 7.46875 \r\nQ 49.3125 8.734375 54.109375 11.28125 \r\nL 54.109375 2.78125 \r\nQ 49.265625 0.734375 44.1875 -0.34375 \r\nQ 39.109375 -1.421875 33.890625 -1.421875 \r\nQ 20.796875 -1.421875 13.15625 6.1875 \r\nQ 5.515625 13.8125 5.515625 26.8125 \r\nQ 5.515625 40.234375 12.765625 48.109375 \r\nQ 20.015625 56 32.328125 56 \r\nQ 43.359375 56 49.78125 48.890625 \r\nQ 56.203125 41.796875 56.203125 29.59375 \r\nz\r\nM 47.21875 32.234375 \r\nQ 47.125 39.59375 43.09375 43.984375 \r\nQ 39.0625 48.390625 32.421875 48.390625 \r\nQ 24.90625 48.390625 20.390625 44.140625 \r\nQ 15.875 39.890625 15.1875 32.171875 \r\nz\r\n\" id=\"DejaVuSans-101\"/>\r\n       <path d=\"M 54.890625 33.015625 \r\nL 54.890625 0 \r\nL 45.90625 0 \r\nL 45.90625 32.71875 \r\nQ 45.90625 40.484375 42.875 44.328125 \r\nQ 39.84375 48.1875 33.796875 48.1875 \r\nQ 26.515625 48.1875 22.3125 43.546875 \r\nQ 18.109375 38.921875 18.109375 30.90625 \r\nL 18.109375 0 \r\nL 9.078125 0 \r\nL 9.078125 54.6875 \r\nL 18.109375 54.6875 \r\nL 18.109375 46.1875 \r\nQ 21.34375 51.125 25.703125 53.5625 \r\nQ 30.078125 56 35.796875 56 \r\nQ 45.21875 56 50.046875 50.171875 \r\nQ 54.890625 44.34375 54.890625 33.015625 \r\nz\r\n\" id=\"DejaVuSans-110\"/>\r\n       <path d=\"M 41.109375 46.296875 \r\nQ 39.59375 47.171875 37.8125 47.578125 \r\nQ 36.03125 48 33.890625 48 \r\nQ 26.265625 48 22.1875 43.046875 \r\nQ 18.109375 38.09375 18.109375 28.8125 \r\nL 18.109375 0 \r\nL 9.078125 0 \r\nL 9.078125 54.6875 \r\nL 18.109375 54.6875 \r\nL 18.109375 46.1875 \r\nQ 20.953125 51.171875 25.484375 53.578125 \r\nQ 30.03125 56 36.53125 56 \r\nQ 37.453125 56 38.578125 55.875 \r\nQ 39.703125 55.765625 41.0625 55.515625 \r\nz\r\n\" id=\"DejaVuSans-114\"/>\r\n       <path d=\"M 34.28125 27.484375 \r\nQ 23.390625 27.484375 19.1875 25 \r\nQ 14.984375 22.515625 14.984375 16.5 \r\nQ 14.984375 11.71875 18.140625 8.90625 \r\nQ 21.296875 6.109375 26.703125 6.109375 \r\nQ 34.1875 6.109375 38.703125 11.40625 \r\nQ 43.21875 16.703125 43.21875 25.484375 \r\nL 43.21875 27.484375 \r\nz\r\nM 52.203125 31.203125 \r\nL 52.203125 0 \r\nL 43.21875 0 \r\nL 43.21875 8.296875 \r\nQ 40.140625 3.328125 35.546875 0.953125 \r\nQ 30.953125 -1.421875 24.3125 -1.421875 \r\nQ 15.921875 -1.421875 10.953125 3.296875 \r\nQ 6 8.015625 6 15.921875 \r\nQ 6 25.140625 12.171875 29.828125 \r\nQ 18.359375 34.515625 30.609375 34.515625 \r\nL 43.21875 34.515625 \r\nL 43.21875 35.40625 \r\nQ 43.21875 41.609375 39.140625 45 \r\nQ 35.0625 48.390625 27.6875 48.390625 \r\nQ 23 48.390625 18.546875 47.265625 \r\nQ 14.109375 46.140625 10.015625 43.890625 \r\nL 10.015625 52.203125 \r\nQ 14.9375 54.109375 19.578125 55.046875 \r\nQ 24.21875 56 28.609375 56 \r\nQ 40.484375 56 46.34375 49.84375 \r\nQ 52.203125 43.703125 52.203125 31.203125 \r\nz\r\n\" id=\"DejaVuSans-97\"/>\r\n       <path d=\"M 18.3125 70.21875 \r\nL 18.3125 54.6875 \r\nL 36.8125 54.6875 \r\nL 36.8125 47.703125 \r\nL 18.3125 47.703125 \r\nL 18.3125 18.015625 \r\nQ 18.3125 11.328125 20.140625 9.421875 \r\nQ 21.96875 7.515625 27.59375 7.515625 \r\nL 36.8125 7.515625 \r\nL 36.8125 0 \r\nL 27.59375 0 \r\nQ 17.1875 0 13.234375 3.875 \r\nQ 9.28125 7.765625 9.28125 18.015625 \r\nL 9.28125 47.703125 \r\nL 2.6875 47.703125 \r\nL 2.6875 54.6875 \r\nL 9.28125 54.6875 \r\nL 9.28125 70.21875 \r\nz\r\n\" id=\"DejaVuSans-116\"/>\r\n       <path d=\"M 9.421875 54.6875 \r\nL 18.40625 54.6875 \r\nL 18.40625 0 \r\nL 9.421875 0 \r\nz\r\nM 9.421875 75.984375 \r\nL 18.40625 75.984375 \r\nL 18.40625 64.59375 \r\nL 9.421875 64.59375 \r\nz\r\n\" id=\"DejaVuSans-105\"/>\r\n       <path d=\"M 30.609375 48.390625 \r\nQ 23.390625 48.390625 19.1875 42.75 \r\nQ 14.984375 37.109375 14.984375 27.296875 \r\nQ 14.984375 17.484375 19.15625 11.84375 \r\nQ 23.34375 6.203125 30.609375 6.203125 \r\nQ 37.796875 6.203125 41.984375 11.859375 \r\nQ 46.1875 17.53125 46.1875 27.296875 \r\nQ 46.1875 37.015625 41.984375 42.703125 \r\nQ 37.796875 48.390625 30.609375 48.390625 \r\nz\r\nM 30.609375 56 \r\nQ 42.328125 56 49.015625 48.375 \r\nQ 55.71875 40.765625 55.71875 27.296875 \r\nQ 55.71875 13.875 49.015625 6.21875 \r\nQ 42.328125 -1.421875 30.609375 -1.421875 \r\nQ 18.84375 -1.421875 12.171875 6.21875 \r\nQ 5.515625 13.875 5.515625 27.296875 \r\nQ 5.515625 40.765625 12.171875 48.375 \r\nQ 18.84375 56 30.609375 56 \r\nz\r\n\" id=\"DejaVuSans-111\"/>\r\n      </defs>\r\n      <use xlink:href=\"#DejaVuSans-71\"/>\r\n      <use x=\"77.490234\" xlink:href=\"#DejaVuSans-101\"/>\r\n      <use x=\"139.013672\" xlink:href=\"#DejaVuSans-110\"/>\r\n      <use x=\"202.392578\" xlink:href=\"#DejaVuSans-101\"/>\r\n      <use x=\"263.916016\" xlink:href=\"#DejaVuSans-114\"/>\r\n      <use x=\"305.029297\" xlink:href=\"#DejaVuSans-97\"/>\r\n      <use x=\"366.308594\" xlink:href=\"#DejaVuSans-116\"/>\r\n      <use x=\"405.517578\" xlink:href=\"#DejaVuSans-105\"/>\r\n      <use x=\"433.300781\" xlink:href=\"#DejaVuSans-111\"/>\r\n      <use x=\"494.482422\" xlink:href=\"#DejaVuSans-110\"/>\r\n     </g>\r\n    </g>\r\n   </g>\r\n   <g id=\"matplotlib.axis_2\">\r\n    <g id=\"ytick_1\">\r\n     <g id=\"line2d_19\">\r\n      <path clip-path=\"url(#pfe0b2caba8)\" d=\"M 63.643438 100.128822 \r\nL 398.443438 100.128822 \r\n\" style=\"fill:none;stroke:#ffffff;stroke-linecap:square;stroke-width:0.8;\"/>\r\n     </g>\r\n     <g id=\"line2d_20\">\r\n      <defs>\r\n       <path d=\"M 0 0 \r\nL -3.5 0 \r\n\" id=\"m80f3360758\" style=\"stroke:#555555;stroke-width:0.8;\"/>\r\n      </defs>\r\n      <g>\r\n       <use style=\"fill:#555555;stroke:#555555;stroke-width:0.8;\" x=\"63.643438\" xlink:href=\"#m80f3360758\" y=\"100.128822\"/>\r\n      </g>\r\n     </g>\r\n     <g id=\"text_11\">\r\n      <!-- −5500 -->\r\n      <g style=\"fill:#555555;\" transform=\"translate(22.81375 103.92804)scale(0.1 -0.1)\">\r\n       <defs>\r\n        <path d=\"M 10.59375 35.5 \r\nL 73.1875 35.5 \r\nL 73.1875 27.203125 \r\nL 10.59375 27.203125 \r\nz\r\n\" id=\"DejaVuSans-8722\"/>\r\n       </defs>\r\n       <use xlink:href=\"#DejaVuSans-8722\"/>\r\n       <use x=\"83.789062\" xlink:href=\"#DejaVuSans-53\"/>\r\n       <use x=\"147.412109\" xlink:href=\"#DejaVuSans-53\"/>\r\n       <use x=\"211.035156\" xlink:href=\"#DejaVuSans-48\"/>\r\n       <use x=\"274.658203\" xlink:href=\"#DejaVuSans-48\"/>\r\n      </g>\r\n     </g>\r\n    </g>\r\n    <g id=\"ytick_2\">\r\n     <g id=\"line2d_21\">\r\n      <path clip-path=\"url(#pfe0b2caba8)\" d=\"M 63.643438 70.650068 \r\nL 398.443438 70.650068 \r\n\" style=\"fill:none;stroke:#ffffff;stroke-linecap:square;stroke-width:0.8;\"/>\r\n     </g>\r\n     <g id=\"line2d_22\">\r\n      <g>\r\n       <use style=\"fill:#555555;stroke:#555555;stroke-width:0.8;\" x=\"63.643438\" xlink:href=\"#m80f3360758\" y=\"70.650068\"/>\r\n      </g>\r\n     </g>\r\n     <g id=\"text_12\">\r\n      <!-- −5250 -->\r\n      <g style=\"fill:#555555;\" transform=\"translate(22.81375 74.449287)scale(0.1 -0.1)\">\r\n       <use xlink:href=\"#DejaVuSans-8722\"/>\r\n       <use x=\"83.789062\" xlink:href=\"#DejaVuSans-53\"/>\r\n       <use x=\"147.412109\" xlink:href=\"#DejaVuSans-50\"/>\r\n       <use x=\"211.035156\" xlink:href=\"#DejaVuSans-53\"/>\r\n       <use x=\"274.658203\" xlink:href=\"#DejaVuSans-48\"/>\r\n      </g>\r\n     </g>\r\n    </g>\r\n    <g id=\"ytick_3\">\r\n     <g id=\"line2d_23\">\r\n      <path clip-path=\"url(#pfe0b2caba8)\" d=\"M 63.643438 41.171315 \r\nL 398.443438 41.171315 \r\n\" style=\"fill:none;stroke:#ffffff;stroke-linecap:square;stroke-width:0.8;\"/>\r\n     </g>\r\n     <g id=\"line2d_24\">\r\n      <g>\r\n       <use style=\"fill:#555555;stroke:#555555;stroke-width:0.8;\" x=\"63.643438\" xlink:href=\"#m80f3360758\" y=\"41.171315\"/>\r\n      </g>\r\n     </g>\r\n     <g id=\"text_13\">\r\n      <!-- −5000 -->\r\n      <g style=\"fill:#555555;\" transform=\"translate(22.81375 44.970534)scale(0.1 -0.1)\">\r\n       <use xlink:href=\"#DejaVuSans-8722\"/>\r\n       <use x=\"83.789062\" xlink:href=\"#DejaVuSans-53\"/>\r\n       <use x=\"147.412109\" xlink:href=\"#DejaVuSans-48\"/>\r\n       <use x=\"211.035156\" xlink:href=\"#DejaVuSans-48\"/>\r\n       <use x=\"274.658203\" xlink:href=\"#DejaVuSans-48\"/>\r\n      </g>\r\n     </g>\r\n    </g>\r\n    <g id=\"ytick_4\">\r\n     <g id=\"line2d_25\">\r\n      <path clip-path=\"url(#pfe0b2caba8)\" d=\"M 63.643438 11.692562 \r\nL 398.443438 11.692562 \r\n\" style=\"fill:none;stroke:#ffffff;stroke-linecap:square;stroke-width:0.8;\"/>\r\n     </g>\r\n     <g id=\"line2d_26\">\r\n      <g>\r\n       <use style=\"fill:#555555;stroke:#555555;stroke-width:0.8;\" x=\"63.643438\" xlink:href=\"#m80f3360758\" y=\"11.692562\"/>\r\n      </g>\r\n     </g>\r\n     <g id=\"text_14\">\r\n      <!-- −4750 -->\r\n      <g style=\"fill:#555555;\" transform=\"translate(22.81375 15.491781)scale(0.1 -0.1)\">\r\n       <use xlink:href=\"#DejaVuSans-8722\"/>\r\n       <use x=\"83.789062\" xlink:href=\"#DejaVuSans-52\"/>\r\n       <use x=\"147.412109\" xlink:href=\"#DejaVuSans-55\"/>\r\n       <use x=\"211.035156\" xlink:href=\"#DejaVuSans-53\"/>\r\n       <use x=\"274.658203\" xlink:href=\"#DejaVuSans-48\"/>\r\n      </g>\r\n     </g>\r\n    </g>\r\n    <g id=\"text_15\">\r\n     <!-- Fitness - Penalty -->\r\n     <g style=\"fill:#0000ff;\" transform=\"translate(16.318125 105.519119)rotate(-90)scale(0.12 -0.12)\">\r\n      <defs>\r\n       <path d=\"M 9.8125 72.90625 \r\nL 51.703125 72.90625 \r\nL 51.703125 64.59375 \r\nL 19.671875 64.59375 \r\nL 19.671875 43.109375 \r\nL 48.578125 43.109375 \r\nL 48.578125 34.8125 \r\nL 19.671875 34.8125 \r\nL 19.671875 0 \r\nL 9.8125 0 \r\nz\r\n\" id=\"DejaVuSans-70\"/>\r\n       <path d=\"M 44.28125 53.078125 \r\nL 44.28125 44.578125 \r\nQ 40.484375 46.53125 36.375 47.5 \r\nQ 32.28125 48.484375 27.875 48.484375 \r\nQ 21.1875 48.484375 17.84375 46.4375 \r\nQ 14.5 44.390625 14.5 40.28125 \r\nQ 14.5 37.15625 16.890625 35.375 \r\nQ 19.28125 33.59375 26.515625 31.984375 \r\nL 29.59375 31.296875 \r\nQ 39.15625 29.25 43.1875 25.515625 \r\nQ 47.21875 21.78125 47.21875 15.09375 \r\nQ 47.21875 7.46875 41.1875 3.015625 \r\nQ 35.15625 -1.421875 24.609375 -1.421875 \r\nQ 20.21875 -1.421875 15.453125 -0.5625 \r\nQ 10.6875 0.296875 5.421875 2 \r\nL 5.421875 11.28125 \r\nQ 10.40625 8.6875 15.234375 7.390625 \r\nQ 20.0625 6.109375 24.8125 6.109375 \r\nQ 31.15625 6.109375 34.5625 8.28125 \r\nQ 37.984375 10.453125 37.984375 14.40625 \r\nQ 37.984375 18.0625 35.515625 20.015625 \r\nQ 33.0625 21.96875 24.703125 23.78125 \r\nL 21.578125 24.515625 \r\nQ 13.234375 26.265625 9.515625 29.90625 \r\nQ 5.8125 33.546875 5.8125 39.890625 \r\nQ 5.8125 47.609375 11.28125 51.796875 \r\nQ 16.75 56 26.8125 56 \r\nQ 31.78125 56 36.171875 55.265625 \r\nQ 40.578125 54.546875 44.28125 53.078125 \r\nz\r\n\" id=\"DejaVuSans-115\"/>\r\n       <path id=\"DejaVuSans-32\"/>\r\n       <path d=\"M 4.890625 31.390625 \r\nL 31.203125 31.390625 \r\nL 31.203125 23.390625 \r\nL 4.890625 23.390625 \r\nz\r\n\" id=\"DejaVuSans-45\"/>\r\n       <path d=\"M 19.671875 64.796875 \r\nL 19.671875 37.40625 \r\nL 32.078125 37.40625 \r\nQ 38.96875 37.40625 42.71875 40.96875 \r\nQ 46.484375 44.53125 46.484375 51.125 \r\nQ 46.484375 57.671875 42.71875 61.234375 \r\nQ 38.96875 64.796875 32.078125 64.796875 \r\nz\r\nM 9.8125 72.90625 \r\nL 32.078125 72.90625 \r\nQ 44.34375 72.90625 50.609375 67.359375 \r\nQ 56.890625 61.8125 56.890625 51.125 \r\nQ 56.890625 40.328125 50.609375 34.8125 \r\nQ 44.34375 29.296875 32.078125 29.296875 \r\nL 19.671875 29.296875 \r\nL 19.671875 0 \r\nL 9.8125 0 \r\nz\r\n\" id=\"DejaVuSans-80\"/>\r\n       <path d=\"M 9.421875 75.984375 \r\nL 18.40625 75.984375 \r\nL 18.40625 0 \r\nL 9.421875 0 \r\nz\r\n\" id=\"DejaVuSans-108\"/>\r\n       <path d=\"M 32.171875 -5.078125 \r\nQ 28.375 -14.84375 24.75 -17.8125 \r\nQ 21.140625 -20.796875 15.09375 -20.796875 \r\nL 7.90625 -20.796875 \r\nL 7.90625 -13.28125 \r\nL 13.1875 -13.28125 \r\nQ 16.890625 -13.28125 18.9375 -11.515625 \r\nQ 21 -9.765625 23.484375 -3.21875 \r\nL 25.09375 0.875 \r\nL 2.984375 54.6875 \r\nL 12.5 54.6875 \r\nL 29.59375 11.921875 \r\nL 46.6875 54.6875 \r\nL 56.203125 54.6875 \r\nz\r\n\" id=\"DejaVuSans-121\"/>\r\n      </defs>\r\n      <use xlink:href=\"#DejaVuSans-70\"/>\r\n      <use x=\"50.269531\" xlink:href=\"#DejaVuSans-105\"/>\r\n      <use x=\"78.052734\" xlink:href=\"#DejaVuSans-116\"/>\r\n      <use x=\"117.261719\" xlink:href=\"#DejaVuSans-110\"/>\r\n      <use x=\"180.640625\" xlink:href=\"#DejaVuSans-101\"/>\r\n      <use x=\"242.164062\" xlink:href=\"#DejaVuSans-115\"/>\r\n      <use x=\"294.263672\" xlink:href=\"#DejaVuSans-115\"/>\r\n      <use x=\"346.363281\" xlink:href=\"#DejaVuSans-32\"/>\r\n      <use x=\"378.150391\" xlink:href=\"#DejaVuSans-45\"/>\r\n      <use x=\"414.234375\" xlink:href=\"#DejaVuSans-32\"/>\r\n      <use x=\"446.021484\" xlink:href=\"#DejaVuSans-80\"/>\r\n      <use x=\"502.699219\" xlink:href=\"#DejaVuSans-101\"/>\r\n      <use x=\"564.222656\" xlink:href=\"#DejaVuSans-110\"/>\r\n      <use x=\"627.601562\" xlink:href=\"#DejaVuSans-97\"/>\r\n      <use x=\"688.880859\" xlink:href=\"#DejaVuSans-108\"/>\r\n      <use x=\"716.664062\" xlink:href=\"#DejaVuSans-116\"/>\r\n      <use x=\"755.873047\" xlink:href=\"#DejaVuSans-121\"/>\r\n     </g>\r\n    </g>\r\n   </g>\r\n   <g id=\"line2d_27\">\r\n    <path clip-path=\"url(#pfe0b2caba8)\" d=\"M 78.861619 88.684776 \r\nL 82.666165 84.608061 \r\nL 86.47071 81.826839 \r\nL 90.275256 79.249217 \r\nL 94.079801 76.581193 \r\nL 97.884347 74.317225 \r\nL 101.688892 71.801705 \r\nL 105.493437 69.463843 \r\nL 109.297983 67.212453 \r\nL 113.102528 65.155229 \r\nL 116.907074 63.311038 \r\nL 120.711619 61.308841 \r\nL 124.516165 59.176938 \r\nL 128.32071 56.901964 \r\nL 132.125256 55.179619 \r\nL 135.929801 52.800094 \r\nL 139.734347 50.260204 \r\nL 143.538892 48.349195 \r\nL 147.343437 46.30219 \r\nL 151.147983 45.342362 \r\nL 154.952528 43.785098 \r\nL 158.757074 42.491963 \r\nL 162.561619 40.916619 \r\nL 166.366165 39.430103 \r\nL 170.17071 38.617276 \r\nL 173.975256 38.168413 \r\nL 177.779801 37.196793 \r\nL 181.584347 35.928814 \r\nL 185.388892 35.56878 \r\nL 189.193438 34.32517 \r\nL 192.997983 34.034312 \r\nL 196.802528 33.590952 \r\nL 200.607074 32.635054 \r\nL 204.411619 31.748333 \r\nL 208.216165 30.7492 \r\nL 212.02071 30.212294 \r\nL 215.825256 29.291771 \r\nL 219.629801 28.721848 \r\nL 223.434347 28.141706 \r\nL 227.238892 27.984486 \r\nL 231.043438 26.713362 \r\nL 234.847983 26.439013 \r\nL 238.652528 25.982289 \r\nL 242.457074 25.989364 \r\nL 246.261619 25.410795 \r\nL 250.066165 24.791348 \r\nL 253.87071 23.514721 \r\nL 257.675256 23.22465 \r\nL 261.479801 22.686958 \r\nL 265.284347 23.403881 \r\nL 269.088892 21.922868 \r\nL 272.893438 20.974046 \r\nL 276.697983 20.165149 \r\nL 280.502528 20.056667 \r\nL 284.307074 19.859356 \r\nL 288.111619 18.899528 \r\nL 291.916165 19.540199 \r\nL 295.72071 19.092122 \r\nL 299.525256 19.106272 \r\nL 303.329801 18.202257 \r\nL 307.134347 19.029234 \r\nL 310.938892 18.486039 \r\nL 314.743438 18.464814 \r\nL 318.547983 18.706147 \r\nL 322.352528 17.288022 \r\nL 326.157074 17.121369 \r\nL 329.961619 16.931919 \r\nL 333.766165 16.976727 \r\nL 337.57071 16.586821 \r\nL 341.375256 16.590752 \r\nL 345.179801 17.058481 \r\nL 348.984347 17.540361 \r\nL 352.788892 16.466548 \r\nL 356.593438 16.711811 \r\nL 360.397983 15.912347 \r\nL 364.202528 16.073498 \r\nL 368.007074 15.692239 \r\nL 371.811619 15.039776 \r\nL 375.616165 14.79923 \r\nL 379.42071 14.634935 \r\nL 383.225256 14.49265 \r\n\" style=\"fill:none;stroke:#008000;stroke-linecap:square;stroke-width:1.5;\"/>\r\n   </g>\r\n   <g id=\"line2d_28\">\r\n    <path clip-path=\"url(#pfe0b2caba8)\" d=\"M 78.861619 75.838329 \r\nL 82.666165 74.659179 \r\nL 86.47071 72.536709 \r\nL 90.275256 68.527598 \r\nL 94.079801 67.584278 \r\nL 97.884347 64.518488 \r\nL 101.688892 62.396017 \r\nL 105.493437 56.971927 \r\nL 109.297983 56.736097 \r\nL 113.102528 55.321117 \r\nL 116.907074 53.906137 \r\nL 120.711619 49.189536 \r\nL 124.516165 49.189536 \r\nL 128.32071 46.359576 \r\nL 132.125256 44.472936 \r\nL 135.929801 43.057955 \r\nL 139.734347 39.756335 \r\nL 143.538892 39.520505 \r\nL 147.343437 38.341355 \r\nL 151.147983 36.690545 \r\nL 154.952528 36.454715 \r\nL 158.757074 34.803904 \r\nL 162.561619 34.332244 \r\nL 166.366165 33.860584 \r\nL 170.17071 32.681434 \r\nL 173.975256 31.738114 \r\nL 177.779801 31.266454 \r\nL 181.584347 30.087304 \r\nL 185.388892 29.615644 \r\nL 189.193438 28.672324 \r\nL 192.997983 27.729004 \r\nL 196.802528 27.729004 \r\nL 200.607074 26.785684 \r\nL 204.411619 26.078194 \r\nL 208.216165 25.842364 \r\nL 212.02071 23.955723 \r\nL 215.825256 24.191553 \r\nL 219.629801 23.012403 \r\nL 223.434347 22.540743 \r\nL 227.238892 22.069083 \r\nL 231.043438 21.833253 \r\nL 234.847983 20.654103 \r\nL 238.652528 19.946613 \r\nL 242.457074 19.474953 \r\nL 246.261619 18.059973 \r\nL 250.066165 18.059973 \r\nL 253.87071 17.588313 \r\nL 257.675256 17.352483 \r\nL 261.479801 17.116653 \r\nL 265.284347 17.116653 \r\nL 269.088892 16.644993 \r\nL 272.893438 16.409162 \r\nL 276.697983 16.173332 \r\nL 280.502528 16.173332 \r\nL 284.307074 16.173332 \r\nL 288.111619 15.465842 \r\nL 291.916165 15.465842 \r\nL 295.72071 15.465842 \r\nL 299.525256 14.522522 \r\nL 303.329801 14.522522 \r\nL 307.134347 13.815032 \r\nL 310.938892 13.815032 \r\nL 314.743438 13.579202 \r\nL 318.547983 13.579202 \r\nL 322.352528 13.579202 \r\nL 326.157074 13.579202 \r\nL 329.961619 13.343372 \r\nL 333.766165 13.107542 \r\nL 337.57071 13.107542 \r\nL 341.375256 12.871712 \r\nL 345.179801 12.635882 \r\nL 348.984347 12.400052 \r\nL 352.788892 12.400052 \r\nL 356.593438 12.164222 \r\nL 360.397983 11.692562 \r\nL 364.202528 11.692562 \r\nL 368.007074 11.692562 \r\nL 371.811619 11.692562 \r\nL 375.616165 11.692562 \r\nL 379.42071 11.692562 \r\nL 383.225256 11.692562 \r\n\" style=\"fill:none;stroke:#ff0000;stroke-linecap:square;stroke-width:1.5;\"/>\r\n   </g>\r\n   <g id=\"line2d_29\">\r\n    <path clip-path=\"url(#pfe0b2caba8)\" d=\"M 78.861619 101.543802 \r\nL 82.666165 97.298861 \r\nL 86.47071 93.525581 \r\nL 90.275256 92.346431 \r\nL 94.079801 89.28064 \r\nL 97.884347 86.21485 \r\nL 101.688892 81.73408 \r\nL 105.493437 83.14906 \r\nL 109.297983 81.026589 \r\nL 113.102528 77.960799 \r\nL 116.907074 77.724969 \r\nL 120.711619 80.554929 \r\nL 124.516165 74.423349 \r\nL 128.32071 69.942578 \r\nL 132.125256 71.121728 \r\nL 135.929801 65.225978 \r\nL 139.734347 66.405128 \r\nL 143.538892 62.867677 \r\nL 147.343437 60.273547 \r\nL 151.147983 59.801887 \r\nL 154.952528 58.858567 \r\nL 158.757074 58.151077 \r\nL 162.561619 56.736097 \r\nL 166.366165 55.085287 \r\nL 170.17071 57.207757 \r\nL 173.975256 55.556947 \r\nL 177.779801 54.377797 \r\nL 181.584347 54.613627 \r\nL 185.388892 55.792777 \r\nL 189.193438 51.076176 \r\nL 192.997983 50.604516 \r\nL 196.802528 50.604516 \r\nL 200.607074 48.010386 \r\nL 204.411619 50.604516 \r\nL 208.216165 46.595406 \r\nL 212.02071 51.547836 \r\nL 215.825256 48.482046 \r\nL 219.629801 46.595406 \r\nL 223.434347 49.661196 \r\nL 227.238892 45.652086 \r\nL 231.043438 46.595406 \r\nL 234.847983 44.237105 \r\nL 238.652528 49.425366 \r\nL 242.457074 46.595406 \r\nL 246.261619 42.586295 \r\nL 250.066165 48.953706 \r\nL 253.87071 43.293785 \r\nL 257.675256 41.878805 \r\nL 261.479801 42.114635 \r\nL 265.284347 41.642975 \r\nL 269.088892 40.227995 \r\nL 272.893438 42.350465 \r\nL 276.697983 38.813015 \r\nL 280.502528 39.520505 \r\nL 284.307074 41.642975 \r\nL 288.111619 38.341355 \r\nL 291.916165 37.162205 \r\nL 295.72071 38.341355 \r\nL 299.525256 39.048845 \r\nL 303.329801 37.869695 \r\nL 307.134347 38.813015 \r\nL 310.938892 35.983055 \r\nL 314.743438 38.813015 \r\nL 318.547983 38.577185 \r\nL 322.352528 39.284675 \r\nL 326.157074 33.860584 \r\nL 329.961619 38.105525 \r\nL 333.766165 38.813015 \r\nL 337.57071 36.690545 \r\nL 341.375256 35.275565 \r\nL 345.179801 37.398035 \r\nL 348.984347 36.926375 \r\nL 352.788892 37.162205 \r\nL 356.593438 37.869695 \r\nL 360.397983 36.926375 \r\nL 364.202528 34.803904 \r\nL 368.007074 38.577185 \r\nL 371.811619 34.803904 \r\nL 375.616165 34.568074 \r\nL 379.42071 37.162205 \r\nL 383.225256 36.454715 \r\n\" style=\"fill:none;stroke:#0000ff;stroke-linecap:square;stroke-width:1.5;\"/>\r\n   </g>\r\n   <g id=\"patch_3\">\r\n    <path d=\"M 63.643438 106.036364 \r\nL 63.643438 7.2 \r\n\" style=\"fill:none;stroke:#ffffff;stroke-linecap:square;stroke-linejoin:miter;\"/>\r\n   </g>\r\n   <g id=\"patch_4\">\r\n    <path d=\"M 398.443438 106.036364 \r\nL 398.443438 7.2 \r\n\" style=\"fill:none;stroke:#ffffff;stroke-linecap:square;stroke-linejoin:miter;\"/>\r\n   </g>\r\n   <g id=\"patch_5\">\r\n    <path d=\"M 63.643438 106.036364 \r\nL 398.443438 106.036364 \r\n\" style=\"fill:none;stroke:#ffffff;stroke-linecap:square;stroke-linejoin:miter;\"/>\r\n   </g>\r\n   <g id=\"patch_6\">\r\n    <path d=\"M 63.643438 7.2 \r\nL 398.443438 7.2 \r\n\" style=\"fill:none;stroke:#ffffff;stroke-linecap:square;stroke-linejoin:miter;\"/>\r\n   </g>\r\n  </g>\r\n  <g id=\"axes_2\">\r\n   <g id=\"patch_7\">\r\n    <path d=\"M 63.643438 224.64 \r\nL 398.443438 224.64 \r\nL 398.443438 125.803636 \r\nL 63.643438 125.803636 \r\nz\r\n\" style=\"fill:#e5e5e5;\"/>\r\n   </g>\r\n   <g id=\"matplotlib.axis_3\">\r\n    <g id=\"xtick_10\">\r\n     <g id=\"line2d_30\">\r\n      <path clip-path=\"url(#p87cc2ba7ce)\" d=\"M 78.861619 224.64 \r\nL 78.861619 125.803636 \r\n\" style=\"fill:none;stroke:#ffffff;stroke-linecap:square;stroke-width:0.8;\"/>\r\n     </g>\r\n     <g id=\"line2d_31\">\r\n      <g>\r\n       <use style=\"fill:#555555;stroke:#555555;stroke-width:0.8;\" x=\"78.861619\" xlink:href=\"#m7446b7cb0e\" y=\"224.64\"/>\r\n      </g>\r\n     </g>\r\n     <g id=\"text_16\">\r\n      <!-- 0 -->\r\n      <g style=\"fill:#555555;\" transform=\"translate(75.680369 239.238438)scale(0.1 -0.1)\">\r\n       <use xlink:href=\"#DejaVuSans-48\"/>\r\n      </g>\r\n     </g>\r\n    </g>\r\n    <g id=\"xtick_11\">\r\n     <g id=\"line2d_32\">\r\n      <path clip-path=\"url(#p87cc2ba7ce)\" d=\"M 116.907074 224.64 \r\nL 116.907074 125.803636 \r\n\" style=\"fill:none;stroke:#ffffff;stroke-linecap:square;stroke-width:0.8;\"/>\r\n     </g>\r\n     <g id=\"line2d_33\">\r\n      <g>\r\n       <use style=\"fill:#555555;stroke:#555555;stroke-width:0.8;\" x=\"116.907074\" xlink:href=\"#m7446b7cb0e\" y=\"224.64\"/>\r\n      </g>\r\n     </g>\r\n     <g id=\"text_17\">\r\n      <!-- 10 -->\r\n      <g style=\"fill:#555555;\" transform=\"translate(110.544574 239.238438)scale(0.1 -0.1)\">\r\n       <use xlink:href=\"#DejaVuSans-49\"/>\r\n       <use x=\"63.623047\" xlink:href=\"#DejaVuSans-48\"/>\r\n      </g>\r\n     </g>\r\n    </g>\r\n    <g id=\"xtick_12\">\r\n     <g id=\"line2d_34\">\r\n      <path clip-path=\"url(#p87cc2ba7ce)\" d=\"M 154.952528 224.64 \r\nL 154.952528 125.803636 \r\n\" style=\"fill:none;stroke:#ffffff;stroke-linecap:square;stroke-width:0.8;\"/>\r\n     </g>\r\n     <g id=\"line2d_35\">\r\n      <g>\r\n       <use style=\"fill:#555555;stroke:#555555;stroke-width:0.8;\" x=\"154.952528\" xlink:href=\"#m7446b7cb0e\" y=\"224.64\"/>\r\n      </g>\r\n     </g>\r\n     <g id=\"text_18\">\r\n      <!-- 20 -->\r\n      <g style=\"fill:#555555;\" transform=\"translate(148.590028 239.238438)scale(0.1 -0.1)\">\r\n       <use xlink:href=\"#DejaVuSans-50\"/>\r\n       <use x=\"63.623047\" xlink:href=\"#DejaVuSans-48\"/>\r\n      </g>\r\n     </g>\r\n    </g>\r\n    <g id=\"xtick_13\">\r\n     <g id=\"line2d_36\">\r\n      <path clip-path=\"url(#p87cc2ba7ce)\" d=\"M 192.997983 224.64 \r\nL 192.997983 125.803636 \r\n\" style=\"fill:none;stroke:#ffffff;stroke-linecap:square;stroke-width:0.8;\"/>\r\n     </g>\r\n     <g id=\"line2d_37\">\r\n      <g>\r\n       <use style=\"fill:#555555;stroke:#555555;stroke-width:0.8;\" x=\"192.997983\" xlink:href=\"#m7446b7cb0e\" y=\"224.64\"/>\r\n      </g>\r\n     </g>\r\n     <g id=\"text_19\">\r\n      <!-- 30 -->\r\n      <g style=\"fill:#555555;\" transform=\"translate(186.635483 239.238438)scale(0.1 -0.1)\">\r\n       <use xlink:href=\"#DejaVuSans-51\"/>\r\n       <use x=\"63.623047\" xlink:href=\"#DejaVuSans-48\"/>\r\n      </g>\r\n     </g>\r\n    </g>\r\n    <g id=\"xtick_14\">\r\n     <g id=\"line2d_38\">\r\n      <path clip-path=\"url(#p87cc2ba7ce)\" d=\"M 231.043438 224.64 \r\nL 231.043438 125.803636 \r\n\" style=\"fill:none;stroke:#ffffff;stroke-linecap:square;stroke-width:0.8;\"/>\r\n     </g>\r\n     <g id=\"line2d_39\">\r\n      <g>\r\n       <use style=\"fill:#555555;stroke:#555555;stroke-width:0.8;\" x=\"231.043438\" xlink:href=\"#m7446b7cb0e\" y=\"224.64\"/>\r\n      </g>\r\n     </g>\r\n     <g id=\"text_20\">\r\n      <!-- 40 -->\r\n      <g style=\"fill:#555555;\" transform=\"translate(224.680937 239.238438)scale(0.1 -0.1)\">\r\n       <use xlink:href=\"#DejaVuSans-52\"/>\r\n       <use x=\"63.623047\" xlink:href=\"#DejaVuSans-48\"/>\r\n      </g>\r\n     </g>\r\n    </g>\r\n    <g id=\"xtick_15\">\r\n     <g id=\"line2d_40\">\r\n      <path clip-path=\"url(#p87cc2ba7ce)\" d=\"M 269.088892 224.64 \r\nL 269.088892 125.803636 \r\n\" style=\"fill:none;stroke:#ffffff;stroke-linecap:square;stroke-width:0.8;\"/>\r\n     </g>\r\n     <g id=\"line2d_41\">\r\n      <g>\r\n       <use style=\"fill:#555555;stroke:#555555;stroke-width:0.8;\" x=\"269.088892\" xlink:href=\"#m7446b7cb0e\" y=\"224.64\"/>\r\n      </g>\r\n     </g>\r\n     <g id=\"text_21\">\r\n      <!-- 50 -->\r\n      <g style=\"fill:#555555;\" transform=\"translate(262.726392 239.238438)scale(0.1 -0.1)\">\r\n       <use xlink:href=\"#DejaVuSans-53\"/>\r\n       <use x=\"63.623047\" xlink:href=\"#DejaVuSans-48\"/>\r\n      </g>\r\n     </g>\r\n    </g>\r\n    <g id=\"xtick_16\">\r\n     <g id=\"line2d_42\">\r\n      <path clip-path=\"url(#p87cc2ba7ce)\" d=\"M 307.134347 224.64 \r\nL 307.134347 125.803636 \r\n\" style=\"fill:none;stroke:#ffffff;stroke-linecap:square;stroke-width:0.8;\"/>\r\n     </g>\r\n     <g id=\"line2d_43\">\r\n      <g>\r\n       <use style=\"fill:#555555;stroke:#555555;stroke-width:0.8;\" x=\"307.134347\" xlink:href=\"#m7446b7cb0e\" y=\"224.64\"/>\r\n      </g>\r\n     </g>\r\n     <g id=\"text_22\">\r\n      <!-- 60 -->\r\n      <g style=\"fill:#555555;\" transform=\"translate(300.771847 239.238438)scale(0.1 -0.1)\">\r\n       <use xlink:href=\"#DejaVuSans-54\"/>\r\n       <use x=\"63.623047\" xlink:href=\"#DejaVuSans-48\"/>\r\n      </g>\r\n     </g>\r\n    </g>\r\n    <g id=\"xtick_17\">\r\n     <g id=\"line2d_44\">\r\n      <path clip-path=\"url(#p87cc2ba7ce)\" d=\"M 345.179801 224.64 \r\nL 345.179801 125.803636 \r\n\" style=\"fill:none;stroke:#ffffff;stroke-linecap:square;stroke-width:0.8;\"/>\r\n     </g>\r\n     <g id=\"line2d_45\">\r\n      <g>\r\n       <use style=\"fill:#555555;stroke:#555555;stroke-width:0.8;\" x=\"345.179801\" xlink:href=\"#m7446b7cb0e\" y=\"224.64\"/>\r\n      </g>\r\n     </g>\r\n     <g id=\"text_23\">\r\n      <!-- 70 -->\r\n      <g style=\"fill:#555555;\" transform=\"translate(338.817301 239.238438)scale(0.1 -0.1)\">\r\n       <use xlink:href=\"#DejaVuSans-55\"/>\r\n       <use x=\"63.623047\" xlink:href=\"#DejaVuSans-48\"/>\r\n      </g>\r\n     </g>\r\n    </g>\r\n    <g id=\"xtick_18\">\r\n     <g id=\"line2d_46\">\r\n      <path clip-path=\"url(#p87cc2ba7ce)\" d=\"M 383.225256 224.64 \r\nL 383.225256 125.803636 \r\n\" style=\"fill:none;stroke:#ffffff;stroke-linecap:square;stroke-width:0.8;\"/>\r\n     </g>\r\n     <g id=\"line2d_47\">\r\n      <g>\r\n       <use style=\"fill:#555555;stroke:#555555;stroke-width:0.8;\" x=\"383.225256\" xlink:href=\"#m7446b7cb0e\" y=\"224.64\"/>\r\n      </g>\r\n     </g>\r\n     <g id=\"text_24\">\r\n      <!-- 80 -->\r\n      <g style=\"fill:#555555;\" transform=\"translate(376.862756 239.238438)scale(0.1 -0.1)\">\r\n       <use xlink:href=\"#DejaVuSans-56\"/>\r\n       <use x=\"63.623047\" xlink:href=\"#DejaVuSans-48\"/>\r\n      </g>\r\n     </g>\r\n    </g>\r\n    <g id=\"text_25\">\r\n     <!-- Generation -->\r\n     <g style=\"fill:#555555;\" transform=\"translate(197.571875 254.43625)scale(0.12 -0.12)\">\r\n      <use xlink:href=\"#DejaVuSans-71\"/>\r\n      <use x=\"77.490234\" xlink:href=\"#DejaVuSans-101\"/>\r\n      <use x=\"139.013672\" xlink:href=\"#DejaVuSans-110\"/>\r\n      <use x=\"202.392578\" xlink:href=\"#DejaVuSans-101\"/>\r\n      <use x=\"263.916016\" xlink:href=\"#DejaVuSans-114\"/>\r\n      <use x=\"305.029297\" xlink:href=\"#DejaVuSans-97\"/>\r\n      <use x=\"366.308594\" xlink:href=\"#DejaVuSans-116\"/>\r\n      <use x=\"405.517578\" xlink:href=\"#DejaVuSans-105\"/>\r\n      <use x=\"433.300781\" xlink:href=\"#DejaVuSans-111\"/>\r\n      <use x=\"494.482422\" xlink:href=\"#DejaVuSans-110\"/>\r\n     </g>\r\n    </g>\r\n   </g>\r\n   <g id=\"matplotlib.axis_4\">\r\n    <g id=\"ytick_5\">\r\n     <g id=\"line2d_48\">\r\n      <path clip-path=\"url(#p87cc2ba7ce)\" d=\"M 63.643438 197.528138 \r\nL 398.443438 197.528138 \r\n\" style=\"fill:none;stroke:#ffffff;stroke-linecap:square;stroke-width:0.8;\"/>\r\n     </g>\r\n     <g id=\"line2d_49\">\r\n      <g>\r\n       <use style=\"fill:#555555;stroke:#555555;stroke-width:0.8;\" x=\"63.643438\" xlink:href=\"#m80f3360758\" y=\"197.528138\"/>\r\n      </g>\r\n     </g>\r\n     <g id=\"text_26\">\r\n      <!-- −4000 -->\r\n      <g style=\"fill:#555555;\" transform=\"translate(22.81375 201.327357)scale(0.1 -0.1)\">\r\n       <use xlink:href=\"#DejaVuSans-8722\"/>\r\n       <use x=\"83.789062\" xlink:href=\"#DejaVuSans-52\"/>\r\n       <use x=\"147.412109\" xlink:href=\"#DejaVuSans-48\"/>\r\n       <use x=\"211.035156\" xlink:href=\"#DejaVuSans-48\"/>\r\n       <use x=\"274.658203\" xlink:href=\"#DejaVuSans-48\"/>\r\n      </g>\r\n     </g>\r\n    </g>\r\n    <g id=\"ytick_6\">\r\n     <g id=\"line2d_50\">\r\n      <path clip-path=\"url(#p87cc2ba7ce)\" d=\"M 63.643438 161.665887 \r\nL 398.443438 161.665887 \r\n\" style=\"fill:none;stroke:#ffffff;stroke-linecap:square;stroke-width:0.8;\"/>\r\n     </g>\r\n     <g id=\"line2d_51\">\r\n      <g>\r\n       <use style=\"fill:#555555;stroke:#555555;stroke-width:0.8;\" x=\"63.643438\" xlink:href=\"#m80f3360758\" y=\"161.665887\"/>\r\n      </g>\r\n     </g>\r\n     <g id=\"text_27\">\r\n      <!-- −2000 -->\r\n      <g style=\"fill:#555555;\" transform=\"translate(22.81375 165.465106)scale(0.1 -0.1)\">\r\n       <use xlink:href=\"#DejaVuSans-8722\"/>\r\n       <use x=\"83.789062\" xlink:href=\"#DejaVuSans-50\"/>\r\n       <use x=\"147.412109\" xlink:href=\"#DejaVuSans-48\"/>\r\n       <use x=\"211.035156\" xlink:href=\"#DejaVuSans-48\"/>\r\n       <use x=\"274.658203\" xlink:href=\"#DejaVuSans-48\"/>\r\n      </g>\r\n     </g>\r\n    </g>\r\n    <g id=\"ytick_7\">\r\n     <g id=\"line2d_52\">\r\n      <path clip-path=\"url(#p87cc2ba7ce)\" d=\"M 63.643438 125.803636 \r\nL 398.443438 125.803636 \r\n\" style=\"fill:none;stroke:#ffffff;stroke-linecap:square;stroke-width:0.8;\"/>\r\n     </g>\r\n     <g id=\"line2d_53\">\r\n      <g>\r\n       <use style=\"fill:#555555;stroke:#555555;stroke-width:0.8;\" x=\"63.643438\" xlink:href=\"#m80f3360758\" y=\"125.803636\"/>\r\n      </g>\r\n     </g>\r\n     <g id=\"text_28\">\r\n      <!-- 0 -->\r\n      <g style=\"fill:#555555;\" transform=\"translate(50.280938 129.602855)scale(0.1 -0.1)\">\r\n       <use xlink:href=\"#DejaVuSans-48\"/>\r\n      </g>\r\n     </g>\r\n    </g>\r\n    <g id=\"text_29\">\r\n     <!-- Penalty -->\r\n     <g style=\"fill:#ff0000;\" transform=\"translate(16.318125 197.363693)rotate(-90)scale(0.12 -0.12)\">\r\n      <use xlink:href=\"#DejaVuSans-80\"/>\r\n      <use x=\"56.677734\" xlink:href=\"#DejaVuSans-101\"/>\r\n      <use x=\"118.201172\" xlink:href=\"#DejaVuSans-110\"/>\r\n      <use x=\"181.580078\" xlink:href=\"#DejaVuSans-97\"/>\r\n      <use x=\"242.859375\" xlink:href=\"#DejaVuSans-108\"/>\r\n      <use x=\"270.642578\" xlink:href=\"#DejaVuSans-116\"/>\r\n      <use x=\"309.851562\" xlink:href=\"#DejaVuSans-121\"/>\r\n     </g>\r\n    </g>\r\n   </g>\r\n   <g id=\"line2d_54\">\r\n    <path clip-path=\"url(#p87cc2ba7ce)\" d=\"M 78.861619 222.684551 \r\nL 82.666165 222.064612 \r\nL 86.47071 221.641677 \r\nL 90.275256 221.249702 \r\nL 94.079801 220.843981 \r\nL 97.884347 220.499703 \r\nL 101.688892 220.117172 \r\nL 105.493437 219.761658 \r\nL 109.297983 219.419293 \r\nL 113.102528 219.106455 \r\nL 116.907074 218.826012 \r\nL 120.711619 218.521541 \r\nL 124.516165 218.197347 \r\nL 128.32071 217.851395 \r\nL 132.125256 217.589481 \r\nL 135.929801 217.227631 \r\nL 139.734347 216.841395 \r\nL 143.538892 216.550791 \r\nL 147.343437 216.239507 \r\nL 151.147983 216.093547 \r\nL 154.952528 215.856737 \r\nL 158.757074 215.660092 \r\nL 162.561619 215.420533 \r\nL 166.366165 215.194481 \r\nL 170.17071 215.070876 \r\nL 173.975256 215.002618 \r\nL 177.779801 214.854865 \r\nL 181.584347 214.662046 \r\nL 185.388892 214.607296 \r\nL 189.193438 214.418183 \r\nL 192.997983 214.373953 \r\nL 196.802528 214.306531 \r\nL 200.607074 214.16117 \r\nL 204.411619 214.026328 \r\nL 208.216165 213.874391 \r\nL 212.02071 213.792745 \r\nL 215.825256 213.652763 \r\nL 219.629801 213.566096 \r\nL 223.434347 213.477874 \r\nL 227.238892 213.453966 \r\nL 231.043438 213.260669 \r\nL 234.847983 213.218949 \r\nL 238.652528 213.149496 \r\nL 242.457074 213.150572 \r\nL 246.261619 213.06259 \r\nL 250.066165 212.968391 \r\nL 253.87071 212.774257 \r\nL 257.675256 212.730146 \r\nL 261.479801 212.648381 \r\nL 265.284347 212.757402 \r\nL 269.088892 212.532187 \r\nL 272.893438 212.387901 \r\nL 276.697983 212.264894 \r\nL 280.502528 212.248397 \r\nL 284.307074 212.218392 \r\nL 288.111619 212.072433 \r\nL 291.916165 212.169859 \r\nL 295.72071 212.10172 \r\nL 299.525256 212.103872 \r\nL 303.329801 211.9664 \r\nL 307.134347 212.092157 \r\nL 310.938892 212.009554 \r\nL 314.743438 212.006327 \r\nL 318.547983 212.043026 \r\nL 322.352528 211.827374 \r\nL 326.157074 211.802031 \r\nL 329.961619 211.773222 \r\nL 333.766165 211.780036 \r\nL 337.57071 211.720744 \r\nL 341.375256 211.721341 \r\nL 345.179801 211.792468 \r\nL 348.984347 211.865747 \r\nL 352.788892 211.702454 \r\nL 356.593438 211.739751 \r\nL 360.397983 211.618178 \r\nL 364.202528 211.642683 \r\nL 368.007074 211.584706 \r\nL 371.811619 211.485487 \r\nL 375.616165 211.448908 \r\nL 379.42071 211.423924 \r\nL 383.225256 211.402287 \r\n\" style=\"fill:none;stroke:#008000;stroke-linecap:square;stroke-width:1.5;\"/>\r\n   </g>\r\n   <g id=\"line2d_55\">\r\n    <path clip-path=\"url(#p87cc2ba7ce)\" d=\"M 78.861619 220.731015 \r\nL 82.666165 220.551703 \r\nL 86.47071 220.228943 \r\nL 90.275256 219.619285 \r\nL 94.079801 219.475836 \r\nL 97.884347 219.009627 \r\nL 101.688892 218.686866 \r\nL 105.493437 217.862035 \r\nL 109.297983 217.826172 \r\nL 113.102528 217.610999 \r\nL 116.907074 217.395825 \r\nL 120.711619 216.67858 \r\nL 124.516165 216.67858 \r\nL 128.32071 216.248233 \r\nL 132.125256 215.961335 \r\nL 135.929801 215.746162 \r\nL 139.734347 215.24409 \r\nL 143.538892 215.208228 \r\nL 147.343437 215.028917 \r\nL 151.147983 214.777881 \r\nL 154.952528 214.742019 \r\nL 158.757074 214.490983 \r\nL 162.561619 214.419258 \r\nL 166.366165 214.347534 \r\nL 170.17071 214.168223 \r\nL 173.975256 214.024774 \r\nL 177.779801 213.953049 \r\nL 181.584347 213.773738 \r\nL 185.388892 213.702013 \r\nL 189.193438 213.558564 \r\nL 192.997983 213.415115 \r\nL 196.802528 213.415115 \r\nL 200.607074 213.271666 \r\nL 204.411619 213.16408 \r\nL 208.216165 213.128217 \r\nL 212.02071 212.841319 \r\nL 215.825256 212.877182 \r\nL 219.629801 212.69787 \r\nL 223.434347 212.626146 \r\nL 227.238892 212.554421 \r\nL 231.043438 212.518559 \r\nL 234.847983 212.339248 \r\nL 238.652528 212.231661 \r\nL 242.457074 212.159937 \r\nL 246.261619 211.944763 \r\nL 250.066165 211.944763 \r\nL 253.87071 211.873039 \r\nL 257.675256 211.837176 \r\nL 261.479801 211.801314 \r\nL 265.284347 211.801314 \r\nL 269.088892 211.72959 \r\nL 272.893438 211.693727 \r\nL 276.697983 211.657865 \r\nL 280.502528 211.657865 \r\nL 284.307074 211.657865 \r\nL 288.111619 211.550278 \r\nL 291.916165 211.550278 \r\nL 295.72071 211.550278 \r\nL 299.525256 211.406829 \r\nL 303.329801 211.406829 \r\nL 307.134347 211.299243 \r\nL 310.938892 211.299243 \r\nL 314.743438 211.26338 \r\nL 318.547983 211.26338 \r\nL 322.352528 211.26338 \r\nL 326.157074 211.26338 \r\nL 329.961619 211.227518 \r\nL 333.766165 211.191656 \r\nL 337.57071 211.191656 \r\nL 341.375256 211.155794 \r\nL 345.179801 211.119931 \r\nL 348.984347 211.084069 \r\nL 352.788892 211.084069 \r\nL 356.593438 211.048207 \r\nL 360.397983 210.976482 \r\nL 364.202528 210.976482 \r\nL 368.007074 210.976482 \r\nL 371.811619 210.976482 \r\nL 375.616165 210.976482 \r\nL 379.42071 210.976482 \r\nL 383.225256 210.976482 \r\n\" style=\"fill:none;stroke:#ff0000;stroke-linecap:square;stroke-width:1.5;\"/>\r\n   </g>\r\n   <g id=\"line2d_56\">\r\n    <path clip-path=\"url(#p87cc2ba7ce)\" d=\"M 78.861619 224.64 \r\nL 82.666165 223.994479 \r\nL 86.47071 223.420683 \r\nL 90.275256 223.241372 \r\nL 94.079801 222.775163 \r\nL 97.884347 222.308954 \r\nL 101.688892 221.627571 \r\nL 105.493437 221.842744 \r\nL 109.297983 221.519984 \r\nL 113.102528 221.053775 \r\nL 116.907074 221.017913 \r\nL 120.711619 221.44826 \r\nL 124.516165 220.515841 \r\nL 128.32071 219.834458 \r\nL 132.125256 220.01377 \r\nL 135.929801 219.117213 \r\nL 139.734347 219.296525 \r\nL 143.538892 218.758591 \r\nL 147.343437 218.364106 \r\nL 151.147983 218.292382 \r\nL 154.952528 218.148933 \r\nL 158.757074 218.041346 \r\nL 162.561619 217.826172 \r\nL 166.366165 217.575137 \r\nL 170.17071 217.897897 \r\nL 173.975256 217.646861 \r\nL 177.779801 217.46755 \r\nL 181.584347 217.503412 \r\nL 185.388892 217.682723 \r\nL 189.193438 216.965478 \r\nL 192.997983 216.893754 \r\nL 196.802528 216.893754 \r\nL 200.607074 216.499269 \r\nL 204.411619 216.893754 \r\nL 208.216165 216.284096 \r\nL 212.02071 217.037203 \r\nL 215.825256 216.570994 \r\nL 219.629801 216.284096 \r\nL 223.434347 216.750305 \r\nL 227.238892 216.140647 \r\nL 231.043438 216.284096 \r\nL 234.847983 215.925473 \r\nL 238.652528 216.714443 \r\nL 242.457074 216.284096 \r\nL 246.261619 215.674437 \r\nL 250.066165 216.642718 \r\nL 253.87071 215.782024 \r\nL 257.675256 215.566851 \r\nL 261.479801 215.602713 \r\nL 265.284347 215.530988 \r\nL 269.088892 215.315815 \r\nL 272.893438 215.638575 \r\nL 276.697983 215.100641 \r\nL 280.502528 215.208228 \r\nL 284.307074 215.530988 \r\nL 288.111619 215.028917 \r\nL 291.916165 214.849605 \r\nL 295.72071 215.028917 \r\nL 299.525256 215.136503 \r\nL 303.329801 214.957192 \r\nL 307.134347 215.100641 \r\nL 310.938892 214.670294 \r\nL 314.743438 215.100641 \r\nL 318.547983 215.064779 \r\nL 322.352528 215.172366 \r\nL 326.157074 214.347534 \r\nL 329.961619 214.993054 \r\nL 333.766165 215.100641 \r\nL 337.57071 214.777881 \r\nL 341.375256 214.562707 \r\nL 345.179801 214.885468 \r\nL 348.984347 214.813743 \r\nL 352.788892 214.849605 \r\nL 356.593438 214.957192 \r\nL 360.397983 214.813743 \r\nL 364.202528 214.490983 \r\nL 368.007074 215.064779 \r\nL 371.811619 214.490983 \r\nL 375.616165 214.455121 \r\nL 379.42071 214.849605 \r\nL 383.225256 214.742019 \r\n\" style=\"fill:none;stroke:#0000ff;stroke-linecap:square;stroke-width:1.5;\"/>\r\n   </g>\r\n   <g id=\"patch_8\">\r\n    <path d=\"M 63.643438 224.64 \r\nL 63.643438 125.803636 \r\n\" style=\"fill:none;stroke:#ffffff;stroke-linecap:square;stroke-linejoin:miter;\"/>\r\n   </g>\r\n   <g id=\"patch_9\">\r\n    <path d=\"M 398.443438 224.64 \r\nL 398.443438 125.803636 \r\n\" style=\"fill:none;stroke:#ffffff;stroke-linecap:square;stroke-linejoin:miter;\"/>\r\n   </g>\r\n   <g id=\"patch_10\">\r\n    <path d=\"M 63.643438 224.64 \r\nL 398.443438 224.64 \r\n\" style=\"fill:none;stroke:#ffffff;stroke-linecap:square;stroke-linejoin:miter;\"/>\r\n   </g>\r\n   <g id=\"patch_11\">\r\n    <path d=\"M 63.643438 125.803636 \r\nL 398.443438 125.803636 \r\n\" style=\"fill:none;stroke:#ffffff;stroke-linecap:square;stroke-linejoin:miter;\"/>\r\n   </g>\r\n  </g>\r\n </g>\r\n <defs>\r\n  <clipPath id=\"pfe0b2caba8\">\r\n   <rect height=\"98.836364\" width=\"334.8\" x=\"63.643438\" y=\"7.2\"/>\r\n  </clipPath>\r\n  <clipPath id=\"p87cc2ba7ce\">\r\n   <rect height=\"98.836364\" width=\"334.8\" x=\"63.643438\" y=\"125.803636\"/>\r\n  </clipPath>\r\n </defs>\r\n</svg>\r\n",
      "text/plain": [
       "<Figure size 432x288 with 2 Axes>"
      ]
     },
     "metadata": {},
     "output_type": "display_data"
    }
   ],
   "source": [
    "def plot_pen_fitness(lb):\n",
    "    gen = lb.select(\"gen\")\n",
    "    avgs = lb.select(\"avg\")\n",
    "    maxs = lb.select(\"max\")\n",
    "    mins = lb.select(\"min\")\n",
    "\n",
    "    print(f\"Max value: {abs(max(maxs))}\")\n",
    "    min_value = min(mins)\n",
    "\n",
    "    _, (ax1, ax2) = plt.subplots(2)\n",
    "\n",
    "    ax1.plot(gen, avgs, \"g-\", label=\"Average Fitness\")\n",
    "    ax1.plot(gen, maxs, \"r-\", label=\"Maxs Fitness\")\n",
    "    ax1.plot(gen, mins, \"b-\", label=\"Mins Fitness\")\n",
    "    ax1.set_xlabel(\"Generation\")\n",
    "    ax1.set_ylabel(\"Fitness - Penalty\", color=\"b\")\n",
    "\n",
    "    ax2.plot(gen, avgs, \"g-\", label=\"Average Fitness\")\n",
    "    ax2.plot(gen, maxs, \"r-\", label=\"Maxs Fitness\")\n",
    "    ax2.plot(gen, mins, \"b-\", label=\"Mins Fitness\")\n",
    "    ax2.set_xlabel(\"Generation\")\n",
    "    ax2.set_ylim([min_value, 0])\n",
    "    ax2.set_ylabel(\"Penalty\", color=\"r\")\n",
    "\n",
    "    plt.show()\n",
    "\n",
    "\n",
    "plot_pen_fitness(logbook)\n"
   ]
  },
  {
   "cell_type": "code",
   "execution_count": 91,
   "metadata": {},
   "outputs": [],
   "source": [
    "outDirPath = \"../../Output/\"\n",
    "outFilePath = outDirPath + file_name.strip(\".in\") + \".out\"\n",
    "\n",
    "cars_rides = get_rides_from_ind(best_sol)\n",
    "\n",
    "with open(outFilePath, \"w\") as f:\n",
    "    for v_r in cars_rides:\n",
    "      if v_r is None:\n",
    "        f.write(str(0))\n",
    "      else:\n",
    "        v_r = sort_rides(v_r)    \n",
    "        f.write(str(len(v_r)))\n",
    "        f.write(\" \")\n",
    "        f.write(\" \".join(str(pos) for pos, _ in v_r))\n",
    "      \n",
    "      f.write(\"\\n\")"
   ]
  }
 ],
 "metadata": {
  "interpreter": {
   "hash": "d5eb7a8f509e7ccbf47035c59f1ff1c37d44186d90acd8dc6b44b2ecc8ca6e3f"
  },
  "kernelspec": {
   "display_name": "Python 3.8.6 64-bit",
   "name": "python3"
  },
  "language_info": {
   "codemirror_mode": {
    "name": "ipython",
    "version": 3
   },
   "file_extension": ".py",
   "mimetype": "text/x-python",
   "name": "python",
   "nbconvert_exporter": "python",
   "pygments_lexer": "ipython3",
   "version": "3.8.6"
  },
  "orig_nbformat": 4
 },
 "nbformat": 4,
 "nbformat_minor": 2
}
