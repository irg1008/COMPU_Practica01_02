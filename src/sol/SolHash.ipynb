{
 "cells": [
  {
   "cell_type": "code",
   "execution_count": 1,
   "metadata": {},
   "outputs": [],
   "source": [
    "from os import listdir\n",
    "from os.path import join, isfile\n",
    "from typing import List"
   ]
  },
  {
   "cell_type": "code",
   "execution_count": 2,
   "metadata": {},
   "outputs": [],
   "source": [
    "def get_data_from_file(path: str):\n",
    "    with open(path, \"r\") as f:\n",
    "        data: List[List[int]] = []\n",
    "        lines = f.readlines()\n",
    "        for line in lines:\n",
    "            data.append([int(c) for c in line.split()])\n",
    "        return data\n",
    "\n",
    "\n",
    "def get_paths_of_dir(path: str, extension: str):\n",
    "    return [join(path, f) for f in listdir(path)\n",
    "            if isfile(join(path, f)) and f.endswith(extension)]"
   ]
  },
  {
   "cell_type": "code",
   "execution_count": 3,
   "metadata": {},
   "outputs": [],
   "source": [
    "inDirPath = \"../../Input/\"\n",
    "inPaths = get_paths_of_dir(inDirPath, extension=\".in\")"
   ]
  },
  {
   "cell_type": "code",
   "execution_count": 4,
   "metadata": {},
   "outputs": [],
   "source": [
    "n_problem = int(input(\"Elige el problema (1-5): \"))\n",
    "\n",
    "inDirFiles = listdir(inDirPath)\n",
    "file_name = inDirFiles[n_problem - 1]\n",
    "\n",
    "path = inPaths[n_problem - 1]\n",
    "prob = get_data_from_file(path)"
   ]
  },
  {
   "cell_type": "code",
   "execution_count": 5,
   "metadata": {},
   "outputs": [],
   "source": [
    "import random\n",
    "import numpy as np\n",
    "import matplotlib.pyplot as plt\n",
    "from deap import base, creator, tools, algorithms"
   ]
  },
  {
   "cell_type": "markdown",
   "metadata": {},
   "source": [
    "## Variable meanings.\n",
    "\n",
    "* R = Number of rows.\n",
    "* C = Number of columns.\n",
    "* F = Number of vehicles.\n",
    "* N = Pre-booked rides.\n",
    "* B = Per-ride bonus for starting the ride on time.\n",
    "* T = Simulation steps = distance between start and end."
   ]
  },
  {
   "cell_type": "code",
   "execution_count": 6,
   "metadata": {},
   "outputs": [],
   "source": [
    "# Problem data.\n",
    "_, _, F, N, B, T = prob[0]\n",
    "\n",
    "# Rides.\n",
    "rides = prob[1:]"
   ]
  },
  {
   "cell_type": "markdown",
   "metadata": {},
   "source": [
    "Bonus:\n",
    "* Earn points proportional to distance of ride.\n",
    "* Bonus if started on time. "
   ]
  },
  {
   "cell_type": "code",
   "execution_count": 7,
   "metadata": {},
   "outputs": [],
   "source": [
    "toolbox = base.Toolbox()"
   ]
  },
  {
   "cell_type": "code",
   "execution_count": 8,
   "metadata": {},
   "outputs": [],
   "source": [
    "creator.create(\"FitnessMax\", base.Fitness, weights=(1.0,))\n",
    "creator.create(\"Individual\", list, fitness=creator.FitnessMax)"
   ]
  },
  {
   "cell_type": "code",
   "execution_count": 9,
   "metadata": {},
   "outputs": [],
   "source": [
    "toolbox.register(\"attribute\", random.randint, 0, F - 1)\n",
    "toolbox.register(\"individual\", tools.initRepeat,\n",
    "                 creator.Individual, toolbox.attribute, n=N)\n",
    "toolbox.register(\"population\", tools.initRepeat, list, toolbox.individual)"
   ]
  },
  {
   "cell_type": "code",
   "execution_count": 10,
   "metadata": {},
   "outputs": [],
   "source": [
    "def sort_rides(vehicle_rides):\n",
    "    def sort_ride(ride):\n",
    "        a, b, x, y, s, f = ride[1]\n",
    "        origin = [a, b]\n",
    "        destiny = [x, y]\n",
    "        distance = dis(origin, destiny)\n",
    "\n",
    "        return s + f - distance\n",
    "    \n",
    "    return sorted(vehicle_rides, key=lambda ride: sort_ride(ride))\n",
    "\n",
    "def get_rides_from_ind(individual):\n",
    "    vehicles_rides = np.full(F, None)\n",
    "    \n",
    "    for i, vehicle in enumerate(individual):\n",
    "        v_r = vehicles_rides[vehicle]\n",
    "        \n",
    "        if v_r is None:\n",
    "            v_r = []\n",
    "            \n",
    "        ride = rides[i]\n",
    "        v_r.append([i, ride])\n",
    "        \n",
    "        vehicles_rides[vehicle] = v_r\n",
    "\n",
    "    return vehicles_rides\n",
    "\n",
    "def dis(a, b): return np.abs(a[0] - b[0]) + np.abs(a[1]-b[1])\n"
   ]
  },
  {
   "cell_type": "code",
   "execution_count": 11,
   "metadata": {},
   "outputs": [],
   "source": [
    "def calc_fitness(car_rides):\n",
    "    fitness = 0\n",
    "    step = 0\n",
    "    pos = [0, 0]\n",
    "    \n",
    "    # Sort car_rides given earliest time.\n",
    "    car_rides = sort_rides(car_rides)\n",
    "\n",
    "    for _, ride in car_rides:\n",
    "        a, b, x, y, s, f = ride\n",
    "        origin = [a, b]\n",
    "        destiny = [x, y]\n",
    "        earliest_start = s\n",
    "        latest_finish = f\n",
    "        \n",
    "        # 1.- Go to origin.\n",
    "        step += dis(pos, origin)\n",
    "        \n",
    "        # 2.- If arrived before the earliest time. Wait and earn bonus.\n",
    "        if step <= earliest_start:\n",
    "          fitness += B\n",
    "          step = earliest_start\n",
    "          \n",
    "        # 3.- Go to destiny.\n",
    "        dis_ori_des = dis(origin, destiny)\n",
    "        step += dis_ori_des\n",
    "        \n",
    "        #4.- If reached destiny before latest finish. Earn points.\n",
    "        if step <= latest_finish:\n",
    "          fitness += dis_ori_des\n",
    "          \n",
    "        # 5.- Update position.\n",
    "        pos = destiny\n",
    "                  \n",
    "        # 6.- Check if reached max distance with one vehicle.\n",
    "        if step > T:\n",
    "          break\n",
    "    \n",
    "    return fitness\n",
    "        \n",
    "def eval_ind(ind):\n",
    "    all_rides = get_rides_from_ind(ind)\n",
    "\n",
    "    fitness = 0\n",
    "\n",
    "    for car_rides in all_rides:\n",
    "        if car_rides is not None:\n",
    "            fitness += calc_fitness(car_rides)\n",
    "\n",
    "    return fitness,\n"
   ]
  },
  {
   "cell_type": "code",
   "execution_count": 12,
   "metadata": {},
   "outputs": [
    {
     "name": "stdout",
     "output_type": "stream",
     "text": [
      "Population: [[24, 49, 11, 98, 47, 25, 27, 46, 52, 0, 39, 0, 38, 88, 75, 75, 50, 84, 0, 98, 11, 60, 41, 2, 42, 21, 53, 19, 79, 58, 97, 95, 85, 65, 45, 22, 74, 89, 0, 65, 37, 82, 9, 69, 54, 97, 66, 47, 80, 2, 32, 26, 54, 64, 27, 69, 82, 14, 41, 45, 71, 92, 71, 66, 74, 15, 87, 21, 82, 28, 73, 24, 71, 54, 81, 55, 87, 91, 9, 28, 43, 89, 70, 96, 89, 81, 47, 45, 31, 59, 8, 23, 69, 92, 85, 48, 61, 52, 43, 57, 36, 68, 24, 63, 75, 71, 33, 98, 60, 86, 14, 85, 18, 98, 95, 47, 28, 95, 95, 8, 22, 95, 89, 25, 60, 17, 39, 67, 72, 14, 54, 45, 74, 87, 66, 2, 88, 13, 8, 23, 83, 19, 93, 50, 2, 16, 94, 99, 62, 56, 71, 7, 1, 73, 59, 60, 44, 52, 28, 9, 30, 76, 89, 22, 10, 72, 79, 33, 94, 49, 30, 30, 36, 11, 0, 77, 8, 87, 65, 32, 90, 24, 83, 43, 77, 68, 49, 34, 80, 65, 30, 87, 78, 18, 71, 15, 86, 42, 94, 60, 95, 43, 23, 28, 56, 29, 18, 13, 89, 26, 86, 45, 72, 44, 67, 63, 53, 71, 68, 37, 88, 13, 6, 26, 83, 27, 49, 5, 53, 20, 78, 95, 33, 14, 99, 64, 31, 37, 12, 69, 86, 67, 35, 75, 24, 87, 35, 85, 53, 27, 63, 37, 92, 97, 29, 0, 90, 27, 99, 65, 52, 70, 21, 18, 3, 16, 52, 55, 40, 41, 28, 12, 30, 32, 76, 73, 13, 37, 82, 77, 32, 78, 72, 23, 18, 52, 63, 38, 69, 17, 61, 98, 73, 12, 28, 87, 78, 90, 0, 54], [23, 31, 28, 25, 76, 75, 52, 18, 5, 12, 28, 29, 94, 15, 46, 61, 25, 6, 32, 54, 16, 79, 72, 39, 89, 2, 44, 91, 80, 81, 25, 75, 0, 86, 51, 91, 25, 4, 1, 46, 67, 8, 29, 20, 9, 79, 24, 16, 55, 56, 42, 13, 32, 16, 41, 30, 96, 59, 36, 92, 76, 31, 80, 4, 52, 6, 93, 78, 10, 21, 82, 30, 41, 8, 21, 44, 88, 99, 57, 46, 55, 79, 96, 17, 92, 18, 84, 64, 5, 40, 8, 4, 0, 36, 81, 5, 31, 18, 23, 33, 57, 51, 61, 9, 26, 74, 80, 52, 96, 53, 11, 82, 0, 22, 45, 80, 97, 50, 39, 40, 89, 51, 62, 1, 19, 46, 16, 4, 80, 72, 91, 44, 12, 91, 3, 36, 24, 64, 53, 44, 35, 49, 33, 78, 21, 5, 54, 4, 62, 21, 14, 5, 16, 79, 71, 12, 51, 0, 55, 22, 59, 47, 59, 42, 37, 16, 3, 18, 48, 40, 51, 13, 2, 33, 22, 3, 79, 34, 95, 35, 37, 71, 88, 73, 94, 78, 17, 63, 63, 99, 38, 54, 83, 22, 72, 25, 16, 34, 92, 7, 21, 22, 35, 72, 77, 64, 81, 22, 66, 87, 19, 52, 99, 48, 36, 43, 22, 25, 41, 67, 17, 95, 32, 60, 93, 31, 64, 58, 24, 78, 64, 30, 95, 98, 91, 45, 60, 35, 36, 59, 4, 62, 68, 65, 45, 77, 2, 4, 95, 63, 26, 43, 79, 3, 72, 88, 18, 38, 30, 34, 73, 45, 85, 12, 72, 0, 64, 13, 29, 68, 95, 95, 53, 28, 98, 84, 48, 74, 55, 1, 75, 82, 73, 90, 46, 91, 80, 56, 20, 54, 94, 22, 76, 8, 69, 38, 38, 92, 87, 81], [78, 71, 34, 33, 73, 7, 37, 20, 65, 37, 60, 8, 35, 30, 99, 71, 93, 98, 50, 11, 13, 56, 13, 10, 27, 53, 33, 69, 27, 85, 1, 5, 75, 71, 29, 33, 52, 69, 72, 30, 29, 0, 23, 29, 81, 38, 31, 72, 9, 39, 30, 74, 44, 11, 46, 54, 98, 33, 88, 13, 57, 25, 12, 50, 46, 72, 84, 38, 59, 59, 45, 11, 96, 97, 34, 24, 49, 89, 25, 33, 24, 58, 12, 45, 17, 31, 92, 32, 98, 18, 31, 15, 75, 73, 53, 57, 93, 6, 59, 19, 29, 89, 11, 83, 87, 43, 29, 33, 98, 31, 5, 57, 50, 15, 30, 83, 52, 73, 40, 8, 79, 57, 92, 90, 52, 26, 70, 79, 16, 21, 39, 97, 36, 60, 84, 2, 57, 58, 55, 66, 96, 64, 25, 0, 10, 9, 40, 1, 82, 3, 32, 57, 34, 87, 16, 74, 64, 78, 36, 15, 58, 79, 72, 41, 2, 57, 5, 16, 28, 46, 15, 0, 42, 72, 32, 51, 22, 61, 59, 9, 76, 62, 8, 23, 95, 33, 5, 17, 29, 61, 84, 87, 90, 67, 1, 48, 13, 55, 57, 26, 16, 24, 15, 7, 45, 4, 94, 80, 35, 19, 40, 10, 11, 99, 21, 54, 83, 67, 12, 88, 95, 33, 72, 20, 11, 54, 73, 6, 23, 98, 60, 38, 71, 48, 97, 1, 81, 89, 69, 30, 45, 99, 56, 53, 30, 91, 33, 67, 23, 15, 88, 55, 55, 40, 57, 78, 22, 72, 23, 36, 52, 74, 22, 11, 62, 58, 98, 47, 34, 6, 89, 1, 53, 66, 69, 29, 58, 81, 99, 79, 35, 57, 14, 94, 31, 92, 44, 26, 50, 39, 57, 79, 45, 76, 8, 30, 73, 2, 2, 13], [98, 6, 37, 96, 33, 22, 50, 0, 87, 28, 57, 47, 97, 10, 65, 99, 88, 94, 61, 72, 21, 41, 91, 79, 14, 63, 53, 30, 21, 30, 91, 18, 24, 82, 4, 73, 34, 10, 70, 60, 20, 54, 56, 8, 1, 81, 4, 93, 8, 30, 32, 81, 74, 78, 53, 60, 7, 7, 13, 39, 96, 36, 19, 63, 6, 13, 6, 28, 53, 4, 30, 26, 82, 97, 81, 69, 54, 1, 13, 55, 57, 58, 29, 50, 41, 46, 10, 41, 64, 82, 3, 44, 46, 73, 96, 49, 97, 73, 2, 3, 71, 63, 23, 84, 40, 14, 47, 91, 37, 77, 35, 42, 53, 44, 69, 71, 1, 17, 2, 49, 23, 69, 7, 91, 76, 98, 55, 17, 65, 6, 83, 34, 98, 82, 43, 52, 95, 49, 71, 87, 0, 88, 21, 74, 83, 92, 36, 76, 17, 65, 64, 40, 43, 6, 32, 61, 14, 18, 19, 75, 94, 6, 14, 34, 45, 54, 9, 18, 79, 55, 31, 27, 7, 14, 94, 56, 0, 85, 59, 93, 17, 80, 18, 49, 44, 68, 92, 85, 79, 40, 0, 58, 91, 88, 8, 36, 16, 17, 18, 94, 35, 83, 86, 69, 51, 6, 18, 41, 80, 21, 84, 85, 60, 57, 30, 12, 34, 95, 24, 82, 59, 16, 39, 68, 9, 81, 3, 1, 64, 89, 16, 50, 70, 36, 52, 3, 31, 45, 28, 53, 37, 71, 31, 23, 85, 11, 37, 69, 35, 27, 89, 15, 41, 80, 28, 92, 63, 80, 90, 19, 20, 99, 37, 43, 85, 95, 32, 75, 79, 65, 41, 60, 8, 8, 41, 23, 14, 14, 22, 54, 43, 57, 36, 85, 88, 49, 54, 15, 11, 7, 17, 30, 83, 6, 83, 84, 25, 14, 18, 85], [0, 81, 32, 8, 50, 69, 49, 2, 21, 85, 76, 27, 83, 67, 2, 73, 6, 27, 59, 96, 95, 51, 77, 68, 67, 65, 96, 19, 11, 94, 65, 37, 17, 38, 6, 93, 54, 32, 48, 59, 13, 33, 33, 27, 25, 95, 8, 72, 52, 39, 6, 32, 42, 1, 1, 14, 56, 65, 42, 76, 26, 34, 16, 75, 48, 59, 56, 24, 45, 65, 31, 26, 98, 67, 50, 38, 97, 7, 13, 7, 88, 72, 30, 15, 21, 24, 88, 11, 69, 18, 85, 37, 68, 86, 71, 99, 72, 5, 3, 12, 17, 23, 42, 5, 96, 48, 87, 89, 76, 6, 21, 80, 66, 22, 11, 42, 92, 51, 80, 21, 23, 80, 78, 80, 67, 81, 77, 67, 6, 22, 30, 75, 11, 23, 83, 48, 86, 39, 86, 37, 95, 3, 8, 66, 83, 63, 60, 2, 54, 87, 24, 6, 92, 77, 20, 30, 42, 25, 40, 7, 4, 73, 89, 86, 43, 5, 99, 46, 16, 29, 68, 56, 24, 49, 49, 86, 18, 29, 88, 74, 31, 49, 14, 47, 47, 79, 96, 8, 80, 91, 47, 11, 18, 51, 77, 80, 48, 82, 40, 81, 78, 89, 23, 42, 8, 6, 41, 69, 72, 87, 79, 64, 78, 25, 77, 24, 41, 20, 19, 54, 64, 92, 64, 45, 65, 28, 51, 69, 20, 50, 37, 37, 52, 15, 73, 6, 19, 53, 40, 88, 35, 86, 18, 42, 97, 85, 21, 34, 46, 51, 95, 27, 63, 74, 97, 84, 52, 33, 37, 92, 76, 29, 88, 14, 52, 42, 37, 81, 51, 5, 36, 17, 74, 77, 2, 93, 42, 49, 25, 29, 6, 65, 14, 49, 36, 31, 79, 85, 78, 65, 39, 72, 84, 48, 38, 49, 63, 44, 32, 92], [83, 24, 83, 16, 56, 8, 20, 45, 60, 16, 91, 62, 15, 25, 6, 42, 27, 44, 94, 7, 89, 76, 77, 55, 89, 81, 13, 78, 92, 83, 83, 32, 73, 72, 96, 43, 91, 33, 61, 99, 82, 96, 52, 72, 80, 49, 69, 24, 34, 75, 66, 74, 98, 35, 85, 18, 35, 90, 62, 0, 57, 52, 68, 4, 69, 34, 62, 57, 13, 38, 39, 46, 7, 22, 67, 74, 47, 67, 72, 47, 15, 56, 91, 20, 29, 57, 26, 35, 47, 17, 70, 24, 54, 26, 99, 89, 85, 30, 22, 39, 28, 38, 22, 77, 42, 13, 32, 1, 59, 76, 12, 93, 67, 70, 7, 3, 37, 4, 24, 27, 48, 57, 28, 98, 82, 31, 61, 61, 93, 81, 37, 46, 67, 31, 30, 90, 10, 65, 36, 6, 55, 99, 67, 32, 2, 54, 19, 79, 83, 42, 99, 31, 47, 45, 58, 65, 59, 66, 69, 67, 14, 95, 75, 31, 40, 16, 37, 55, 84, 91, 0, 9, 55, 55, 10, 41, 53, 0, 5, 99, 96, 51, 92, 87, 89, 90, 10, 58, 11, 40, 26, 25, 83, 20, 3, 94, 91, 34, 60, 37, 30, 87, 5, 20, 54, 6, 32, 34, 42, 75, 58, 85, 26, 65, 37, 62, 94, 88, 70, 57, 26, 1, 73, 45, 50, 50, 61, 79, 41, 58, 43, 23, 30, 2, 70, 0, 75, 87, 83, 28, 26, 99, 17, 77, 27, 44, 45, 61, 37, 68, 49, 18, 96, 20, 21, 22, 25, 73, 76, 67, 95, 49, 76, 41, 47, 97, 95, 49, 26, 9, 5, 28, 99, 1, 41, 88, 72, 68, 96, 23, 94, 58, 69, 76, 93, 34, 14, 43, 40, 70, 65, 83, 30, 93, 43, 96, 58, 71, 72, 98], [87, 0, 49, 45, 60, 71, 83, 43, 55, 47, 0, 33, 23, 18, 70, 23, 38, 56, 94, 36, 9, 27, 27, 32, 56, 7, 25, 73, 96, 66, 71, 84, 67, 64, 74, 92, 9, 48, 36, 24, 4, 63, 73, 59, 54, 87, 15, 44, 44, 93, 7, 74, 31, 4, 7, 84, 30, 28, 86, 92, 27, 84, 63, 58, 92, 87, 65, 74, 92, 0, 19, 66, 88, 6, 22, 96, 79, 38, 71, 5, 91, 11, 36, 19, 83, 61, 24, 38, 35, 10, 44, 4, 67, 79, 35, 60, 64, 43, 37, 38, 78, 76, 77, 58, 10, 10, 12, 7, 57, 11, 74, 69, 4, 80, 86, 15, 1, 56, 92, 29, 87, 77, 20, 3, 49, 43, 65, 3, 60, 1, 32, 74, 41, 15, 68, 64, 2, 71, 56, 1, 44, 73, 4, 50, 0, 44, 70, 27, 16, 65, 73, 58, 94, 82, 64, 12, 34, 79, 39, 3, 19, 45, 32, 89, 42, 13, 60, 93, 0, 43, 78, 83, 14, 14, 80, 85, 89, 50, 4, 51, 60, 5, 48, 40, 94, 8, 30, 93, 24, 36, 96, 31, 86, 59, 3, 84, 50, 40, 69, 96, 48, 52, 19, 62, 45, 12, 92, 28, 82, 23, 91, 55, 93, 3, 18, 86, 52, 33, 58, 63, 62, 88, 62, 91, 11, 99, 14, 7, 74, 59, 25, 4, 0, 37, 17, 87, 87, 13, 18, 78, 22, 47, 29, 33, 50, 53, 76, 69, 0, 52, 77, 89, 94, 5, 60, 39, 5, 36, 2, 85, 26, 97, 66, 20, 75, 16, 54, 83, 95, 19, 9, 92, 48, 60, 51, 72, 31, 11, 37, 18, 23, 8, 56, 78, 77, 29, 17, 66, 89, 20, 3, 30, 88, 10, 60, 69, 78, 60, 94, 7], [10, 7, 29, 58, 61, 71, 77, 17, 47, 22, 33, 40, 45, 11, 33, 38, 15, 60, 80, 75, 95, 0, 41, 35, 94, 54, 42, 52, 9, 83, 19, 62, 65, 26, 96, 18, 4, 48, 67, 25, 93, 25, 71, 72, 58, 59, 33, 23, 1, 21, 25, 94, 28, 57, 80, 94, 26, 14, 0, 36, 98, 80, 94, 33, 90, 79, 11, 45, 7, 80, 14, 44, 37, 87, 3, 5, 47, 48, 88, 87, 40, 80, 98, 87, 90, 11, 97, 57, 41, 69, 16, 78, 75, 60, 41, 13, 82, 45, 17, 81, 57, 86, 55, 97, 29, 49, 26, 84, 81, 12, 37, 37, 52, 9, 32, 79, 9, 35, 70, 62, 98, 22, 89, 59, 12, 94, 18, 61, 94, 42, 25, 8, 92, 44, 51, 50, 3, 84, 68, 4, 41, 23, 74, 36, 77, 56, 77, 73, 79, 89, 64, 66, 91, 10, 66, 29, 49, 65, 24, 84, 24, 98, 36, 42, 85, 89, 37, 63, 84, 30, 90, 45, 78, 42, 69, 49, 60, 9, 7, 30, 21, 72, 21, 56, 6, 15, 31, 70, 40, 98, 71, 6, 59, 38, 26, 11, 33, 82, 15, 33, 29, 11, 44, 46, 17, 28, 51, 5, 50, 64, 26, 81, 60, 35, 71, 97, 77, 0, 88, 42, 58, 38, 75, 82, 97, 19, 36, 51, 85, 96, 97, 13, 13, 46, 35, 75, 96, 6, 33, 18, 0, 61, 67, 89, 52, 66, 44, 88, 6, 83, 43, 6, 53, 77, 1, 3, 72, 21, 94, 25, 85, 46, 62, 1, 9, 41, 27, 16, 15, 66, 62, 42, 12, 36, 60, 90, 63, 93, 31, 18, 19, 10, 27, 6, 20, 54, 45, 51, 20, 84, 1, 92, 11, 86, 11, 18, 71, 83, 18, 16], [51, 25, 48, 17, 25, 13, 10, 64, 30, 27, 17, 82, 0, 85, 78, 5, 23, 89, 17, 35, 37, 54, 54, 39, 53, 73, 65, 56, 12, 93, 73, 31, 82, 28, 71, 72, 0, 32, 54, 31, 5, 32, 93, 99, 37, 70, 17, 0, 41, 24, 12, 14, 64, 78, 23, 42, 86, 53, 63, 87, 43, 41, 51, 16, 52, 45, 84, 95, 72, 80, 43, 75, 59, 98, 82, 22, 83, 28, 34, 56, 75, 88, 8, 91, 35, 16, 10, 62, 59, 9, 66, 9, 78, 27, 41, 29, 37, 97, 74, 31, 8, 36, 31, 83, 46, 78, 14, 93, 96, 45, 83, 60, 78, 29, 28, 60, 53, 73, 85, 68, 96, 21, 68, 15, 23, 32, 64, 69, 86, 57, 75, 60, 14, 75, 89, 55, 50, 48, 22, 78, 49, 64, 34, 63, 41, 40, 7, 20, 72, 83, 89, 79, 98, 13, 27, 91, 23, 13, 39, 64, 75, 76, 47, 64, 40, 40, 83, 10, 25, 44, 6, 42, 20, 43, 57, 35, 83, 21, 38, 54, 60, 10, 28, 34, 66, 27, 83, 87, 79, 33, 70, 37, 45, 33, 69, 13, 19, 68, 25, 80, 0, 18, 38, 17, 85, 96, 24, 20, 78, 79, 5, 46, 36, 41, 14, 61, 19, 96, 85, 90, 23, 67, 39, 19, 17, 18, 16, 26, 74, 99, 60, 98, 69, 67, 41, 90, 10, 42, 55, 53, 96, 20, 23, 29, 23, 61, 6, 93, 52, 73, 44, 69, 1, 39, 79, 18, 73, 0, 71, 65, 50, 26, 58, 58, 23, 8, 62, 37, 73, 97, 2, 71, 24, 36, 93, 6, 13, 70, 31, 45, 16, 35, 87, 62, 3, 36, 57, 63, 12, 1, 75, 23, 18, 98, 14, 70, 15, 1, 61, 38], [17, 24, 54, 97, 87, 55, 72, 87, 32, 88, 14, 98, 50, 32, 53, 60, 93, 63, 99, 0, 84, 58, 41, 28, 41, 56, 3, 81, 60, 11, 38, 25, 21, 91, 83, 61, 63, 22, 78, 72, 80, 45, 30, 49, 72, 70, 82, 33, 34, 26, 45, 8, 29, 8, 35, 87, 4, 56, 82, 59, 96, 90, 95, 77, 15, 71, 74, 80, 94, 49, 95, 41, 32, 47, 74, 12, 10, 32, 93, 50, 13, 43, 37, 78, 78, 74, 33, 61, 42, 59, 70, 15, 35, 31, 17, 14, 44, 5, 87, 57, 16, 35, 61, 55, 71, 52, 99, 71, 28, 47, 66, 1, 35, 22, 67, 41, 12, 53, 20, 65, 77, 29, 57, 59, 76, 37, 61, 38, 95, 69, 95, 38, 71, 71, 94, 51, 31, 52, 59, 96, 64, 49, 61, 10, 98, 12, 31, 76, 15, 25, 78, 54, 89, 51, 71, 29, 9, 31, 52, 45, 88, 47, 82, 21, 13, 87, 10, 92, 19, 80, 67, 21, 21, 67, 35, 58, 7, 6, 2, 46, 37, 99, 71, 15, 76, 57, 71, 26, 59, 63, 6, 83, 63, 74, 44, 20, 29, 9, 72, 13, 5, 80, 40, 31, 82, 11, 26, 83, 46, 47, 34, 6, 2, 20, 88, 75, 37, 23, 53, 70, 76, 82, 46, 4, 4, 33, 19, 73, 81, 36, 17, 76, 69, 74, 55, 96, 21, 27, 4, 29, 60, 59, 87, 41, 84, 58, 27, 40, 87, 75, 75, 24, 63, 31, 61, 94, 27, 36, 55, 29, 85, 22, 64, 33, 99, 17, 40, 75, 44, 78, 43, 39, 98, 71, 61, 31, 11, 66, 20, 75, 60, 15, 43, 41, 23, 79, 31, 82, 75, 88, 88, 71, 79, 42, 78, 63, 18, 83, 79, 78]]\n"
     ]
    }
   ],
   "source": [
    "NIND = 10\n",
    "\n",
    "pop = toolbox.population(n=NIND)\n",
    "print(f\"Population: {pop}\")"
   ]
  },
  {
   "cell_type": "code",
   "execution_count": 13,
   "metadata": {},
   "outputs": [
    {
     "name": "stdout",
     "output_type": "stream",
     "text": [
      "Individuo ANTES de evaluar\n",
      "[56, 72, 44, 81, 19, 51, 17, 72, 86, 46, 85, 28, 93, 25, 15, 38, 50, 51, 49, 44, 15, 57, 2, 3, 79, 15, 73, 2, 69, 32, 71, 44, 92, 76, 41, 58, 84, 97, 42, 84, 42, 98, 27, 99, 23, 28, 86, 3, 79, 63, 5, 81, 42, 6, 25, 87, 80, 72, 1, 37, 35, 45, 50, 17, 4, 40, 50, 31, 90, 21, 85, 19, 58, 94, 19, 25, 59, 81, 19, 26, 92, 49, 91, 84, 24, 41, 81, 94, 97, 91, 76, 36, 57, 12, 64, 11, 49, 90, 11, 13, 22, 34, 43, 35, 34, 33, 21, 90, 16, 84, 50, 22, 20, 49, 18, 68, 75, 60, 0, 93, 64, 36, 21, 29, 13, 39, 32, 65, 97, 6, 16, 82, 50, 88, 43, 19, 55, 41, 70, 81, 98, 58, 26, 5, 97, 63, 2, 41, 54, 57, 84, 11, 47, 85, 82, 47, 80, 67, 75, 53, 19, 66, 83, 63, 61, 17, 15, 24, 22, 12, 1, 38, 73, 58, 12, 99, 9, 5, 29, 13, 25, 13, 9, 81, 27, 91, 15, 35, 28, 60, 80, 90, 60, 46, 1, 21, 44, 67, 94, 80, 64, 63, 52, 88, 54, 35, 74, 35, 54, 40, 6, 49, 31, 9, 49, 43, 58, 77, 49, 13, 89, 77, 27, 52, 15, 82, 73, 0, 99, 65, 19, 25, 44, 25, 0, 11, 23, 50, 90, 60, 36, 41, 42, 19, 92, 7, 28, 57, 47, 22, 15, 87, 18, 46, 11, 86, 69, 7, 10, 96, 95, 89, 31, 18, 26, 29, 93, 42, 83, 3, 23, 49, 69, 71, 80, 60, 5, 90, 12, 77, 78, 74, 61, 20, 96, 32, 28, 45, 44, 9, 98, 2, 95, 27, 72, 54, 60, 89, 51, 56]\n",
      "False\n",
      "\n",
      "\n",
      "Individuo TRAS evaluar\n",
      "[56, 72, 44, 81, 19, 51, 17, 72, 86, 46, 85, 28, 93, 25, 15, 38, 50, 51, 49, 44, 15, 57, 2, 3, 79, 15, 73, 2, 69, 32, 71, 44, 92, 76, 41, 58, 84, 97, 42, 84, 42, 98, 27, 99, 23, 28, 86, 3, 79, 63, 5, 81, 42, 6, 25, 87, 80, 72, 1, 37, 35, 45, 50, 17, 4, 40, 50, 31, 90, 21, 85, 19, 58, 94, 19, 25, 59, 81, 19, 26, 92, 49, 91, 84, 24, 41, 81, 94, 97, 91, 76, 36, 57, 12, 64, 11, 49, 90, 11, 13, 22, 34, 43, 35, 34, 33, 21, 90, 16, 84, 50, 22, 20, 49, 18, 68, 75, 60, 0, 93, 64, 36, 21, 29, 13, 39, 32, 65, 97, 6, 16, 82, 50, 88, 43, 19, 55, 41, 70, 81, 98, 58, 26, 5, 97, 63, 2, 41, 54, 57, 84, 11, 47, 85, 82, 47, 80, 67, 75, 53, 19, 66, 83, 63, 61, 17, 15, 24, 22, 12, 1, 38, 73, 58, 12, 99, 9, 5, 29, 13, 25, 13, 9, 81, 27, 91, 15, 35, 28, 60, 80, 90, 60, 46, 1, 21, 44, 67, 94, 80, 64, 63, 52, 88, 54, 35, 74, 35, 54, 40, 6, 49, 31, 9, 49, 43, 58, 77, 49, 13, 89, 77, 27, 52, 15, 82, 73, 0, 99, 65, 19, 25, 44, 25, 0, 11, 23, 50, 90, 60, 36, 41, 42, 19, 92, 7, 28, 57, 47, 22, 15, 87, 18, 46, 11, 86, 69, 7, 10, 96, 95, 89, 31, 18, 26, 29, 93, 42, 83, 3, 23, 49, 69, 71, 80, 60, 5, 90, 12, 77, 78, 74, 61, 20, 96, 32, 28, 45, 44, 9, 98, 2, 95, 27, 72, 54, 60, 89, 51, 56]\n",
      "True\n",
      "(162077.0,)\n"
     ]
    }
   ],
   "source": [
    "ind = toolbox.individual()\n",
    "\n",
    "print(\"Individuo ANTES de evaluar\")\n",
    "print(ind)\n",
    "print(ind.fitness.valid)\n",
    "print(\"\\n\")\n",
    "\n",
    "ind.fitness.values = eval_ind(ind)\n",
    "\n",
    "print(\"Individuo TRAS evaluar\")\n",
    "print(ind)\n",
    "print(ind.fitness.valid)\n",
    "print(ind.fitness)"
   ]
  },
  {
   "cell_type": "code",
   "execution_count": 14,
   "metadata": {},
   "outputs": [],
   "source": [
    "TOURNSIZE, INDPB = 3, 0.2\n",
    "\n",
    "toolbox.register(\"select\", tools.selTournament, tournsize=TOURNSIZE)\n",
    "toolbox.register(\"mate\", tools.cxOnePoint)\n",
    "toolbox.register(\"mutate\", tools.mutFlipBit, indpb=INDPB)\n",
    "toolbox.register(\"evaluate\", eval_ind)"
   ]
  },
  {
   "cell_type": "code",
   "execution_count": 15,
   "metadata": {},
   "outputs": [],
   "source": [
    "stats = tools.Statistics(lambda ind: ind.fitness.values)\n",
    "stats.register(\"avg\", np.mean)\n",
    "stats.register(\"std\", np.std)\n",
    "stats.register(\"min\", np.min)\n",
    "stats.register(\"max\", np.max)"
   ]
  },
  {
   "cell_type": "code",
   "execution_count": 19,
   "metadata": {},
   "outputs": [],
   "source": [
    "CXPB, MUTPB, NGEN = 0.5, 0.0, 20\n",
    "\n",
    "pop, logbook = algorithms.eaSimple(\n",
    "    pop, toolbox, CXPB, MUTPB, NGEN, stats, verbose=False)\n",
    "\n",
    "best_sol = tools.selBest(pop, 1)[0]\n",
    "\n",
    "print(f\"El resultado de la evolución es:\")\n",
    "print(logbook)\n",
    "print(f\"La mejor solucion encontrada es: {best_sol}\")\n"
   ]
  },
  {
   "cell_type": "code",
   "execution_count": 17,
   "metadata": {},
   "outputs": [
    {
     "data": {
      "text/plain": [
       "[]"
      ]
     },
     "execution_count": 17,
     "metadata": {},
     "output_type": "execute_result"
    },
    {
     "data": {
      "image/png": "[encoded data removed]",
      "image/svg+xml": "<?xml version=\"1.0\" encoding=\"utf-8\" standalone=\"no\"?>\r\n<!DOCTYPE svg PUBLIC \"-//W3C//DTD SVG 1.1//EN\"\r\n  \"http://www.w3.org/Graphics/SVG/1.1/DTD/svg11.dtd\">\r\n<!-- Created with matplotlib (https://matplotlib.org/) -->\r\n<svg height=\"265.364446pt\" version=\"1.1\" viewBox=\"0 0 408.053125 265.364446\" width=\"408.053125pt\" xmlns=\"http://www.w3.org/2000/svg\" xmlns:xlink=\"http://www.w3.org/1999/xlink\">\r\n <metadata>\r\n  <rdf:RDF xmlns:cc=\"http://creativecommons.org/ns#\" xmlns:dc=\"http://purl.org/dc/elements/1.1/\" xmlns:rdf=\"http://www.w3.org/1999/02/22-rdf-syntax-ns#\">\r\n   <cc:Work>\r\n    <dc:type rdf:resource=\"http://purl.org/dc/dcmitype/StillImage\"/>\r\n    <dc:date>2021-10-12T14:50:46.388884</dc:date>\r\n    <dc:format>image/svg+xml</dc:format>\r\n    <dc:creator>\r\n     <cc:Agent>\r\n      <dc:title>Matplotlib v3.3.2, https://matplotlib.org/</dc:title>\r\n     </cc:Agent>\r\n    </dc:creator>\r\n   </cc:Work>\r\n  </rdf:RDF>\r\n </metadata>\r\n <defs>\r\n  <style type=\"text/css\">*{stroke-linecap:butt;stroke-linejoin:round;}</style>\r\n </defs>\r\n <g id=\"figure_1\">\r\n  <g id=\"patch_1\">\r\n   <path d=\"M 0 265.364446 \r\nL 408.053125 265.364446 \r\nL 408.053125 0 \r\nL 0 0 \r\nz\r\n\"/>\r\n  </g>\r\n  <g id=\"axes_1\">\r\n   <g id=\"patch_2\">\r\n    <path d=\"M 66.053125 227.808196 \r\nL 400.853125 227.808196 \r\nL 400.853125 10.368196 \r\nL 66.053125 10.368196 \r\nz\r\n\"/>\r\n   </g>\r\n   <g id=\"matplotlib.axis_1\">\r\n    <g id=\"xtick_1\">\r\n     <g id=\"line2d_1\">\r\n      <defs>\r\n       <path d=\"M 0 0 \r\nL 0 3.5 \r\n\" id=\"m679510effc\" style=\"stroke:#ffffff;stroke-width:0.8;\"/>\r\n      </defs>\r\n      <g>\r\n       <use style=\"fill:#ffffff;stroke:#ffffff;stroke-width:0.8;\" x=\"81.271307\" xlink:href=\"#m679510effc\" y=\"227.808196\"/>\r\n      </g>\r\n     </g>\r\n     <g id=\"text_1\">\r\n      <!-- 0.0 -->\r\n      <g style=\"fill:#ffffff;\" transform=\"translate(73.319744 242.406634)scale(0.1 -0.1)\">\r\n       <defs>\r\n        <path d=\"M 31.78125 66.40625 \r\nQ 24.171875 66.40625 20.328125 58.90625 \r\nQ 16.5 51.421875 16.5 36.375 \r\nQ 16.5 21.390625 20.328125 13.890625 \r\nQ 24.171875 6.390625 31.78125 6.390625 \r\nQ 39.453125 6.390625 43.28125 13.890625 \r\nQ 47.125 21.390625 47.125 36.375 \r\nQ 47.125 51.421875 43.28125 58.90625 \r\nQ 39.453125 66.40625 31.78125 66.40625 \r\nz\r\nM 31.78125 74.21875 \r\nQ 44.046875 74.21875 50.515625 64.515625 \r\nQ 56.984375 54.828125 56.984375 36.375 \r\nQ 56.984375 17.96875 50.515625 8.265625 \r\nQ 44.046875 -1.421875 31.78125 -1.421875 \r\nQ 19.53125 -1.421875 13.0625 8.265625 \r\nQ 6.59375 17.96875 6.59375 36.375 \r\nQ 6.59375 54.828125 13.0625 64.515625 \r\nQ 19.53125 74.21875 31.78125 74.21875 \r\nz\r\n\" id=\"DejaVuSans-48\"/>\r\n        <path d=\"M 10.6875 12.40625 \r\nL 21 12.40625 \r\nL 21 0 \r\nL 10.6875 0 \r\nz\r\n\" id=\"DejaVuSans-46\"/>\r\n       </defs>\r\n       <use xlink:href=\"#DejaVuSans-48\"/>\r\n       <use x=\"63.623047\" xlink:href=\"#DejaVuSans-46\"/>\r\n       <use x=\"95.410156\" xlink:href=\"#DejaVuSans-48\"/>\r\n      </g>\r\n     </g>\r\n    </g>\r\n    <g id=\"xtick_2\">\r\n     <g id=\"line2d_2\">\r\n      <g>\r\n       <use style=\"fill:#ffffff;stroke:#ffffff;stroke-width:0.8;\" x=\"119.316761\" xlink:href=\"#m679510effc\" y=\"227.808196\"/>\r\n      </g>\r\n     </g>\r\n     <g id=\"text_2\">\r\n      <!-- 2.5 -->\r\n      <g style=\"fill:#ffffff;\" transform=\"translate(111.365199 242.406634)scale(0.1 -0.1)\">\r\n       <defs>\r\n        <path d=\"M 19.1875 8.296875 \r\nL 53.609375 8.296875 \r\nL 53.609375 0 \r\nL 7.328125 0 \r\nL 7.328125 8.296875 \r\nQ 12.9375 14.109375 22.625 23.890625 \r\nQ 32.328125 33.6875 34.8125 36.53125 \r\nQ 39.546875 41.84375 41.421875 45.53125 \r\nQ 43.3125 49.21875 43.3125 52.78125 \r\nQ 43.3125 58.59375 39.234375 62.25 \r\nQ 35.15625 65.921875 28.609375 65.921875 \r\nQ 23.96875 65.921875 18.8125 64.3125 \r\nQ 13.671875 62.703125 7.8125 59.421875 \r\nL 7.8125 69.390625 \r\nQ 13.765625 71.78125 18.9375 73 \r\nQ 24.125 74.21875 28.421875 74.21875 \r\nQ 39.75 74.21875 46.484375 68.546875 \r\nQ 53.21875 62.890625 53.21875 53.421875 \r\nQ 53.21875 48.921875 51.53125 44.890625 \r\nQ 49.859375 40.875 45.40625 35.40625 \r\nQ 44.1875 33.984375 37.640625 27.21875 \r\nQ 31.109375 20.453125 19.1875 8.296875 \r\nz\r\n\" id=\"DejaVuSans-50\"/>\r\n        <path d=\"M 10.796875 72.90625 \r\nL 49.515625 72.90625 \r\nL 49.515625 64.59375 \r\nL 19.828125 64.59375 \r\nL 19.828125 46.734375 \r\nQ 21.96875 47.46875 24.109375 47.828125 \r\nQ 26.265625 48.1875 28.421875 48.1875 \r\nQ 40.625 48.1875 47.75 41.5 \r\nQ 54.890625 34.8125 54.890625 23.390625 \r\nQ 54.890625 11.625 47.5625 5.09375 \r\nQ 40.234375 -1.421875 26.90625 -1.421875 \r\nQ 22.3125 -1.421875 17.546875 -0.640625 \r\nQ 12.796875 0.140625 7.71875 1.703125 \r\nL 7.71875 11.625 \r\nQ 12.109375 9.234375 16.796875 8.0625 \r\nQ 21.484375 6.890625 26.703125 6.890625 \r\nQ 35.15625 6.890625 40.078125 11.328125 \r\nQ 45.015625 15.765625 45.015625 23.390625 \r\nQ 45.015625 31 40.078125 35.4375 \r\nQ 35.15625 39.890625 26.703125 39.890625 \r\nQ 22.75 39.890625 18.8125 39.015625 \r\nQ 14.890625 38.140625 10.796875 36.28125 \r\nz\r\n\" id=\"DejaVuSans-53\"/>\r\n       </defs>\r\n       <use xlink:href=\"#DejaVuSans-50\"/>\r\n       <use x=\"63.623047\" xlink:href=\"#DejaVuSans-46\"/>\r\n       <use x=\"95.410156\" xlink:href=\"#DejaVuSans-53\"/>\r\n      </g>\r\n     </g>\r\n    </g>\r\n    <g id=\"xtick_3\">\r\n     <g id=\"line2d_3\">\r\n      <g>\r\n       <use style=\"fill:#ffffff;stroke:#ffffff;stroke-width:0.8;\" x=\"157.362216\" xlink:href=\"#m679510effc\" y=\"227.808196\"/>\r\n      </g>\r\n     </g>\r\n     <g id=\"text_3\">\r\n      <!-- 5.0 -->\r\n      <g style=\"fill:#ffffff;\" transform=\"translate(149.410653 242.406634)scale(0.1 -0.1)\">\r\n       <use xlink:href=\"#DejaVuSans-53\"/>\r\n       <use x=\"63.623047\" xlink:href=\"#DejaVuSans-46\"/>\r\n       <use x=\"95.410156\" xlink:href=\"#DejaVuSans-48\"/>\r\n      </g>\r\n     </g>\r\n    </g>\r\n    <g id=\"xtick_4\">\r\n     <g id=\"line2d_4\">\r\n      <g>\r\n       <use style=\"fill:#ffffff;stroke:#ffffff;stroke-width:0.8;\" x=\"195.40767\" xlink:href=\"#m679510effc\" y=\"227.808196\"/>\r\n      </g>\r\n     </g>\r\n     <g id=\"text_4\">\r\n      <!-- 7.5 -->\r\n      <g style=\"fill:#ffffff;\" transform=\"translate(187.456108 242.406634)scale(0.1 -0.1)\">\r\n       <defs>\r\n        <path d=\"M 8.203125 72.90625 \r\nL 55.078125 72.90625 \r\nL 55.078125 68.703125 \r\nL 28.609375 0 \r\nL 18.3125 0 \r\nL 43.21875 64.59375 \r\nL 8.203125 64.59375 \r\nz\r\n\" id=\"DejaVuSans-55\"/>\r\n       </defs>\r\n       <use xlink:href=\"#DejaVuSans-55\"/>\r\n       <use x=\"63.623047\" xlink:href=\"#DejaVuSans-46\"/>\r\n       <use x=\"95.410156\" xlink:href=\"#DejaVuSans-53\"/>\r\n      </g>\r\n     </g>\r\n    </g>\r\n    <g id=\"xtick_5\">\r\n     <g id=\"line2d_5\">\r\n      <g>\r\n       <use style=\"fill:#ffffff;stroke:#ffffff;stroke-width:0.8;\" x=\"233.453125\" xlink:href=\"#m679510effc\" y=\"227.808196\"/>\r\n      </g>\r\n     </g>\r\n     <g id=\"text_5\">\r\n      <!-- 10.0 -->\r\n      <g style=\"fill:#ffffff;\" transform=\"translate(222.320312 242.406634)scale(0.1 -0.1)\">\r\n       <defs>\r\n        <path d=\"M 12.40625 8.296875 \r\nL 28.515625 8.296875 \r\nL 28.515625 63.921875 \r\nL 10.984375 60.40625 \r\nL 10.984375 69.390625 \r\nL 28.421875 72.90625 \r\nL 38.28125 72.90625 \r\nL 38.28125 8.296875 \r\nL 54.390625 8.296875 \r\nL 54.390625 0 \r\nL 12.40625 0 \r\nz\r\n\" id=\"DejaVuSans-49\"/>\r\n       </defs>\r\n       <use xlink:href=\"#DejaVuSans-49\"/>\r\n       <use x=\"63.623047\" xlink:href=\"#DejaVuSans-48\"/>\r\n       <use x=\"127.246094\" xlink:href=\"#DejaVuSans-46\"/>\r\n       <use x=\"159.033203\" xlink:href=\"#DejaVuSans-48\"/>\r\n      </g>\r\n     </g>\r\n    </g>\r\n    <g id=\"xtick_6\">\r\n     <g id=\"line2d_6\">\r\n      <g>\r\n       <use style=\"fill:#ffffff;stroke:#ffffff;stroke-width:0.8;\" x=\"271.49858\" xlink:href=\"#m679510effc\" y=\"227.808196\"/>\r\n      </g>\r\n     </g>\r\n     <g id=\"text_6\">\r\n      <!-- 12.5 -->\r\n      <g style=\"fill:#ffffff;\" transform=\"translate(260.365767 242.406634)scale(0.1 -0.1)\">\r\n       <use xlink:href=\"#DejaVuSans-49\"/>\r\n       <use x=\"63.623047\" xlink:href=\"#DejaVuSans-50\"/>\r\n       <use x=\"127.246094\" xlink:href=\"#DejaVuSans-46\"/>\r\n       <use x=\"159.033203\" xlink:href=\"#DejaVuSans-53\"/>\r\n      </g>\r\n     </g>\r\n    </g>\r\n    <g id=\"xtick_7\">\r\n     <g id=\"line2d_7\">\r\n      <g>\r\n       <use style=\"fill:#ffffff;stroke:#ffffff;stroke-width:0.8;\" x=\"309.544034\" xlink:href=\"#m679510effc\" y=\"227.808196\"/>\r\n      </g>\r\n     </g>\r\n     <g id=\"text_7\">\r\n      <!-- 15.0 -->\r\n      <g style=\"fill:#ffffff;\" transform=\"translate(298.411222 242.406634)scale(0.1 -0.1)\">\r\n       <use xlink:href=\"#DejaVuSans-49\"/>\r\n       <use x=\"63.623047\" xlink:href=\"#DejaVuSans-53\"/>\r\n       <use x=\"127.246094\" xlink:href=\"#DejaVuSans-46\"/>\r\n       <use x=\"159.033203\" xlink:href=\"#DejaVuSans-48\"/>\r\n      </g>\r\n     </g>\r\n    </g>\r\n    <g id=\"xtick_8\">\r\n     <g id=\"line2d_8\">\r\n      <g>\r\n       <use style=\"fill:#ffffff;stroke:#ffffff;stroke-width:0.8;\" x=\"347.589489\" xlink:href=\"#m679510effc\" y=\"227.808196\"/>\r\n      </g>\r\n     </g>\r\n     <g id=\"text_8\">\r\n      <!-- 17.5 -->\r\n      <g style=\"fill:#ffffff;\" transform=\"translate(336.456676 242.406634)scale(0.1 -0.1)\">\r\n       <use xlink:href=\"#DejaVuSans-49\"/>\r\n       <use x=\"63.623047\" xlink:href=\"#DejaVuSans-55\"/>\r\n       <use x=\"127.246094\" xlink:href=\"#DejaVuSans-46\"/>\r\n       <use x=\"159.033203\" xlink:href=\"#DejaVuSans-53\"/>\r\n      </g>\r\n     </g>\r\n    </g>\r\n    <g id=\"xtick_9\">\r\n     <g id=\"line2d_9\">\r\n      <g>\r\n       <use style=\"fill:#ffffff;stroke:#ffffff;stroke-width:0.8;\" x=\"385.634943\" xlink:href=\"#m679510effc\" y=\"227.808196\"/>\r\n      </g>\r\n     </g>\r\n     <g id=\"text_9\">\r\n      <!-- 20.0 -->\r\n      <g style=\"fill:#ffffff;\" transform=\"translate(374.502131 242.406634)scale(0.1 -0.1)\">\r\n       <use xlink:href=\"#DejaVuSans-50\"/>\r\n       <use x=\"63.623047\" xlink:href=\"#DejaVuSans-48\"/>\r\n       <use x=\"127.246094\" xlink:href=\"#DejaVuSans-46\"/>\r\n       <use x=\"159.033203\" xlink:href=\"#DejaVuSans-48\"/>\r\n      </g>\r\n     </g>\r\n    </g>\r\n    <g id=\"text_10\">\r\n     <!-- Generation -->\r\n     <g style=\"fill:#ffffff;\" transform=\"translate(205.560156 256.084759)scale(0.1 -0.1)\">\r\n      <defs>\r\n       <path d=\"M 59.515625 10.40625 \r\nL 59.515625 29.984375 \r\nL 43.40625 29.984375 \r\nL 43.40625 38.09375 \r\nL 69.28125 38.09375 \r\nL 69.28125 6.78125 \r\nQ 63.578125 2.734375 56.6875 0.65625 \r\nQ 49.8125 -1.421875 42 -1.421875 \r\nQ 24.90625 -1.421875 15.25 8.5625 \r\nQ 5.609375 18.5625 5.609375 36.375 \r\nQ 5.609375 54.25 15.25 64.234375 \r\nQ 24.90625 74.21875 42 74.21875 \r\nQ 49.125 74.21875 55.546875 72.453125 \r\nQ 61.96875 70.703125 67.390625 67.28125 \r\nL 67.390625 56.78125 \r\nQ 61.921875 61.421875 55.765625 63.765625 \r\nQ 49.609375 66.109375 42.828125 66.109375 \r\nQ 29.4375 66.109375 22.71875 58.640625 \r\nQ 16.015625 51.171875 16.015625 36.375 \r\nQ 16.015625 21.625 22.71875 14.15625 \r\nQ 29.4375 6.6875 42.828125 6.6875 \r\nQ 48.046875 6.6875 52.140625 7.59375 \r\nQ 56.25 8.5 59.515625 10.40625 \r\nz\r\n\" id=\"DejaVuSans-71\"/>\r\n       <path d=\"M 56.203125 29.59375 \r\nL 56.203125 25.203125 \r\nL 14.890625 25.203125 \r\nQ 15.484375 15.921875 20.484375 11.0625 \r\nQ 25.484375 6.203125 34.421875 6.203125 \r\nQ 39.59375 6.203125 44.453125 7.46875 \r\nQ 49.3125 8.734375 54.109375 11.28125 \r\nL 54.109375 2.78125 \r\nQ 49.265625 0.734375 44.1875 -0.34375 \r\nQ 39.109375 -1.421875 33.890625 -1.421875 \r\nQ 20.796875 -1.421875 13.15625 6.1875 \r\nQ 5.515625 13.8125 5.515625 26.8125 \r\nQ 5.515625 40.234375 12.765625 48.109375 \r\nQ 20.015625 56 32.328125 56 \r\nQ 43.359375 56 49.78125 48.890625 \r\nQ 56.203125 41.796875 56.203125 29.59375 \r\nz\r\nM 47.21875 32.234375 \r\nQ 47.125 39.59375 43.09375 43.984375 \r\nQ 39.0625 48.390625 32.421875 48.390625 \r\nQ 24.90625 48.390625 20.390625 44.140625 \r\nQ 15.875 39.890625 15.1875 32.171875 \r\nz\r\n\" id=\"DejaVuSans-101\"/>\r\n       <path d=\"M 54.890625 33.015625 \r\nL 54.890625 0 \r\nL 45.90625 0 \r\nL 45.90625 32.71875 \r\nQ 45.90625 40.484375 42.875 44.328125 \r\nQ 39.84375 48.1875 33.796875 48.1875 \r\nQ 26.515625 48.1875 22.3125 43.546875 \r\nQ 18.109375 38.921875 18.109375 30.90625 \r\nL 18.109375 0 \r\nL 9.078125 0 \r\nL 9.078125 54.6875 \r\nL 18.109375 54.6875 \r\nL 18.109375 46.1875 \r\nQ 21.34375 51.125 25.703125 53.5625 \r\nQ 30.078125 56 35.796875 56 \r\nQ 45.21875 56 50.046875 50.171875 \r\nQ 54.890625 44.34375 54.890625 33.015625 \r\nz\r\n\" id=\"DejaVuSans-110\"/>\r\n       <path d=\"M 41.109375 46.296875 \r\nQ 39.59375 47.171875 37.8125 47.578125 \r\nQ 36.03125 48 33.890625 48 \r\nQ 26.265625 48 22.1875 43.046875 \r\nQ 18.109375 38.09375 18.109375 28.8125 \r\nL 18.109375 0 \r\nL 9.078125 0 \r\nL 9.078125 54.6875 \r\nL 18.109375 54.6875 \r\nL 18.109375 46.1875 \r\nQ 20.953125 51.171875 25.484375 53.578125 \r\nQ 30.03125 56 36.53125 56 \r\nQ 37.453125 56 38.578125 55.875 \r\nQ 39.703125 55.765625 41.0625 55.515625 \r\nz\r\n\" id=\"DejaVuSans-114\"/>\r\n       <path d=\"M 34.28125 27.484375 \r\nQ 23.390625 27.484375 19.1875 25 \r\nQ 14.984375 22.515625 14.984375 16.5 \r\nQ 14.984375 11.71875 18.140625 8.90625 \r\nQ 21.296875 6.109375 26.703125 6.109375 \r\nQ 34.1875 6.109375 38.703125 11.40625 \r\nQ 43.21875 16.703125 43.21875 25.484375 \r\nL 43.21875 27.484375 \r\nz\r\nM 52.203125 31.203125 \r\nL 52.203125 0 \r\nL 43.21875 0 \r\nL 43.21875 8.296875 \r\nQ 40.140625 3.328125 35.546875 0.953125 \r\nQ 30.953125 -1.421875 24.3125 -1.421875 \r\nQ 15.921875 -1.421875 10.953125 3.296875 \r\nQ 6 8.015625 6 15.921875 \r\nQ 6 25.140625 12.171875 29.828125 \r\nQ 18.359375 34.515625 30.609375 34.515625 \r\nL 43.21875 34.515625 \r\nL 43.21875 35.40625 \r\nQ 43.21875 41.609375 39.140625 45 \r\nQ 35.0625 48.390625 27.6875 48.390625 \r\nQ 23 48.390625 18.546875 47.265625 \r\nQ 14.109375 46.140625 10.015625 43.890625 \r\nL 10.015625 52.203125 \r\nQ 14.9375 54.109375 19.578125 55.046875 \r\nQ 24.21875 56 28.609375 56 \r\nQ 40.484375 56 46.34375 49.84375 \r\nQ 52.203125 43.703125 52.203125 31.203125 \r\nz\r\n\" id=\"DejaVuSans-97\"/>\r\n       <path d=\"M 18.3125 70.21875 \r\nL 18.3125 54.6875 \r\nL 36.8125 54.6875 \r\nL 36.8125 47.703125 \r\nL 18.3125 47.703125 \r\nL 18.3125 18.015625 \r\nQ 18.3125 11.328125 20.140625 9.421875 \r\nQ 21.96875 7.515625 27.59375 7.515625 \r\nL 36.8125 7.515625 \r\nL 36.8125 0 \r\nL 27.59375 0 \r\nQ 17.1875 0 13.234375 3.875 \r\nQ 9.28125 7.765625 9.28125 18.015625 \r\nL 9.28125 47.703125 \r\nL 2.6875 47.703125 \r\nL 2.6875 54.6875 \r\nL 9.28125 54.6875 \r\nL 9.28125 70.21875 \r\nz\r\n\" id=\"DejaVuSans-116\"/>\r\n       <path d=\"M 9.421875 54.6875 \r\nL 18.40625 54.6875 \r\nL 18.40625 0 \r\nL 9.421875 0 \r\nz\r\nM 9.421875 75.984375 \r\nL 18.40625 75.984375 \r\nL 18.40625 64.59375 \r\nL 9.421875 64.59375 \r\nz\r\n\" id=\"DejaVuSans-105\"/>\r\n       <path d=\"M 30.609375 48.390625 \r\nQ 23.390625 48.390625 19.1875 42.75 \r\nQ 14.984375 37.109375 14.984375 27.296875 \r\nQ 14.984375 17.484375 19.15625 11.84375 \r\nQ 23.34375 6.203125 30.609375 6.203125 \r\nQ 37.796875 6.203125 41.984375 11.859375 \r\nQ 46.1875 17.53125 46.1875 27.296875 \r\nQ 46.1875 37.015625 41.984375 42.703125 \r\nQ 37.796875 48.390625 30.609375 48.390625 \r\nz\r\nM 30.609375 56 \r\nQ 42.328125 56 49.015625 48.375 \r\nQ 55.71875 40.765625 55.71875 27.296875 \r\nQ 55.71875 13.875 49.015625 6.21875 \r\nQ 42.328125 -1.421875 30.609375 -1.421875 \r\nQ 18.84375 -1.421875 12.171875 6.21875 \r\nQ 5.515625 13.875 5.515625 27.296875 \r\nQ 5.515625 40.765625 12.171875 48.375 \r\nQ 18.84375 56 30.609375 56 \r\nz\r\n\" id=\"DejaVuSans-111\"/>\r\n      </defs>\r\n      <use xlink:href=\"#DejaVuSans-71\"/>\r\n      <use x=\"77.490234\" xlink:href=\"#DejaVuSans-101\"/>\r\n      <use x=\"139.013672\" xlink:href=\"#DejaVuSans-110\"/>\r\n      <use x=\"202.392578\" xlink:href=\"#DejaVuSans-101\"/>\r\n      <use x=\"263.916016\" xlink:href=\"#DejaVuSans-114\"/>\r\n      <use x=\"305.029297\" xlink:href=\"#DejaVuSans-97\"/>\r\n      <use x=\"366.308594\" xlink:href=\"#DejaVuSans-116\"/>\r\n      <use x=\"405.517578\" xlink:href=\"#DejaVuSans-105\"/>\r\n      <use x=\"433.300781\" xlink:href=\"#DejaVuSans-111\"/>\r\n      <use x=\"494.482422\" xlink:href=\"#DejaVuSans-110\"/>\r\n     </g>\r\n    </g>\r\n   </g>\r\n   <g id=\"matplotlib.axis_2\">\r\n    <g id=\"ytick_1\">\r\n     <g id=\"line2d_10\">\r\n      <defs>\r\n       <path d=\"M 0 0 \r\nL -3.5 0 \r\n\" id=\"m76752ff86c\" style=\"stroke:#ffffff;stroke-width:0.8;\"/>\r\n      </defs>\r\n      <g>\r\n       <use style=\"fill:#ffffff;stroke:#ffffff;stroke-width:0.8;\" x=\"66.053125\" xlink:href=\"#m76752ff86c\" y=\"203.762003\"/>\r\n      </g>\r\n     </g>\r\n     <g id=\"text_11\">\r\n      <!-- 164000 -->\r\n      <g style=\"fill:#ffffff;\" transform=\"translate(20.878125 207.561221)scale(0.1 -0.1)\">\r\n       <defs>\r\n        <path d=\"M 33.015625 40.375 \r\nQ 26.375 40.375 22.484375 35.828125 \r\nQ 18.609375 31.296875 18.609375 23.390625 \r\nQ 18.609375 15.53125 22.484375 10.953125 \r\nQ 26.375 6.390625 33.015625 6.390625 \r\nQ 39.65625 6.390625 43.53125 10.953125 \r\nQ 47.40625 15.53125 47.40625 23.390625 \r\nQ 47.40625 31.296875 43.53125 35.828125 \r\nQ 39.65625 40.375 33.015625 40.375 \r\nz\r\nM 52.59375 71.296875 \r\nL 52.59375 62.3125 \r\nQ 48.875 64.0625 45.09375 64.984375 \r\nQ 41.3125 65.921875 37.59375 65.921875 \r\nQ 27.828125 65.921875 22.671875 59.328125 \r\nQ 17.53125 52.734375 16.796875 39.40625 \r\nQ 19.671875 43.65625 24.015625 45.921875 \r\nQ 28.375 48.1875 33.59375 48.1875 \r\nQ 44.578125 48.1875 50.953125 41.515625 \r\nQ 57.328125 34.859375 57.328125 23.390625 \r\nQ 57.328125 12.15625 50.6875 5.359375 \r\nQ 44.046875 -1.421875 33.015625 -1.421875 \r\nQ 20.359375 -1.421875 13.671875 8.265625 \r\nQ 6.984375 17.96875 6.984375 36.375 \r\nQ 6.984375 53.65625 15.1875 63.9375 \r\nQ 23.390625 74.21875 37.203125 74.21875 \r\nQ 40.921875 74.21875 44.703125 73.484375 \r\nQ 48.484375 72.75 52.59375 71.296875 \r\nz\r\n\" id=\"DejaVuSans-54\"/>\r\n        <path d=\"M 37.796875 64.3125 \r\nL 12.890625 25.390625 \r\nL 37.796875 25.390625 \r\nz\r\nM 35.203125 72.90625 \r\nL 47.609375 72.90625 \r\nL 47.609375 25.390625 \r\nL 58.015625 25.390625 \r\nL 58.015625 17.1875 \r\nL 47.609375 17.1875 \r\nL 47.609375 0 \r\nL 37.796875 0 \r\nL 37.796875 17.1875 \r\nL 4.890625 17.1875 \r\nL 4.890625 26.703125 \r\nz\r\n\" id=\"DejaVuSans-52\"/>\r\n       </defs>\r\n       <use xlink:href=\"#DejaVuSans-49\"/>\r\n       <use x=\"63.623047\" xlink:href=\"#DejaVuSans-54\"/>\r\n       <use x=\"127.246094\" xlink:href=\"#DejaVuSans-52\"/>\r\n       <use x=\"190.869141\" xlink:href=\"#DejaVuSans-48\"/>\r\n       <use x=\"254.492188\" xlink:href=\"#DejaVuSans-48\"/>\r\n       <use x=\"318.115234\" xlink:href=\"#DejaVuSans-48\"/>\r\n      </g>\r\n     </g>\r\n    </g>\r\n    <g id=\"ytick_2\">\r\n     <g id=\"line2d_11\">\r\n      <g>\r\n       <use style=\"fill:#ffffff;stroke:#ffffff;stroke-width:0.8;\" x=\"66.053125\" xlink:href=\"#m76752ff86c\" y=\"176.224462\"/>\r\n      </g>\r\n     </g>\r\n     <g id=\"text_12\">\r\n      <!-- 165000 -->\r\n      <g style=\"fill:#ffffff;\" transform=\"translate(20.878125 180.023681)scale(0.1 -0.1)\">\r\n       <use xlink:href=\"#DejaVuSans-49\"/>\r\n       <use x=\"63.623047\" xlink:href=\"#DejaVuSans-54\"/>\r\n       <use x=\"127.246094\" xlink:href=\"#DejaVuSans-53\"/>\r\n       <use x=\"190.869141\" xlink:href=\"#DejaVuSans-48\"/>\r\n       <use x=\"254.492188\" xlink:href=\"#DejaVuSans-48\"/>\r\n       <use x=\"318.115234\" xlink:href=\"#DejaVuSans-48\"/>\r\n      </g>\r\n     </g>\r\n    </g>\r\n    <g id=\"ytick_3\">\r\n     <g id=\"line2d_12\">\r\n      <g>\r\n       <use style=\"fill:#ffffff;stroke:#ffffff;stroke-width:0.8;\" x=\"66.053125\" xlink:href=\"#m76752ff86c\" y=\"148.686921\"/>\r\n      </g>\r\n     </g>\r\n     <g id=\"text_13\">\r\n      <!-- 166000 -->\r\n      <g style=\"fill:#ffffff;\" transform=\"translate(20.878125 152.48614)scale(0.1 -0.1)\">\r\n       <use xlink:href=\"#DejaVuSans-49\"/>\r\n       <use x=\"63.623047\" xlink:href=\"#DejaVuSans-54\"/>\r\n       <use x=\"127.246094\" xlink:href=\"#DejaVuSans-54\"/>\r\n       <use x=\"190.869141\" xlink:href=\"#DejaVuSans-48\"/>\r\n       <use x=\"254.492188\" xlink:href=\"#DejaVuSans-48\"/>\r\n       <use x=\"318.115234\" xlink:href=\"#DejaVuSans-48\"/>\r\n      </g>\r\n     </g>\r\n    </g>\r\n    <g id=\"ytick_4\">\r\n     <g id=\"line2d_13\">\r\n      <g>\r\n       <use style=\"fill:#ffffff;stroke:#ffffff;stroke-width:0.8;\" x=\"66.053125\" xlink:href=\"#m76752ff86c\" y=\"121.149381\"/>\r\n      </g>\r\n     </g>\r\n     <g id=\"text_14\">\r\n      <!-- 167000 -->\r\n      <g style=\"fill:#ffffff;\" transform=\"translate(20.878125 124.9486)scale(0.1 -0.1)\">\r\n       <use xlink:href=\"#DejaVuSans-49\"/>\r\n       <use x=\"63.623047\" xlink:href=\"#DejaVuSans-54\"/>\r\n       <use x=\"127.246094\" xlink:href=\"#DejaVuSans-55\"/>\r\n       <use x=\"190.869141\" xlink:href=\"#DejaVuSans-48\"/>\r\n       <use x=\"254.492188\" xlink:href=\"#DejaVuSans-48\"/>\r\n       <use x=\"318.115234\" xlink:href=\"#DejaVuSans-48\"/>\r\n      </g>\r\n     </g>\r\n    </g>\r\n    <g id=\"ytick_5\">\r\n     <g id=\"line2d_14\">\r\n      <g>\r\n       <use style=\"fill:#ffffff;stroke:#ffffff;stroke-width:0.8;\" x=\"66.053125\" xlink:href=\"#m76752ff86c\" y=\"93.61184\"/>\r\n      </g>\r\n     </g>\r\n     <g id=\"text_15\">\r\n      <!-- 168000 -->\r\n      <g style=\"fill:#ffffff;\" transform=\"translate(20.878125 97.411059)scale(0.1 -0.1)\">\r\n       <defs>\r\n        <path d=\"M 31.78125 34.625 \r\nQ 24.75 34.625 20.71875 30.859375 \r\nQ 16.703125 27.09375 16.703125 20.515625 \r\nQ 16.703125 13.921875 20.71875 10.15625 \r\nQ 24.75 6.390625 31.78125 6.390625 \r\nQ 38.8125 6.390625 42.859375 10.171875 \r\nQ 46.921875 13.96875 46.921875 20.515625 \r\nQ 46.921875 27.09375 42.890625 30.859375 \r\nQ 38.875 34.625 31.78125 34.625 \r\nz\r\nM 21.921875 38.8125 \r\nQ 15.578125 40.375 12.03125 44.71875 \r\nQ 8.5 49.078125 8.5 55.328125 \r\nQ 8.5 64.0625 14.71875 69.140625 \r\nQ 20.953125 74.21875 31.78125 74.21875 \r\nQ 42.671875 74.21875 48.875 69.140625 \r\nQ 55.078125 64.0625 55.078125 55.328125 \r\nQ 55.078125 49.078125 51.53125 44.71875 \r\nQ 48 40.375 41.703125 38.8125 \r\nQ 48.828125 37.15625 52.796875 32.3125 \r\nQ 56.78125 27.484375 56.78125 20.515625 \r\nQ 56.78125 9.90625 50.3125 4.234375 \r\nQ 43.84375 -1.421875 31.78125 -1.421875 \r\nQ 19.734375 -1.421875 13.25 4.234375 \r\nQ 6.78125 9.90625 6.78125 20.515625 \r\nQ 6.78125 27.484375 10.78125 32.3125 \r\nQ 14.796875 37.15625 21.921875 38.8125 \r\nz\r\nM 18.3125 54.390625 \r\nQ 18.3125 48.734375 21.84375 45.5625 \r\nQ 25.390625 42.390625 31.78125 42.390625 \r\nQ 38.140625 42.390625 41.71875 45.5625 \r\nQ 45.3125 48.734375 45.3125 54.390625 \r\nQ 45.3125 60.0625 41.71875 63.234375 \r\nQ 38.140625 66.40625 31.78125 66.40625 \r\nQ 25.390625 66.40625 21.84375 63.234375 \r\nQ 18.3125 60.0625 18.3125 54.390625 \r\nz\r\n\" id=\"DejaVuSans-56\"/>\r\n       </defs>\r\n       <use xlink:href=\"#DejaVuSans-49\"/>\r\n       <use x=\"63.623047\" xlink:href=\"#DejaVuSans-54\"/>\r\n       <use x=\"127.246094\" xlink:href=\"#DejaVuSans-56\"/>\r\n       <use x=\"190.869141\" xlink:href=\"#DejaVuSans-48\"/>\r\n       <use x=\"254.492188\" xlink:href=\"#DejaVuSans-48\"/>\r\n       <use x=\"318.115234\" xlink:href=\"#DejaVuSans-48\"/>\r\n      </g>\r\n     </g>\r\n    </g>\r\n    <g id=\"ytick_6\">\r\n     <g id=\"line2d_15\">\r\n      <g>\r\n       <use style=\"fill:#ffffff;stroke:#ffffff;stroke-width:0.8;\" x=\"66.053125\" xlink:href=\"#m76752ff86c\" y=\"66.0743\"/>\r\n      </g>\r\n     </g>\r\n     <g id=\"text_16\">\r\n      <!-- 169000 -->\r\n      <g style=\"fill:#ffffff;\" transform=\"translate(20.878125 69.873519)scale(0.1 -0.1)\">\r\n       <defs>\r\n        <path d=\"M 10.984375 1.515625 \r\nL 10.984375 10.5 \r\nQ 14.703125 8.734375 18.5 7.8125 \r\nQ 22.3125 6.890625 25.984375 6.890625 \r\nQ 35.75 6.890625 40.890625 13.453125 \r\nQ 46.046875 20.015625 46.78125 33.40625 \r\nQ 43.953125 29.203125 39.59375 26.953125 \r\nQ 35.25 24.703125 29.984375 24.703125 \r\nQ 19.046875 24.703125 12.671875 31.3125 \r\nQ 6.296875 37.9375 6.296875 49.421875 \r\nQ 6.296875 60.640625 12.9375 67.421875 \r\nQ 19.578125 74.21875 30.609375 74.21875 \r\nQ 43.265625 74.21875 49.921875 64.515625 \r\nQ 56.59375 54.828125 56.59375 36.375 \r\nQ 56.59375 19.140625 48.40625 8.859375 \r\nQ 40.234375 -1.421875 26.421875 -1.421875 \r\nQ 22.703125 -1.421875 18.890625 -0.6875 \r\nQ 15.09375 0.046875 10.984375 1.515625 \r\nz\r\nM 30.609375 32.421875 \r\nQ 37.25 32.421875 41.125 36.953125 \r\nQ 45.015625 41.5 45.015625 49.421875 \r\nQ 45.015625 57.28125 41.125 61.84375 \r\nQ 37.25 66.40625 30.609375 66.40625 \r\nQ 23.96875 66.40625 20.09375 61.84375 \r\nQ 16.21875 57.28125 16.21875 49.421875 \r\nQ 16.21875 41.5 20.09375 36.953125 \r\nQ 23.96875 32.421875 30.609375 32.421875 \r\nz\r\n\" id=\"DejaVuSans-57\"/>\r\n       </defs>\r\n       <use xlink:href=\"#DejaVuSans-49\"/>\r\n       <use x=\"63.623047\" xlink:href=\"#DejaVuSans-54\"/>\r\n       <use x=\"127.246094\" xlink:href=\"#DejaVuSans-57\"/>\r\n       <use x=\"190.869141\" xlink:href=\"#DejaVuSans-48\"/>\r\n       <use x=\"254.492188\" xlink:href=\"#DejaVuSans-48\"/>\r\n       <use x=\"318.115234\" xlink:href=\"#DejaVuSans-48\"/>\r\n      </g>\r\n     </g>\r\n    </g>\r\n    <g id=\"ytick_7\">\r\n     <g id=\"line2d_16\">\r\n      <g>\r\n       <use style=\"fill:#ffffff;stroke:#ffffff;stroke-width:0.8;\" x=\"66.053125\" xlink:href=\"#m76752ff86c\" y=\"38.536759\"/>\r\n      </g>\r\n     </g>\r\n     <g id=\"text_17\">\r\n      <!-- 170000 -->\r\n      <g style=\"fill:#ffffff;\" transform=\"translate(20.878125 42.335978)scale(0.1 -0.1)\">\r\n       <use xlink:href=\"#DejaVuSans-49\"/>\r\n       <use x=\"63.623047\" xlink:href=\"#DejaVuSans-55\"/>\r\n       <use x=\"127.246094\" xlink:href=\"#DejaVuSans-48\"/>\r\n       <use x=\"190.869141\" xlink:href=\"#DejaVuSans-48\"/>\r\n       <use x=\"254.492188\" xlink:href=\"#DejaVuSans-48\"/>\r\n       <use x=\"318.115234\" xlink:href=\"#DejaVuSans-48\"/>\r\n      </g>\r\n     </g>\r\n    </g>\r\n    <g id=\"ytick_8\">\r\n     <g id=\"line2d_17\">\r\n      <g>\r\n       <use style=\"fill:#ffffff;stroke:#ffffff;stroke-width:0.8;\" x=\"66.053125\" xlink:href=\"#m76752ff86c\" y=\"10.999219\"/>\r\n      </g>\r\n     </g>\r\n     <g id=\"text_18\">\r\n      <!-- 171000 -->\r\n      <g style=\"fill:#ffffff;\" transform=\"translate(20.878125 14.798438)scale(0.1 -0.1)\">\r\n       <use xlink:href=\"#DejaVuSans-49\"/>\r\n       <use x=\"63.623047\" xlink:href=\"#DejaVuSans-55\"/>\r\n       <use x=\"127.246094\" xlink:href=\"#DejaVuSans-49\"/>\r\n       <use x=\"190.869141\" xlink:href=\"#DejaVuSans-48\"/>\r\n       <use x=\"254.492188\" xlink:href=\"#DejaVuSans-48\"/>\r\n       <use x=\"318.115234\" xlink:href=\"#DejaVuSans-48\"/>\r\n      </g>\r\n     </g>\r\n    </g>\r\n    <g id=\"text_19\">\r\n     <!-- Fitness -->\r\n     <g style=\"fill:#0000ff;\" transform=\"translate(14.798438 136.405384)rotate(-90)scale(0.1 -0.1)\">\r\n      <defs>\r\n       <path d=\"M 9.8125 72.90625 \r\nL 51.703125 72.90625 \r\nL 51.703125 64.59375 \r\nL 19.671875 64.59375 \r\nL 19.671875 43.109375 \r\nL 48.578125 43.109375 \r\nL 48.578125 34.8125 \r\nL 19.671875 34.8125 \r\nL 19.671875 0 \r\nL 9.8125 0 \r\nz\r\n\" id=\"DejaVuSans-70\"/>\r\n       <path d=\"M 44.28125 53.078125 \r\nL 44.28125 44.578125 \r\nQ 40.484375 46.53125 36.375 47.5 \r\nQ 32.28125 48.484375 27.875 48.484375 \r\nQ 21.1875 48.484375 17.84375 46.4375 \r\nQ 14.5 44.390625 14.5 40.28125 \r\nQ 14.5 37.15625 16.890625 35.375 \r\nQ 19.28125 33.59375 26.515625 31.984375 \r\nL 29.59375 31.296875 \r\nQ 39.15625 29.25 43.1875 25.515625 \r\nQ 47.21875 21.78125 47.21875 15.09375 \r\nQ 47.21875 7.46875 41.1875 3.015625 \r\nQ 35.15625 -1.421875 24.609375 -1.421875 \r\nQ 20.21875 -1.421875 15.453125 -0.5625 \r\nQ 10.6875 0.296875 5.421875 2 \r\nL 5.421875 11.28125 \r\nQ 10.40625 8.6875 15.234375 7.390625 \r\nQ 20.0625 6.109375 24.8125 6.109375 \r\nQ 31.15625 6.109375 34.5625 8.28125 \r\nQ 37.984375 10.453125 37.984375 14.40625 \r\nQ 37.984375 18.0625 35.515625 20.015625 \r\nQ 33.0625 21.96875 24.703125 23.78125 \r\nL 21.578125 24.515625 \r\nQ 13.234375 26.265625 9.515625 29.90625 \r\nQ 5.8125 33.546875 5.8125 39.890625 \r\nQ 5.8125 47.609375 11.28125 51.796875 \r\nQ 16.75 56 26.8125 56 \r\nQ 31.78125 56 36.171875 55.265625 \r\nQ 40.578125 54.546875 44.28125 53.078125 \r\nz\r\n\" id=\"DejaVuSans-115\"/>\r\n      </defs>\r\n      <use xlink:href=\"#DejaVuSans-70\"/>\r\n      <use x=\"50.269531\" xlink:href=\"#DejaVuSans-105\"/>\r\n      <use x=\"78.052734\" xlink:href=\"#DejaVuSans-116\"/>\r\n      <use x=\"117.261719\" xlink:href=\"#DejaVuSans-110\"/>\r\n      <use x=\"180.640625\" xlink:href=\"#DejaVuSans-101\"/>\r\n      <use x=\"242.164062\" xlink:href=\"#DejaVuSans-115\"/>\r\n      <use x=\"294.263672\" xlink:href=\"#DejaVuSans-115\"/>\r\n     </g>\r\n    </g>\r\n   </g>\r\n   <g id=\"line2d_18\">\r\n    <path clip-path=\"url(#p32582733ee)\" d=\"M 81.271307 217.92456 \r\nL 96.489489 140.486242 \r\nL 111.70767 106.011995 \r\nL 126.925852 41.689808 \r\nL 142.144034 20.251832 \r\nL 157.362216 20.251832 \r\nL 172.580398 20.251832 \r\nL 187.79858 20.251832 \r\nL 203.016761 20.251832 \r\nL 218.234943 20.251832 \r\nL 233.453125 20.251832 \r\nL 248.671307 20.251832 \r\nL 263.889489 20.251832 \r\nL 279.10767 20.251832 \r\nL 294.325852 20.251832 \r\nL 309.544034 20.251832 \r\nL 324.762216 20.251832 \r\nL 339.980398 20.251832 \r\nL 355.19858 20.251832 \r\nL 370.416761 20.251832 \r\nL 385.634943 20.251832 \r\n\" style=\"fill:none;stroke:#ff0000;stroke-linecap:square;stroke-width:1.5;\"/>\r\n   </g>\r\n   <g id=\"patch_3\">\r\n    <path d=\"M 66.053125 227.808196 \r\nL 66.053125 10.368196 \r\n\" style=\"fill:none;stroke:#ffffff;stroke-linecap:square;stroke-linejoin:miter;stroke-width:0.8;\"/>\r\n   </g>\r\n   <g id=\"patch_4\">\r\n    <path d=\"M 400.853125 227.808196 \r\nL 400.853125 10.368196 \r\n\" style=\"fill:none;stroke:#ffffff;stroke-linecap:square;stroke-linejoin:miter;stroke-width:0.8;\"/>\r\n   </g>\r\n   <g id=\"patch_5\">\r\n    <path d=\"M 66.053125 227.808196 \r\nL 400.853125 227.808196 \r\n\" style=\"fill:none;stroke:#ffffff;stroke-linecap:square;stroke-linejoin:miter;stroke-width:0.8;\"/>\r\n   </g>\r\n   <g id=\"patch_6\">\r\n    <path d=\"M 66.053125 10.368196 \r\nL 400.853125 10.368196 \r\n\" style=\"fill:none;stroke:#ffffff;stroke-linecap:square;stroke-linejoin:miter;stroke-width:0.8;\"/>\r\n   </g>\r\n  </g>\r\n </g>\r\n <defs>\r\n  <clipPath id=\"p32582733ee\">\r\n   <rect height=\"217.44\" width=\"334.8\" x=\"66.053125\" y=\"10.368196\"/>\r\n  </clipPath>\r\n </defs>\r\n</svg>\r\n",
      "text/plain": [
       "<Figure size 432x288 with 1 Axes>"
      ]
     },
     "metadata": {},
     "output_type": "display_data"
    }
   ],
   "source": [
    "gen = logbook.select(\"gen\")\n",
    "avgs = logbook.select(\"avg\")\n",
    "\n",
    "fig = plt.figure()\n",
    "\n",
    "ax = plt.gca()\n",
    "line = ax.plot(gen, avgs, \"r-\", label=\"Average Fitness\")\n",
    "ax.set_xlabel(\"Generation\")\n",
    "ax.set_ylabel(\"Fitness\", color=\"b\")\n",
    "\n",
    "plt.plot()"
   ]
  },
  {
   "cell_type": "code",
   "execution_count": 18,
   "metadata": {},
   "outputs": [],
   "source": [
    "outDirPath = \"../../Output/\"\n",
    "outFilePath = outDirPath + file_name.strip(\".in\") + \".out\"\n",
    "\n",
    "vehicles_rides = get_rides_from_ind(best_sol)\n",
    "\n",
    "with open(outFilePath, \"w\") as f:\n",
    "    for v_r in vehicles_rides:\n",
    "      if v_r is None:\n",
    "        f.write(str(0))\n",
    "      else:\n",
    "        v_r = sort_rides(v_r)    \n",
    "        f.write(str(len(v_r)))\n",
    "        f.write(\" \")\n",
    "        f.write(\" \".join(str(pos) for pos, _ in v_r))\n",
    "      \n",
    "      f.write(\"\\n\")"
   ]
  }
 ],
 "metadata": {
  "interpreter": {
   "hash": "d5eb7a8f509e7ccbf47035c59f1ff1c37d44186d90acd8dc6b44b2ecc8ca6e3f"
  },
  "kernelspec": {
   "display_name": "Python 3.8.6 64-bit",
   "name": "python3"
  },
  "language_info": {
   "codemirror_mode": {
    "name": "ipython",
    "version": 3
   },
   "file_extension": ".py",
   "mimetype": "text/x-python",
   "name": "python",
   "nbconvert_exporter": "python",
   "pygments_lexer": "ipython3",
   "version": "3.8.6"
  },
  "orig_nbformat": 4
 },
 "nbformat": 4,
 "nbformat_minor": 2
}
