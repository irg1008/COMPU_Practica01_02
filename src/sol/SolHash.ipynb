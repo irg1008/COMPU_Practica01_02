{
 "cells": [
  {
   "cell_type": "code",
   "execution_count": 647,
   "metadata": {},
   "outputs": [],
   "source": [
    "from os import listdir\n",
    "from os.path import join, isfile\n",
    "from typing import List"
   ]
  },
  {
   "cell_type": "code",
   "execution_count": 648,
   "metadata": {},
   "outputs": [],
   "source": [
    "def get_data_from_file(path: str):\n",
    "    with open(path, \"r\") as f:\n",
    "        data: List[List[int]] = []\n",
    "        lines = f.readlines()\n",
    "        for line in lines:\n",
    "            data.append([int(c) for c in line.split()])\n",
    "        return data\n",
    "\n",
    "\n",
    "def get_paths_of_dir(path: str, extension: str):\n",
    "    return [join(path, f) for f in listdir(path)\n",
    "            if isfile(join(path, f)) and f.endswith(extension)]"
   ]
  },
  {
   "cell_type": "code",
   "execution_count": 649,
   "metadata": {},
   "outputs": [],
   "source": [
    "inDirPath = \"../../Input/\"\n",
    "inPaths = get_paths_of_dir(inDirPath, extension=\".in\")"
   ]
  },
  {
   "cell_type": "code",
   "execution_count": 650,
   "metadata": {},
   "outputs": [],
   "source": [
    "n_problem = int(input(\"Elige el problema (1-5): \"))\n",
    "\n",
    "inDirFiles = listdir(inDirPath)\n",
    "file_name = inDirFiles[n_problem - 1]\n",
    "\n",
    "path = inPaths[n_problem - 1]\n",
    "prob = get_data_from_file(path)"
   ]
  },
  {
   "cell_type": "code",
   "execution_count": 651,
   "metadata": {},
   "outputs": [],
   "source": [
    "import random\n",
    "import numpy as np\n",
    "import matplotlib.pyplot as plt\n",
    "from deap import base, creator, tools, algorithms"
   ]
  },
  {
   "cell_type": "markdown",
   "metadata": {},
   "source": [
    "## Variable meanings.\n",
    "\n",
    "* R = Number of rows.\n",
    "* C = Number of columns.\n",
    "* F = Number of vehicles.\n",
    "* N = Pre-booked rides.\n",
    "* B = Per-ride bonus for starting the ride on time.\n",
    "* T = Simulation steps = distance between start and end."
   ]
  },
  {
   "cell_type": "code",
   "execution_count": 652,
   "metadata": {},
   "outputs": [],
   "source": [
    "# Problem data.\n",
    "_, _, F, N, B, T = prob[0]\n",
    "\n",
    "# Rides.\n",
    "rides = prob[1:]"
   ]
  },
  {
   "cell_type": "markdown",
   "metadata": {},
   "source": [
    "Bonus:\n",
    "* Earn points proportional to distance of ride.\n",
    "* Bonus if started on time. "
   ]
  },
  {
   "cell_type": "code",
   "execution_count": 653,
   "metadata": {},
   "outputs": [],
   "source": [
    "toolbox = base.Toolbox()"
   ]
  },
  {
   "cell_type": "code",
   "execution_count": 654,
   "metadata": {},
   "outputs": [],
   "source": [
    "creator.create(\"FitnessMax\", base.Fitness, weights=(1.0,))\n",
    "creator.create(\"Individual\", list, fitness=creator.FitnessMax)"
   ]
  },
  {
   "cell_type": "code",
   "execution_count": 655,
   "metadata": {},
   "outputs": [],
   "source": [
    "toolbox.register(\"attribute\", random.randint, 0, F - 1)\n",
    "toolbox.register(\"individual\", tools.initRepeat,\n",
    "                 creator.Individual, toolbox.attribute, n=N)\n",
    "toolbox.register(\"population\", tools.initRepeat, list, toolbox.individual)"
   ]
  },
  {
   "cell_type": "code",
   "execution_count": 656,
   "metadata": {},
   "outputs": [],
   "source": [
    "def sort_rides(vehicle_rides):\n",
    "    def sort_ride(ride):\n",
    "        a, b, x, y, s, f = ride[1]\n",
    "        origin = [a, b]\n",
    "        destiny = [x, y]\n",
    "        distance = dis(origin, destiny)\n",
    "\n",
    "        return s + f - distance\n",
    "    \n",
    "    return sorted(vehicle_rides, key=lambda ride: sort_ride(ride))\n",
    "\n",
    "def get_rides_from_ind(individual):\n",
    "    vehicles_rides = np.full(F, None)\n",
    "    \n",
    "    for i, vehicle in enumerate(individual):\n",
    "        v_r = vehicles_rides[vehicle]\n",
    "        \n",
    "        if v_r is None:\n",
    "            v_r = []\n",
    "            \n",
    "        ride = rides[i]\n",
    "        v_r.append([i, ride])\n",
    "        \n",
    "        vehicles_rides[vehicle] = v_r\n",
    "\n",
    "    return vehicles_rides\n",
    "\n",
    "def dis(a, b): return np.abs(a[0] - b[0]) + np.abs(a[1]-b[1])\n"
   ]
  },
  {
   "cell_type": "code",
   "execution_count": 657,
   "metadata": {},
   "outputs": [],
   "source": [
    "def calc_fitness(car_rides):\n",
    "    fitness = 0\n",
    "    step = 0\n",
    "    pos = [0, 0]\n",
    "    \n",
    "    # Sort car_rides given earliest time.\n",
    "    car_rides = sort_rides(car_rides)\n",
    "\n",
    "    for _, ride in car_rides:\n",
    "        a, b, x, y, s, f = ride\n",
    "        origin = [a, b]\n",
    "        destiny = [x, y]\n",
    "        earliest_start = s\n",
    "        latest_finish = f\n",
    "        \n",
    "        # 1.- Go to origin.\n",
    "        step += dis(pos, origin)\n",
    "        \n",
    "        # 2.- If arrived before the earliest time. Wait and earn bonus.\n",
    "        if step <= earliest_start:\n",
    "          fitness += B\n",
    "          step = earliest_start\n",
    "          \n",
    "        # 3.- Go to destiny.\n",
    "        dis_ori_des = dis(origin, destiny)\n",
    "        step += dis_ori_des\n",
    "        \n",
    "        #4.- If reached destiny before latest finish. Earn points.\n",
    "        if step <= latest_finish:\n",
    "          fitness += dis_ori_des\n",
    "          \n",
    "        # 5.- Update position.\n",
    "        pos = destiny\n",
    "                  \n",
    "        # 6.- Check if reached max distance with one vehicle.\n",
    "        if step > T:\n",
    "          break\n",
    "    \n",
    "    return fitness\n",
    "        \n",
    "def eval_ind(ind):\n",
    "    all_rides = get_rides_from_ind(ind)\n",
    "\n",
    "    fitness = 0\n",
    "\n",
    "    for car_rides in all_rides:\n",
    "        if car_rides is not None:\n",
    "            fitness += calc_fitness(car_rides)\n",
    "\n",
    "    return fitness,\n"
   ]
  },
  {
   "cell_type": "code",
   "execution_count": 658,
   "metadata": {},
   "outputs": [
    {
     "name": "stdout",
     "output_type": "stream",
     "text": [
      "Population: [[0, 0, 1], [1, 1, 1], [1, 0, 1], [1, 1, 0], [1, 0, 0], [1, 1, 1], [1, 0, 0], [1, 0, 1], [0, 1, 0], [0, 1, 0], [1, 0, 1], [1, 1, 1], [0, 0, 0], [1, 1, 0], [0, 1, 0], [0, 1, 0], [0, 0, 0], [1, 1, 0], [0, 0, 1], [1, 1, 1], [1, 1, 0], [1, 1, 0], [0, 1, 1], [1, 1, 1], [0, 0, 0], [1, 0, 0], [1, 0, 1], [0, 0, 0], [1, 1, 1], [0, 0, 0], [0, 1, 1], [0, 1, 0], [1, 1, 0], [0, 0, 0], [0, 1, 1], [1, 0, 1], [1, 0, 1], [0, 1, 0], [1, 0, 0], [1, 1, 0], [0, 0, 1], [1, 0, 1], [1, 0, 1], [0, 1, 1], [1, 0, 0], [1, 0, 0], [1, 1, 0], [0, 0, 1], [1, 1, 0], [1, 1, 0], [0, 0, 0], [0, 0, 1], [1, 1, 0], [1, 1, 0], [1, 0, 0], [1, 0, 1], [1, 1, 0], [1, 0, 1], [0, 0, 0], [1, 1, 1], [0, 1, 1], [0, 1, 1], [0, 0, 1], [0, 1, 0], [0, 1, 1], [1, 1, 1], [1, 1, 0], [0, 0, 1], [1, 0, 0], [0, 0, 1], [1, 0, 0], [1, 1, 1], [0, 0, 1], [1, 1, 0], [0, 0, 0], [0, 1, 1], [0, 0, 0], [1, 1, 1], [0, 1, 0], [1, 0, 1], [0, 0, 0], [1, 0, 0], [1, 1, 0], [0, 1, 0], [0, 1, 0], [1, 0, 1], [0, 0, 1], [1, 1, 1], [0, 1, 0], [1, 0, 1], [0, 1, 0], [0, 1, 1], [1, 0, 0], [1, 1, 1], [0, 1, 0], [0, 1, 0], [0, 0, 1], [1, 1, 1], [0, 0, 0], [0, 0, 0], [1, 0, 1], [0, 0, 0], [1, 1, 0], [1, 0, 1], [1, 1, 0], [0, 1, 0], [0, 0, 0], [0, 0, 0], [1, 1, 1], [0, 1, 1], [1, 1, 0], [1, 1, 0], [0, 0, 1], [0, 1, 0], [1, 0, 1], [1, 0, 1], [1, 1, 0], [0, 1, 1], [1, 0, 1], [1, 1, 0], [1, 0, 1], [1, 1, 1], [1, 1, 0], [1, 1, 0], [0, 0, 1], [0, 1, 0], [1, 1, 1], [1, 0, 0], [1, 0, 0], [0, 0, 1], [1, 1, 0], [0, 1, 1], [0, 1, 0], [0, 1, 1], [0, 1, 1], [0, 1, 1], [0, 1, 1], [0, 0, 0], [1, 1, 0], [0, 1, 0], [1, 0, 1], [0, 0, 1], [0, 0, 1], [1, 0, 0], [0, 0, 1], [1, 1, 1], [1, 1, 1], [0, 1, 1], [1, 1, 1], [0, 0, 1], [1, 1, 1], [0, 1, 1], [0, 0, 1], [1, 0, 1], [1, 0, 0], [1, 1, 0], [0, 0, 0], [1, 1, 0], [0, 0, 0], [0, 0, 0], [1, 1, 0], [1, 0, 0], [1, 1, 0], [0, 1, 0], [0, 1, 0], [0, 0, 1], [1, 1, 1], [1, 0, 1], [1, 0, 1], [1, 0, 0], [0, 1, 1], [0, 0, 1], [1, 0, 0], [1, 0, 1], [0, 0, 1], [0, 1, 1], [1, 1, 1], [0, 1, 0], [0, 1, 0], [1, 0, 1], [1, 0, 0], [0, 1, 0], [1, 1, 0], [1, 1, 0], [1, 1, 1], [0, 1, 1], [0, 0, 0], [0, 0, 0], [0, 1, 0], [1, 1, 1], [0, 0, 0], [1, 1, 0], [1, 0, 1], [0, 1, 0], [1, 0, 1], [0, 0, 1], [1, 1, 1], [1, 1, 1], [0, 0, 0], [0, 1, 0]]\n"
     ]
    }
   ],
   "source": [
    "NIND = 150\n",
    "\n",
    "pop = toolbox.population(n=NIND)\n",
    "print(f\"Population: {pop}\")"
   ]
  },
  {
   "cell_type": "code",
   "execution_count": 659,
   "metadata": {},
   "outputs": [
    {
     "name": "stdout",
     "output_type": "stream",
     "text": [
      "Individuo ANTES de evaluar\n",
      "[0, 0, 0]\n",
      "False\n",
      "\n",
      "\n",
      "Individuo TRAS evaluar\n",
      "[0, 0, 0]\n",
      "True\n",
      "(8.0,)\n"
     ]
    }
   ],
   "source": [
    "ind = toolbox.individual()\n",
    "\n",
    "print(\"Individuo ANTES de evaluar\")\n",
    "print(ind)\n",
    "print(ind.fitness.valid)\n",
    "print(\"\\n\")\n",
    "\n",
    "ind.fitness.values = eval_ind(ind)\n",
    "\n",
    "print(\"Individuo TRAS evaluar\")\n",
    "print(ind)\n",
    "print(ind.fitness.valid)\n",
    "print(ind.fitness)"
   ]
  },
  {
   "cell_type": "code",
   "execution_count": 660,
   "metadata": {},
   "outputs": [],
   "source": [
    "TOURNSIZE, INDPB = 3, 0.05\n",
    "\n",
    "toolbox.register(\"select\", tools.selTournament, tournsize=TOURNSIZE)\n",
    "toolbox.register(\"mate\", tools.cxOnePoint)\n",
    "toolbox.register(\"mutate\", tools.mutFlipBit, indpb=INDPB)\n",
    "toolbox.register(\"evaluate\", eval_ind)"
   ]
  },
  {
   "cell_type": "code",
   "execution_count": 661,
   "metadata": {},
   "outputs": [],
   "source": [
    "stats = tools.Statistics(lambda ind: ind.fitness.values)\n",
    "stats.register(\"avg\", np.mean)\n",
    "stats.register(\"std\", np.std)\n",
    "stats.register(\"min\", np.min)\n",
    "stats.register(\"max\", np.max)"
   ]
  },
  {
   "cell_type": "code",
   "execution_count": 662,
   "metadata": {},
   "outputs": [
    {
     "name": "stdout",
     "output_type": "stream",
     "text": [
      "El resultado de la evolución es:\n",
      "gen\tnevals\tavg \tstd     \tmin\tmax\n",
      "0  \t200   \t8.96\t0.9992  \t8  \t10 \n",
      "1  \t200   \t9.08\t0.996795\t8  \t10 \n",
      "2  \t200   \t8.96\t0.9992  \t8  \t10 \n",
      "3  \t200   \t9.33\t0.943981\t8  \t10 \n",
      "4  \t200   \t9.57\t0.821645\t8  \t10 \n",
      "5  \t200   \t9.84\t0.542586\t8  \t10 \n",
      "6  \t200   \t9.97\t0.243105\t8  \t10 \n",
      "7  \t200   \t9.98\t0.198997\t8  \t10 \n",
      "8  \t200   \t9.98\t0.198997\t8  \t10 \n",
      "9  \t200   \t9.98\t0.198997\t8  \t10 \n",
      "10 \t200   \t10  \t0       \t10 \t10 \n",
      "11 \t200   \t9.98\t0.198997\t8  \t10 \n",
      "12 \t200   \t9.98\t0.198997\t8  \t10 \n",
      "13 \t200   \t9.99\t0.141067\t8  \t10 \n",
      "14 \t200   \t9.98\t0.198997\t8  \t10 \n",
      "15 \t200   \t9.98\t0.198997\t8  \t10 \n",
      "16 \t200   \t9.97\t0.243105\t8  \t10 \n",
      "17 \t200   \t9.99\t0.141067\t8  \t10 \n",
      "18 \t200   \t10  \t0       \t10 \t10 \n",
      "19 \t200   \t9.97\t0.243105\t8  \t10 \n",
      "20 \t200   \t9.99\t0.141067\t8  \t10 \n",
      "21 \t200   \t9.99\t0.141067\t8  \t10 \n",
      "22 \t200   \t9.95\t0.31225 \t8  \t10 \n",
      "23 \t200   \t9.99\t0.141067\t8  \t10 \n",
      "24 \t200   \t9.99\t0.141067\t8  \t10 \n",
      "25 \t200   \t9.98\t0.198997\t8  \t10 \n",
      "26 \t200   \t9.99\t0.141067\t8  \t10 \n",
      "27 \t200   \t9.97\t0.243105\t8  \t10 \n",
      "28 \t200   \t9.99\t0.141067\t8  \t10 \n",
      "29 \t200   \t9.97\t0.243105\t8  \t10 \n",
      "30 \t200   \t9.98\t0.198997\t8  \t10 \n",
      "31 \t200   \t10  \t0       \t10 \t10 \n",
      "32 \t200   \t9.99\t0.141067\t8  \t10 \n",
      "33 \t200   \t9.96\t0.28    \t8  \t10 \n",
      "34 \t200   \t9.99\t0.141067\t8  \t10 \n",
      "35 \t200   \t10  \t0       \t10 \t10 \n",
      "36 \t200   \t10  \t0       \t10 \t10 \n",
      "37 \t200   \t10  \t0       \t10 \t10 \n",
      "38 \t200   \t9.98\t0.198997\t8  \t10 \n",
      "39 \t200   \t9.97\t0.243105\t8  \t10 \n",
      "40 \t200   \t9.99\t0.141067\t8  \t10 \n",
      "41 \t200   \t9.97\t0.243105\t8  \t10 \n",
      "42 \t200   \t9.98\t0.198997\t8  \t10 \n",
      "43 \t200   \t9.99\t0.141067\t8  \t10 \n",
      "44 \t200   \t9.97\t0.243105\t8  \t10 \n",
      "45 \t200   \t9.99\t0.141067\t8  \t10 \n",
      "46 \t200   \t9.98\t0.198997\t8  \t10 \n",
      "47 \t200   \t9.99\t0.141067\t8  \t10 \n",
      "48 \t200   \t9.92\t0.391918\t8  \t10 \n",
      "49 \t200   \t9.99\t0.141067\t8  \t10 \n",
      "50 \t200   \t9.97\t0.243105\t8  \t10 \n",
      "51 \t200   \t9.98\t0.198997\t8  \t10 \n",
      "52 \t200   \t10  \t0       \t10 \t10 \n",
      "53 \t200   \t9.98\t0.198997\t8  \t10 \n",
      "54 \t200   \t9.97\t0.243105\t8  \t10 \n",
      "55 \t200   \t9.98\t0.198997\t8  \t10 \n",
      "56 \t200   \t9.99\t0.141067\t8  \t10 \n",
      "57 \t200   \t9.94\t0.341174\t8  \t10 \n",
      "58 \t200   \t9.96\t0.28    \t8  \t10 \n",
      "59 \t200   \t10  \t0       \t10 \t10 \n",
      "60 \t200   \t10  \t0       \t10 \t10 \n",
      "61 \t200   \t10  \t0       \t10 \t10 \n",
      "62 \t200   \t9.96\t0.28    \t8  \t10 \n",
      "63 \t200   \t10  \t0       \t10 \t10 \n",
      "64 \t200   \t9.98\t0.198997\t8  \t10 \n",
      "65 \t200   \t9.98\t0.198997\t8  \t10 \n",
      "66 \t200   \t9.96\t0.28    \t8  \t10 \n",
      "67 \t200   \t9.98\t0.198997\t8  \t10 \n",
      "68 \t200   \t9.98\t0.198997\t8  \t10 \n",
      "69 \t200   \t9.99\t0.141067\t8  \t10 \n",
      "70 \t200   \t9.97\t0.243105\t8  \t10 \n",
      "71 \t200   \t10  \t0       \t10 \t10 \n",
      "72 \t200   \t10  \t0       \t10 \t10 \n",
      "73 \t200   \t9.98\t0.198997\t8  \t10 \n",
      "74 \t200   \t9.97\t0.243105\t8  \t10 \n",
      "75 \t200   \t10  \t0       \t10 \t10 \n",
      "76 \t200   \t9.99\t0.141067\t8  \t10 \n",
      "77 \t200   \t9.98\t0.198997\t8  \t10 \n",
      "78 \t200   \t10  \t0       \t10 \t10 \n",
      "79 \t200   \t9.95\t0.31225 \t8  \t10 \n",
      "80 \t200   \t9.98\t0.198997\t8  \t10 \n",
      "81 \t200   \t9.98\t0.198997\t8  \t10 \n",
      "82 \t200   \t9.97\t0.243105\t8  \t10 \n",
      "83 \t200   \t9.98\t0.198997\t8  \t10 \n",
      "84 \t200   \t9.97\t0.243105\t8  \t10 \n",
      "85 \t200   \t9.99\t0.141067\t8  \t10 \n",
      "86 \t200   \t9.99\t0.141067\t8  \t10 \n",
      "87 \t200   \t9.98\t0.198997\t8  \t10 \n",
      "88 \t200   \t9.96\t0.28    \t8  \t10 \n",
      "89 \t200   \t10  \t0       \t10 \t10 \n",
      "90 \t200   \t9.99\t0.141067\t8  \t10 \n",
      "91 \t200   \t9.98\t0.198997\t8  \t10 \n",
      "92 \t200   \t9.98\t0.198997\t8  \t10 \n",
      "93 \t200   \t9.95\t0.31225 \t8  \t10 \n",
      "94 \t200   \t9.99\t0.141067\t8  \t10 \n",
      "95 \t200   \t9.97\t0.243105\t8  \t10 \n",
      "96 \t200   \t10  \t0       \t10 \t10 \n",
      "97 \t200   \t10  \t0       \t10 \t10 \n",
      "98 \t200   \t9.97\t0.243105\t8  \t10 \n",
      "99 \t200   \t9.97\t0.243105\t8  \t10 \n",
      "100\t200   \t9.99\t0.141067\t8  \t10 \n",
      "La mejor solucion encontrada es: [1, 1, 0]\n"
     ]
    }
   ],
   "source": [
    "CXPB, MUTPB, NGEN = 1.0, 0.075, 100\n",
    "\n",
    "pop, logbook = algorithms.eaSimple(\n",
    "    pop, toolbox, CXPB, MUTPB, NGEN, stats, verbose=False)\n",
    "\n",
    "best_sol = tools.selBest(pop, 1)[0]\n",
    "\n",
    "print(f\"El resultado de la evolución es:\")\n",
    "print(logbook)\n",
    "print(f\"La mejor solucion encontrada es: {best_sol}\")\n"
   ]
  },
  {
   "cell_type": "code",
   "execution_count": 663,
   "metadata": {},
   "outputs": [
    {
     "data": {
      "text/plain": [
       "[]"
      ]
     },
     "execution_count": 663,
     "metadata": {},
     "output_type": "execute_result"
    },
    {
     "data": {
      "image/png": "[encoded data removed]",
      "image/svg+xml": "<?xml version=\"1.0\" encoding=\"utf-8\" standalone=\"no\"?>\r\n<!DOCTYPE svg PUBLIC \"-//W3C//DTD SVG 1.1//EN\"\r\n  \"http://www.w3.org/Graphics/SVG/1.1/DTD/svg11.dtd\">\r\n<!-- Created with matplotlib (https://matplotlib.org/) -->\r\n<svg height=\"262.19625pt\" version=\"1.1\" viewBox=\"0 0 392.14375 262.19625\" width=\"392.14375pt\" xmlns=\"http://www.w3.org/2000/svg\" xmlns:xlink=\"http://www.w3.org/1999/xlink\">\r\n <metadata>\r\n  <rdf:RDF xmlns:cc=\"http://creativecommons.org/ns#\" xmlns:dc=\"http://purl.org/dc/elements/1.1/\" xmlns:rdf=\"http://www.w3.org/1999/02/22-rdf-syntax-ns#\">\r\n   <cc:Work>\r\n    <dc:type rdf:resource=\"http://purl.org/dc/dcmitype/StillImage\"/>\r\n    <dc:date>2021-10-13T02:25:35.894316</dc:date>\r\n    <dc:format>image/svg+xml</dc:format>\r\n    <dc:creator>\r\n     <cc:Agent>\r\n      <dc:title>Matplotlib v3.3.2, https://matplotlib.org/</dc:title>\r\n     </cc:Agent>\r\n    </dc:creator>\r\n   </cc:Work>\r\n  </rdf:RDF>\r\n </metadata>\r\n <defs>\r\n  <style type=\"text/css\">*{stroke-linecap:butt;stroke-linejoin:round;}</style>\r\n </defs>\r\n <g id=\"figure_1\">\r\n  <g id=\"patch_1\">\r\n   <path d=\"M 0 262.19625 \r\nL 392.14375 262.19625 \r\nL 392.14375 0 \r\nL 0 0 \r\nz\r\n\"/>\r\n  </g>\r\n  <g id=\"axes_1\">\r\n   <g id=\"patch_2\">\r\n    <path d=\"M 50.14375 224.64 \r\nL 384.94375 224.64 \r\nL 384.94375 7.2 \r\nL 50.14375 7.2 \r\nz\r\n\"/>\r\n   </g>\r\n   <g id=\"matplotlib.axis_1\">\r\n    <g id=\"xtick_1\">\r\n     <g id=\"line2d_1\">\r\n      <defs>\r\n       <path d=\"M 0 0 \r\nL 0 3.5 \r\n\" id=\"mbe2991efdf\" style=\"stroke:#ffffff;stroke-width:0.8;\"/>\r\n      </defs>\r\n      <g>\r\n       <use style=\"fill:#ffffff;stroke:#ffffff;stroke-width:0.8;\" x=\"65.361932\" xlink:href=\"#mbe2991efdf\" y=\"224.64\"/>\r\n      </g>\r\n     </g>\r\n     <g id=\"text_1\">\r\n      <!-- 0 -->\r\n      <g style=\"fill:#ffffff;\" transform=\"translate(62.180682 239.238437)scale(0.1 -0.1)\">\r\n       <defs>\r\n        <path d=\"M 31.78125 66.40625 \r\nQ 24.171875 66.40625 20.328125 58.90625 \r\nQ 16.5 51.421875 16.5 36.375 \r\nQ 16.5 21.390625 20.328125 13.890625 \r\nQ 24.171875 6.390625 31.78125 6.390625 \r\nQ 39.453125 6.390625 43.28125 13.890625 \r\nQ 47.125 21.390625 47.125 36.375 \r\nQ 47.125 51.421875 43.28125 58.90625 \r\nQ 39.453125 66.40625 31.78125 66.40625 \r\nz\r\nM 31.78125 74.21875 \r\nQ 44.046875 74.21875 50.515625 64.515625 \r\nQ 56.984375 54.828125 56.984375 36.375 \r\nQ 56.984375 17.96875 50.515625 8.265625 \r\nQ 44.046875 -1.421875 31.78125 -1.421875 \r\nQ 19.53125 -1.421875 13.0625 8.265625 \r\nQ 6.59375 17.96875 6.59375 36.375 \r\nQ 6.59375 54.828125 13.0625 64.515625 \r\nQ 19.53125 74.21875 31.78125 74.21875 \r\nz\r\n\" id=\"DejaVuSans-48\"/>\r\n       </defs>\r\n       <use xlink:href=\"#DejaVuSans-48\"/>\r\n      </g>\r\n     </g>\r\n    </g>\r\n    <g id=\"xtick_2\">\r\n     <g id=\"line2d_2\">\r\n      <g>\r\n       <use style=\"fill:#ffffff;stroke:#ffffff;stroke-width:0.8;\" x=\"126.234659\" xlink:href=\"#mbe2991efdf\" y=\"224.64\"/>\r\n      </g>\r\n     </g>\r\n     <g id=\"text_2\">\r\n      <!-- 20 -->\r\n      <g style=\"fill:#ffffff;\" transform=\"translate(119.872159 239.238437)scale(0.1 -0.1)\">\r\n       <defs>\r\n        <path d=\"M 19.1875 8.296875 \r\nL 53.609375 8.296875 \r\nL 53.609375 0 \r\nL 7.328125 0 \r\nL 7.328125 8.296875 \r\nQ 12.9375 14.109375 22.625 23.890625 \r\nQ 32.328125 33.6875 34.8125 36.53125 \r\nQ 39.546875 41.84375 41.421875 45.53125 \r\nQ 43.3125 49.21875 43.3125 52.78125 \r\nQ 43.3125 58.59375 39.234375 62.25 \r\nQ 35.15625 65.921875 28.609375 65.921875 \r\nQ 23.96875 65.921875 18.8125 64.3125 \r\nQ 13.671875 62.703125 7.8125 59.421875 \r\nL 7.8125 69.390625 \r\nQ 13.765625 71.78125 18.9375 73 \r\nQ 24.125 74.21875 28.421875 74.21875 \r\nQ 39.75 74.21875 46.484375 68.546875 \r\nQ 53.21875 62.890625 53.21875 53.421875 \r\nQ 53.21875 48.921875 51.53125 44.890625 \r\nQ 49.859375 40.875 45.40625 35.40625 \r\nQ 44.1875 33.984375 37.640625 27.21875 \r\nQ 31.109375 20.453125 19.1875 8.296875 \r\nz\r\n\" id=\"DejaVuSans-50\"/>\r\n       </defs>\r\n       <use xlink:href=\"#DejaVuSans-50\"/>\r\n       <use x=\"63.623047\" xlink:href=\"#DejaVuSans-48\"/>\r\n      </g>\r\n     </g>\r\n    </g>\r\n    <g id=\"xtick_3\">\r\n     <g id=\"line2d_3\">\r\n      <g>\r\n       <use style=\"fill:#ffffff;stroke:#ffffff;stroke-width:0.8;\" x=\"187.107386\" xlink:href=\"#mbe2991efdf\" y=\"224.64\"/>\r\n      </g>\r\n     </g>\r\n     <g id=\"text_3\">\r\n      <!-- 40 -->\r\n      <g style=\"fill:#ffffff;\" transform=\"translate(180.744886 239.238437)scale(0.1 -0.1)\">\r\n       <defs>\r\n        <path d=\"M 37.796875 64.3125 \r\nL 12.890625 25.390625 \r\nL 37.796875 25.390625 \r\nz\r\nM 35.203125 72.90625 \r\nL 47.609375 72.90625 \r\nL 47.609375 25.390625 \r\nL 58.015625 25.390625 \r\nL 58.015625 17.1875 \r\nL 47.609375 17.1875 \r\nL 47.609375 0 \r\nL 37.796875 0 \r\nL 37.796875 17.1875 \r\nL 4.890625 17.1875 \r\nL 4.890625 26.703125 \r\nz\r\n\" id=\"DejaVuSans-52\"/>\r\n       </defs>\r\n       <use xlink:href=\"#DejaVuSans-52\"/>\r\n       <use x=\"63.623047\" xlink:href=\"#DejaVuSans-48\"/>\r\n      </g>\r\n     </g>\r\n    </g>\r\n    <g id=\"xtick_4\">\r\n     <g id=\"line2d_4\">\r\n      <g>\r\n       <use style=\"fill:#ffffff;stroke:#ffffff;stroke-width:0.8;\" x=\"247.980114\" xlink:href=\"#mbe2991efdf\" y=\"224.64\"/>\r\n      </g>\r\n     </g>\r\n     <g id=\"text_4\">\r\n      <!-- 60 -->\r\n      <g style=\"fill:#ffffff;\" transform=\"translate(241.617614 239.238437)scale(0.1 -0.1)\">\r\n       <defs>\r\n        <path d=\"M 33.015625 40.375 \r\nQ 26.375 40.375 22.484375 35.828125 \r\nQ 18.609375 31.296875 18.609375 23.390625 \r\nQ 18.609375 15.53125 22.484375 10.953125 \r\nQ 26.375 6.390625 33.015625 6.390625 \r\nQ 39.65625 6.390625 43.53125 10.953125 \r\nQ 47.40625 15.53125 47.40625 23.390625 \r\nQ 47.40625 31.296875 43.53125 35.828125 \r\nQ 39.65625 40.375 33.015625 40.375 \r\nz\r\nM 52.59375 71.296875 \r\nL 52.59375 62.3125 \r\nQ 48.875 64.0625 45.09375 64.984375 \r\nQ 41.3125 65.921875 37.59375 65.921875 \r\nQ 27.828125 65.921875 22.671875 59.328125 \r\nQ 17.53125 52.734375 16.796875 39.40625 \r\nQ 19.671875 43.65625 24.015625 45.921875 \r\nQ 28.375 48.1875 33.59375 48.1875 \r\nQ 44.578125 48.1875 50.953125 41.515625 \r\nQ 57.328125 34.859375 57.328125 23.390625 \r\nQ 57.328125 12.15625 50.6875 5.359375 \r\nQ 44.046875 -1.421875 33.015625 -1.421875 \r\nQ 20.359375 -1.421875 13.671875 8.265625 \r\nQ 6.984375 17.96875 6.984375 36.375 \r\nQ 6.984375 53.65625 15.1875 63.9375 \r\nQ 23.390625 74.21875 37.203125 74.21875 \r\nQ 40.921875 74.21875 44.703125 73.484375 \r\nQ 48.484375 72.75 52.59375 71.296875 \r\nz\r\n\" id=\"DejaVuSans-54\"/>\r\n       </defs>\r\n       <use xlink:href=\"#DejaVuSans-54\"/>\r\n       <use x=\"63.623047\" xlink:href=\"#DejaVuSans-48\"/>\r\n      </g>\r\n     </g>\r\n    </g>\r\n    <g id=\"xtick_5\">\r\n     <g id=\"line2d_5\">\r\n      <g>\r\n       <use style=\"fill:#ffffff;stroke:#ffffff;stroke-width:0.8;\" x=\"308.852841\" xlink:href=\"#mbe2991efdf\" y=\"224.64\"/>\r\n      </g>\r\n     </g>\r\n     <g id=\"text_5\">\r\n      <!-- 80 -->\r\n      <g style=\"fill:#ffffff;\" transform=\"translate(302.490341 239.238437)scale(0.1 -0.1)\">\r\n       <defs>\r\n        <path d=\"M 31.78125 34.625 \r\nQ 24.75 34.625 20.71875 30.859375 \r\nQ 16.703125 27.09375 16.703125 20.515625 \r\nQ 16.703125 13.921875 20.71875 10.15625 \r\nQ 24.75 6.390625 31.78125 6.390625 \r\nQ 38.8125 6.390625 42.859375 10.171875 \r\nQ 46.921875 13.96875 46.921875 20.515625 \r\nQ 46.921875 27.09375 42.890625 30.859375 \r\nQ 38.875 34.625 31.78125 34.625 \r\nz\r\nM 21.921875 38.8125 \r\nQ 15.578125 40.375 12.03125 44.71875 \r\nQ 8.5 49.078125 8.5 55.328125 \r\nQ 8.5 64.0625 14.71875 69.140625 \r\nQ 20.953125 74.21875 31.78125 74.21875 \r\nQ 42.671875 74.21875 48.875 69.140625 \r\nQ 55.078125 64.0625 55.078125 55.328125 \r\nQ 55.078125 49.078125 51.53125 44.71875 \r\nQ 48 40.375 41.703125 38.8125 \r\nQ 48.828125 37.15625 52.796875 32.3125 \r\nQ 56.78125 27.484375 56.78125 20.515625 \r\nQ 56.78125 9.90625 50.3125 4.234375 \r\nQ 43.84375 -1.421875 31.78125 -1.421875 \r\nQ 19.734375 -1.421875 13.25 4.234375 \r\nQ 6.78125 9.90625 6.78125 20.515625 \r\nQ 6.78125 27.484375 10.78125 32.3125 \r\nQ 14.796875 37.15625 21.921875 38.8125 \r\nz\r\nM 18.3125 54.390625 \r\nQ 18.3125 48.734375 21.84375 45.5625 \r\nQ 25.390625 42.390625 31.78125 42.390625 \r\nQ 38.140625 42.390625 41.71875 45.5625 \r\nQ 45.3125 48.734375 45.3125 54.390625 \r\nQ 45.3125 60.0625 41.71875 63.234375 \r\nQ 38.140625 66.40625 31.78125 66.40625 \r\nQ 25.390625 66.40625 21.84375 63.234375 \r\nQ 18.3125 60.0625 18.3125 54.390625 \r\nz\r\n\" id=\"DejaVuSans-56\"/>\r\n       </defs>\r\n       <use xlink:href=\"#DejaVuSans-56\"/>\r\n       <use x=\"63.623047\" xlink:href=\"#DejaVuSans-48\"/>\r\n      </g>\r\n     </g>\r\n    </g>\r\n    <g id=\"xtick_6\">\r\n     <g id=\"line2d_6\">\r\n      <g>\r\n       <use style=\"fill:#ffffff;stroke:#ffffff;stroke-width:0.8;\" x=\"369.725568\" xlink:href=\"#mbe2991efdf\" y=\"224.64\"/>\r\n      </g>\r\n     </g>\r\n     <g id=\"text_6\">\r\n      <!-- 100 -->\r\n      <g style=\"fill:#ffffff;\" transform=\"translate(360.181818 239.238437)scale(0.1 -0.1)\">\r\n       <defs>\r\n        <path d=\"M 12.40625 8.296875 \r\nL 28.515625 8.296875 \r\nL 28.515625 63.921875 \r\nL 10.984375 60.40625 \r\nL 10.984375 69.390625 \r\nL 28.421875 72.90625 \r\nL 38.28125 72.90625 \r\nL 38.28125 8.296875 \r\nL 54.390625 8.296875 \r\nL 54.390625 0 \r\nL 12.40625 0 \r\nz\r\n\" id=\"DejaVuSans-49\"/>\r\n       </defs>\r\n       <use xlink:href=\"#DejaVuSans-49\"/>\r\n       <use x=\"63.623047\" xlink:href=\"#DejaVuSans-48\"/>\r\n       <use x=\"127.246094\" xlink:href=\"#DejaVuSans-48\"/>\r\n      </g>\r\n     </g>\r\n    </g>\r\n    <g id=\"text_7\">\r\n     <!-- Generation -->\r\n     <g style=\"fill:#ffffff;\" transform=\"translate(189.650781 252.916562)scale(0.1 -0.1)\">\r\n      <defs>\r\n       <path d=\"M 59.515625 10.40625 \r\nL 59.515625 29.984375 \r\nL 43.40625 29.984375 \r\nL 43.40625 38.09375 \r\nL 69.28125 38.09375 \r\nL 69.28125 6.78125 \r\nQ 63.578125 2.734375 56.6875 0.65625 \r\nQ 49.8125 -1.421875 42 -1.421875 \r\nQ 24.90625 -1.421875 15.25 8.5625 \r\nQ 5.609375 18.5625 5.609375 36.375 \r\nQ 5.609375 54.25 15.25 64.234375 \r\nQ 24.90625 74.21875 42 74.21875 \r\nQ 49.125 74.21875 55.546875 72.453125 \r\nQ 61.96875 70.703125 67.390625 67.28125 \r\nL 67.390625 56.78125 \r\nQ 61.921875 61.421875 55.765625 63.765625 \r\nQ 49.609375 66.109375 42.828125 66.109375 \r\nQ 29.4375 66.109375 22.71875 58.640625 \r\nQ 16.015625 51.171875 16.015625 36.375 \r\nQ 16.015625 21.625 22.71875 14.15625 \r\nQ 29.4375 6.6875 42.828125 6.6875 \r\nQ 48.046875 6.6875 52.140625 7.59375 \r\nQ 56.25 8.5 59.515625 10.40625 \r\nz\r\n\" id=\"DejaVuSans-71\"/>\r\n       <path d=\"M 56.203125 29.59375 \r\nL 56.203125 25.203125 \r\nL 14.890625 25.203125 \r\nQ 15.484375 15.921875 20.484375 11.0625 \r\nQ 25.484375 6.203125 34.421875 6.203125 \r\nQ 39.59375 6.203125 44.453125 7.46875 \r\nQ 49.3125 8.734375 54.109375 11.28125 \r\nL 54.109375 2.78125 \r\nQ 49.265625 0.734375 44.1875 -0.34375 \r\nQ 39.109375 -1.421875 33.890625 -1.421875 \r\nQ 20.796875 -1.421875 13.15625 6.1875 \r\nQ 5.515625 13.8125 5.515625 26.8125 \r\nQ 5.515625 40.234375 12.765625 48.109375 \r\nQ 20.015625 56 32.328125 56 \r\nQ 43.359375 56 49.78125 48.890625 \r\nQ 56.203125 41.796875 56.203125 29.59375 \r\nz\r\nM 47.21875 32.234375 \r\nQ 47.125 39.59375 43.09375 43.984375 \r\nQ 39.0625 48.390625 32.421875 48.390625 \r\nQ 24.90625 48.390625 20.390625 44.140625 \r\nQ 15.875 39.890625 15.1875 32.171875 \r\nz\r\n\" id=\"DejaVuSans-101\"/>\r\n       <path d=\"M 54.890625 33.015625 \r\nL 54.890625 0 \r\nL 45.90625 0 \r\nL 45.90625 32.71875 \r\nQ 45.90625 40.484375 42.875 44.328125 \r\nQ 39.84375 48.1875 33.796875 48.1875 \r\nQ 26.515625 48.1875 22.3125 43.546875 \r\nQ 18.109375 38.921875 18.109375 30.90625 \r\nL 18.109375 0 \r\nL 9.078125 0 \r\nL 9.078125 54.6875 \r\nL 18.109375 54.6875 \r\nL 18.109375 46.1875 \r\nQ 21.34375 51.125 25.703125 53.5625 \r\nQ 30.078125 56 35.796875 56 \r\nQ 45.21875 56 50.046875 50.171875 \r\nQ 54.890625 44.34375 54.890625 33.015625 \r\nz\r\n\" id=\"DejaVuSans-110\"/>\r\n       <path d=\"M 41.109375 46.296875 \r\nQ 39.59375 47.171875 37.8125 47.578125 \r\nQ 36.03125 48 33.890625 48 \r\nQ 26.265625 48 22.1875 43.046875 \r\nQ 18.109375 38.09375 18.109375 28.8125 \r\nL 18.109375 0 \r\nL 9.078125 0 \r\nL 9.078125 54.6875 \r\nL 18.109375 54.6875 \r\nL 18.109375 46.1875 \r\nQ 20.953125 51.171875 25.484375 53.578125 \r\nQ 30.03125 56 36.53125 56 \r\nQ 37.453125 56 38.578125 55.875 \r\nQ 39.703125 55.765625 41.0625 55.515625 \r\nz\r\n\" id=\"DejaVuSans-114\"/>\r\n       <path d=\"M 34.28125 27.484375 \r\nQ 23.390625 27.484375 19.1875 25 \r\nQ 14.984375 22.515625 14.984375 16.5 \r\nQ 14.984375 11.71875 18.140625 8.90625 \r\nQ 21.296875 6.109375 26.703125 6.109375 \r\nQ 34.1875 6.109375 38.703125 11.40625 \r\nQ 43.21875 16.703125 43.21875 25.484375 \r\nL 43.21875 27.484375 \r\nz\r\nM 52.203125 31.203125 \r\nL 52.203125 0 \r\nL 43.21875 0 \r\nL 43.21875 8.296875 \r\nQ 40.140625 3.328125 35.546875 0.953125 \r\nQ 30.953125 -1.421875 24.3125 -1.421875 \r\nQ 15.921875 -1.421875 10.953125 3.296875 \r\nQ 6 8.015625 6 15.921875 \r\nQ 6 25.140625 12.171875 29.828125 \r\nQ 18.359375 34.515625 30.609375 34.515625 \r\nL 43.21875 34.515625 \r\nL 43.21875 35.40625 \r\nQ 43.21875 41.609375 39.140625 45 \r\nQ 35.0625 48.390625 27.6875 48.390625 \r\nQ 23 48.390625 18.546875 47.265625 \r\nQ 14.109375 46.140625 10.015625 43.890625 \r\nL 10.015625 52.203125 \r\nQ 14.9375 54.109375 19.578125 55.046875 \r\nQ 24.21875 56 28.609375 56 \r\nQ 40.484375 56 46.34375 49.84375 \r\nQ 52.203125 43.703125 52.203125 31.203125 \r\nz\r\n\" id=\"DejaVuSans-97\"/>\r\n       <path d=\"M 18.3125 70.21875 \r\nL 18.3125 54.6875 \r\nL 36.8125 54.6875 \r\nL 36.8125 47.703125 \r\nL 18.3125 47.703125 \r\nL 18.3125 18.015625 \r\nQ 18.3125 11.328125 20.140625 9.421875 \r\nQ 21.96875 7.515625 27.59375 7.515625 \r\nL 36.8125 7.515625 \r\nL 36.8125 0 \r\nL 27.59375 0 \r\nQ 17.1875 0 13.234375 3.875 \r\nQ 9.28125 7.765625 9.28125 18.015625 \r\nL 9.28125 47.703125 \r\nL 2.6875 47.703125 \r\nL 2.6875 54.6875 \r\nL 9.28125 54.6875 \r\nL 9.28125 70.21875 \r\nz\r\n\" id=\"DejaVuSans-116\"/>\r\n       <path d=\"M 9.421875 54.6875 \r\nL 18.40625 54.6875 \r\nL 18.40625 0 \r\nL 9.421875 0 \r\nz\r\nM 9.421875 75.984375 \r\nL 18.40625 75.984375 \r\nL 18.40625 64.59375 \r\nL 9.421875 64.59375 \r\nz\r\n\" id=\"DejaVuSans-105\"/>\r\n       <path d=\"M 30.609375 48.390625 \r\nQ 23.390625 48.390625 19.1875 42.75 \r\nQ 14.984375 37.109375 14.984375 27.296875 \r\nQ 14.984375 17.484375 19.15625 11.84375 \r\nQ 23.34375 6.203125 30.609375 6.203125 \r\nQ 37.796875 6.203125 41.984375 11.859375 \r\nQ 46.1875 17.53125 46.1875 27.296875 \r\nQ 46.1875 37.015625 41.984375 42.703125 \r\nQ 37.796875 48.390625 30.609375 48.390625 \r\nz\r\nM 30.609375 56 \r\nQ 42.328125 56 49.015625 48.375 \r\nQ 55.71875 40.765625 55.71875 27.296875 \r\nQ 55.71875 13.875 49.015625 6.21875 \r\nQ 42.328125 -1.421875 30.609375 -1.421875 \r\nQ 18.84375 -1.421875 12.171875 6.21875 \r\nQ 5.515625 13.875 5.515625 27.296875 \r\nQ 5.515625 40.765625 12.171875 48.375 \r\nQ 18.84375 56 30.609375 56 \r\nz\r\n\" id=\"DejaVuSans-111\"/>\r\n      </defs>\r\n      <use xlink:href=\"#DejaVuSans-71\"/>\r\n      <use x=\"77.490234\" xlink:href=\"#DejaVuSans-101\"/>\r\n      <use x=\"139.013672\" xlink:href=\"#DejaVuSans-110\"/>\r\n      <use x=\"202.392578\" xlink:href=\"#DejaVuSans-101\"/>\r\n      <use x=\"263.916016\" xlink:href=\"#DejaVuSans-114\"/>\r\n      <use x=\"305.029297\" xlink:href=\"#DejaVuSans-97\"/>\r\n      <use x=\"366.308594\" xlink:href=\"#DejaVuSans-116\"/>\r\n      <use x=\"405.517578\" xlink:href=\"#DejaVuSans-105\"/>\r\n      <use x=\"433.300781\" xlink:href=\"#DejaVuSans-111\"/>\r\n      <use x=\"494.482422\" xlink:href=\"#DejaVuSans-110\"/>\r\n     </g>\r\n    </g>\r\n   </g>\r\n   <g id=\"matplotlib.axis_2\">\r\n    <g id=\"ytick_1\">\r\n     <g id=\"line2d_7\">\r\n      <defs>\r\n       <path d=\"M 0 0 \r\nL -3.5 0 \r\n\" id=\"m7ec225fe42\" style=\"stroke:#ffffff;stroke-width:0.8;\"/>\r\n      </defs>\r\n      <g>\r\n       <use style=\"fill:#ffffff;stroke:#ffffff;stroke-width:0.8;\" x=\"50.14375\" xlink:href=\"#m7ec225fe42\" y=\"207.153566\"/>\r\n      </g>\r\n     </g>\r\n     <g id=\"text_8\">\r\n      <!-- 9.0 -->\r\n      <g style=\"fill:#ffffff;\" transform=\"translate(27.240625 210.952785)scale(0.1 -0.1)\">\r\n       <defs>\r\n        <path d=\"M 10.984375 1.515625 \r\nL 10.984375 10.5 \r\nQ 14.703125 8.734375 18.5 7.8125 \r\nQ 22.3125 6.890625 25.984375 6.890625 \r\nQ 35.75 6.890625 40.890625 13.453125 \r\nQ 46.046875 20.015625 46.78125 33.40625 \r\nQ 43.953125 29.203125 39.59375 26.953125 \r\nQ 35.25 24.703125 29.984375 24.703125 \r\nQ 19.046875 24.703125 12.671875 31.3125 \r\nQ 6.296875 37.9375 6.296875 49.421875 \r\nQ 6.296875 60.640625 12.9375 67.421875 \r\nQ 19.578125 74.21875 30.609375 74.21875 \r\nQ 43.265625 74.21875 49.921875 64.515625 \r\nQ 56.59375 54.828125 56.59375 36.375 \r\nQ 56.59375 19.140625 48.40625 8.859375 \r\nQ 40.234375 -1.421875 26.421875 -1.421875 \r\nQ 22.703125 -1.421875 18.890625 -0.6875 \r\nQ 15.09375 0.046875 10.984375 1.515625 \r\nz\r\nM 30.609375 32.421875 \r\nQ 37.25 32.421875 41.125 36.953125 \r\nQ 45.015625 41.5 45.015625 49.421875 \r\nQ 45.015625 57.28125 41.125 61.84375 \r\nQ 37.25 66.40625 30.609375 66.40625 \r\nQ 23.96875 66.40625 20.09375 61.84375 \r\nQ 16.21875 57.28125 16.21875 49.421875 \r\nQ 16.21875 41.5 20.09375 36.953125 \r\nQ 23.96875 32.421875 30.609375 32.421875 \r\nz\r\n\" id=\"DejaVuSans-57\"/>\r\n        <path d=\"M 10.6875 12.40625 \r\nL 21 12.40625 \r\nL 21 0 \r\nL 10.6875 0 \r\nz\r\n\" id=\"DejaVuSans-46\"/>\r\n       </defs>\r\n       <use xlink:href=\"#DejaVuSans-57\"/>\r\n       <use x=\"63.623047\" xlink:href=\"#DejaVuSans-46\"/>\r\n       <use x=\"95.410156\" xlink:href=\"#DejaVuSans-48\"/>\r\n      </g>\r\n     </g>\r\n    </g>\r\n    <g id=\"ytick_2\">\r\n     <g id=\"line2d_8\">\r\n      <g>\r\n       <use style=\"fill:#ffffff;stroke:#ffffff;stroke-width:0.8;\" x=\"50.14375\" xlink:href=\"#m7ec225fe42\" y=\"169.13958\"/>\r\n      </g>\r\n     </g>\r\n     <g id=\"text_9\">\r\n      <!-- 9.2 -->\r\n      <g style=\"fill:#ffffff;\" transform=\"translate(27.240625 172.938799)scale(0.1 -0.1)\">\r\n       <use xlink:href=\"#DejaVuSans-57\"/>\r\n       <use x=\"63.623047\" xlink:href=\"#DejaVuSans-46\"/>\r\n       <use x=\"95.410156\" xlink:href=\"#DejaVuSans-50\"/>\r\n      </g>\r\n     </g>\r\n    </g>\r\n    <g id=\"ytick_3\">\r\n     <g id=\"line2d_9\">\r\n      <g>\r\n       <use style=\"fill:#ffffff;stroke:#ffffff;stroke-width:0.8;\" x=\"50.14375\" xlink:href=\"#m7ec225fe42\" y=\"131.125594\"/>\r\n      </g>\r\n     </g>\r\n     <g id=\"text_10\">\r\n      <!-- 9.4 -->\r\n      <g style=\"fill:#ffffff;\" transform=\"translate(27.240625 134.924813)scale(0.1 -0.1)\">\r\n       <use xlink:href=\"#DejaVuSans-57\"/>\r\n       <use x=\"63.623047\" xlink:href=\"#DejaVuSans-46\"/>\r\n       <use x=\"95.410156\" xlink:href=\"#DejaVuSans-52\"/>\r\n      </g>\r\n     </g>\r\n    </g>\r\n    <g id=\"ytick_4\">\r\n     <g id=\"line2d_10\">\r\n      <g>\r\n       <use style=\"fill:#ffffff;stroke:#ffffff;stroke-width:0.8;\" x=\"50.14375\" xlink:href=\"#m7ec225fe42\" y=\"93.111608\"/>\r\n      </g>\r\n     </g>\r\n     <g id=\"text_11\">\r\n      <!-- 9.6 -->\r\n      <g style=\"fill:#ffffff;\" transform=\"translate(27.240625 96.910827)scale(0.1 -0.1)\">\r\n       <use xlink:href=\"#DejaVuSans-57\"/>\r\n       <use x=\"63.623047\" xlink:href=\"#DejaVuSans-46\"/>\r\n       <use x=\"95.410156\" xlink:href=\"#DejaVuSans-54\"/>\r\n      </g>\r\n     </g>\r\n    </g>\r\n    <g id=\"ytick_5\">\r\n     <g id=\"line2d_11\">\r\n      <g>\r\n       <use style=\"fill:#ffffff;stroke:#ffffff;stroke-width:0.8;\" x=\"50.14375\" xlink:href=\"#m7ec225fe42\" y=\"55.097622\"/>\r\n      </g>\r\n     </g>\r\n     <g id=\"text_12\">\r\n      <!-- 9.8 -->\r\n      <g style=\"fill:#ffffff;\" transform=\"translate(27.240625 58.896841)scale(0.1 -0.1)\">\r\n       <use xlink:href=\"#DejaVuSans-57\"/>\r\n       <use x=\"63.623047\" xlink:href=\"#DejaVuSans-46\"/>\r\n       <use x=\"95.410156\" xlink:href=\"#DejaVuSans-56\"/>\r\n      </g>\r\n     </g>\r\n    </g>\r\n    <g id=\"ytick_6\">\r\n     <g id=\"line2d_12\">\r\n      <g>\r\n       <use style=\"fill:#ffffff;stroke:#ffffff;stroke-width:0.8;\" x=\"50.14375\" xlink:href=\"#m7ec225fe42\" y=\"17.083636\"/>\r\n      </g>\r\n     </g>\r\n     <g id=\"text_13\">\r\n      <!-- 10.0 -->\r\n      <g style=\"fill:#ffffff;\" transform=\"translate(20.878125 20.882855)scale(0.1 -0.1)\">\r\n       <use xlink:href=\"#DejaVuSans-49\"/>\r\n       <use x=\"63.623047\" xlink:href=\"#DejaVuSans-48\"/>\r\n       <use x=\"127.246094\" xlink:href=\"#DejaVuSans-46\"/>\r\n       <use x=\"159.033203\" xlink:href=\"#DejaVuSans-48\"/>\r\n      </g>\r\n     </g>\r\n    </g>\r\n    <g id=\"text_14\">\r\n     <!-- Fitness -->\r\n     <g style=\"fill:#0000ff;\" transform=\"translate(14.798438 133.237187)rotate(-90)scale(0.1 -0.1)\">\r\n      <defs>\r\n       <path d=\"M 9.8125 72.90625 \r\nL 51.703125 72.90625 \r\nL 51.703125 64.59375 \r\nL 19.671875 64.59375 \r\nL 19.671875 43.109375 \r\nL 48.578125 43.109375 \r\nL 48.578125 34.8125 \r\nL 19.671875 34.8125 \r\nL 19.671875 0 \r\nL 9.8125 0 \r\nz\r\n\" id=\"DejaVuSans-70\"/>\r\n       <path d=\"M 44.28125 53.078125 \r\nL 44.28125 44.578125 \r\nQ 40.484375 46.53125 36.375 47.5 \r\nQ 32.28125 48.484375 27.875 48.484375 \r\nQ 21.1875 48.484375 17.84375 46.4375 \r\nQ 14.5 44.390625 14.5 40.28125 \r\nQ 14.5 37.15625 16.890625 35.375 \r\nQ 19.28125 33.59375 26.515625 31.984375 \r\nL 29.59375 31.296875 \r\nQ 39.15625 29.25 43.1875 25.515625 \r\nQ 47.21875 21.78125 47.21875 15.09375 \r\nQ 47.21875 7.46875 41.1875 3.015625 \r\nQ 35.15625 -1.421875 24.609375 -1.421875 \r\nQ 20.21875 -1.421875 15.453125 -0.5625 \r\nQ 10.6875 0.296875 5.421875 2 \r\nL 5.421875 11.28125 \r\nQ 10.40625 8.6875 15.234375 7.390625 \r\nQ 20.0625 6.109375 24.8125 6.109375 \r\nQ 31.15625 6.109375 34.5625 8.28125 \r\nQ 37.984375 10.453125 37.984375 14.40625 \r\nQ 37.984375 18.0625 35.515625 20.015625 \r\nQ 33.0625 21.96875 24.703125 23.78125 \r\nL 21.578125 24.515625 \r\nQ 13.234375 26.265625 9.515625 29.90625 \r\nQ 5.8125 33.546875 5.8125 39.890625 \r\nQ 5.8125 47.609375 11.28125 51.796875 \r\nQ 16.75 56 26.8125 56 \r\nQ 31.78125 56 36.171875 55.265625 \r\nQ 40.578125 54.546875 44.28125 53.078125 \r\nz\r\n\" id=\"DejaVuSans-115\"/>\r\n      </defs>\r\n      <use xlink:href=\"#DejaVuSans-70\"/>\r\n      <use x=\"50.269531\" xlink:href=\"#DejaVuSans-105\"/>\r\n      <use x=\"78.052734\" xlink:href=\"#DejaVuSans-116\"/>\r\n      <use x=\"117.261719\" xlink:href=\"#DejaVuSans-110\"/>\r\n      <use x=\"180.640625\" xlink:href=\"#DejaVuSans-101\"/>\r\n      <use x=\"242.164062\" xlink:href=\"#DejaVuSans-115\"/>\r\n      <use x=\"294.263672\" xlink:href=\"#DejaVuSans-115\"/>\r\n     </g>\r\n    </g>\r\n   </g>\r\n   <g id=\"line2d_13\">\r\n    <path clip-path=\"url(#pa4e1234651)\" d=\"M 65.361932 214.756364 \r\nL 68.405568 191.947972 \r\nL 71.449205 214.756364 \r\nL 74.492841 144.43049 \r\nL 77.536477 98.813706 \r\nL 80.580114 47.494825 \r\nL 83.62375 22.785734 \r\nL 86.667386 20.885035 \r\nL 89.711023 20.885035 \r\nL 92.754659 20.885035 \r\nL 95.798295 17.083636 \r\nL 98.841932 20.885035 \r\nL 101.885568 20.885035 \r\nL 104.929205 18.984336 \r\nL 107.972841 20.885035 \r\nL 111.016477 20.885035 \r\nL 114.060114 22.785734 \r\nL 117.10375 18.984336 \r\nL 120.147386 17.083636 \r\nL 123.191023 22.785734 \r\nL 126.234659 18.984336 \r\nL 129.278295 18.984336 \r\nL 132.321932 26.587133 \r\nL 135.365568 18.984336 \r\nL 138.409205 18.984336 \r\nL 141.452841 20.885035 \r\nL 144.496477 18.984336 \r\nL 147.540114 22.785734 \r\nL 150.58375 18.984336 \r\nL 153.627386 22.785734 \r\nL 156.671023 20.885035 \r\nL 159.714659 17.083636 \r\nL 162.758295 18.984336 \r\nL 165.801932 24.686434 \r\nL 168.845568 18.984336 \r\nL 171.889205 17.083636 \r\nL 174.932841 17.083636 \r\nL 177.976477 17.083636 \r\nL 181.020114 20.885035 \r\nL 184.06375 22.785734 \r\nL 187.107386 18.984336 \r\nL 190.151023 22.785734 \r\nL 193.194659 20.885035 \r\nL 196.238295 18.984336 \r\nL 199.281932 22.785734 \r\nL 202.325568 18.984336 \r\nL 205.369205 20.885035 \r\nL 208.412841 18.984336 \r\nL 211.456477 32.289231 \r\nL 214.500114 18.984336 \r\nL 217.54375 22.785734 \r\nL 220.587386 20.885035 \r\nL 223.631023 17.083636 \r\nL 226.674659 20.885035 \r\nL 229.718295 22.785734 \r\nL 232.761932 20.885035 \r\nL 235.805568 18.984336 \r\nL 238.849205 28.487832 \r\nL 241.892841 24.686434 \r\nL 244.936477 17.083636 \r\nL 247.980114 17.083636 \r\nL 251.02375 17.083636 \r\nL 254.067386 24.686434 \r\nL 257.111023 17.083636 \r\nL 260.154659 20.885035 \r\nL 263.198295 20.885035 \r\nL 266.241932 24.686434 \r\nL 269.285568 20.885035 \r\nL 272.329205 20.885035 \r\nL 275.372841 18.984336 \r\nL 278.416477 22.785734 \r\nL 281.460114 17.083636 \r\nL 284.50375 17.083636 \r\nL 287.547386 20.885035 \r\nL 290.591023 22.785734 \r\nL 293.634659 17.083636 \r\nL 296.678295 18.984336 \r\nL 299.721932 20.885035 \r\nL 302.765568 17.083636 \r\nL 305.809205 26.587133 \r\nL 308.852841 20.885035 \r\nL 311.896477 20.885035 \r\nL 314.940114 22.785734 \r\nL 317.98375 20.885035 \r\nL 321.027386 22.785734 \r\nL 324.071023 18.984336 \r\nL 327.114659 18.984336 \r\nL 330.158295 20.885035 \r\nL 333.201932 24.686434 \r\nL 336.245568 17.083636 \r\nL 339.289205 18.984336 \r\nL 342.332841 20.885035 \r\nL 345.376477 20.885035 \r\nL 348.420114 26.587133 \r\nL 351.46375 18.984336 \r\nL 354.507386 22.785734 \r\nL 357.551023 17.083636 \r\nL 360.594659 17.083636 \r\nL 363.638295 22.785734 \r\nL 366.681932 22.785734 \r\nL 369.725568 18.984336 \r\n\" style=\"fill:none;stroke:#ff0000;stroke-linecap:square;stroke-width:1.5;\"/>\r\n   </g>\r\n   <g id=\"patch_3\">\r\n    <path d=\"M 50.14375 224.64 \r\nL 50.14375 7.2 \r\n\" style=\"fill:none;stroke:#ffffff;stroke-linecap:square;stroke-linejoin:miter;stroke-width:0.8;\"/>\r\n   </g>\r\n   <g id=\"patch_4\">\r\n    <path d=\"M 384.94375 224.64 \r\nL 384.94375 7.2 \r\n\" style=\"fill:none;stroke:#ffffff;stroke-linecap:square;stroke-linejoin:miter;stroke-width:0.8;\"/>\r\n   </g>\r\n   <g id=\"patch_5\">\r\n    <path d=\"M 50.14375 224.64 \r\nL 384.94375 224.64 \r\n\" style=\"fill:none;stroke:#ffffff;stroke-linecap:square;stroke-linejoin:miter;stroke-width:0.8;\"/>\r\n   </g>\r\n   <g id=\"patch_6\">\r\n    <path d=\"M 50.14375 7.2 \r\nL 384.94375 7.2 \r\n\" style=\"fill:none;stroke:#ffffff;stroke-linecap:square;stroke-linejoin:miter;stroke-width:0.8;\"/>\r\n   </g>\r\n  </g>\r\n </g>\r\n <defs>\r\n  <clipPath id=\"pa4e1234651\">\r\n   <rect height=\"217.44\" width=\"334.8\" x=\"50.14375\" y=\"7.2\"/>\r\n  </clipPath>\r\n </defs>\r\n</svg>\r\n",
      "text/plain": [
       "<Figure size 432x288 with 1 Axes>"
      ]
     },
     "metadata": {},
     "output_type": "display_data"
    }
   ],
   "source": [
    "gen = logbook.select(\"gen\")\n",
    "avgs = logbook.select(\"avg\")\n",
    "\n",
    "fig = plt.figure()\n",
    "\n",
    "ax = plt.gca()\n",
    "line = ax.plot(gen, avgs, \"r-\", label=\"Average Fitness\")\n",
    "ax.set_xlabel(\"Generation\")\n",
    "ax.set_ylabel(\"Fitness\", color=\"b\")\n",
    "\n",
    "plt.plot()"
   ]
  },
  {
   "cell_type": "code",
   "execution_count": 664,
   "metadata": {},
   "outputs": [],
   "source": [
    "outDirPath = \"../../Output/\"\n",
    "outFilePath = outDirPath + file_name.strip(\".in\") + \".out\"\n",
    "\n",
    "vehicles_rides = get_rides_from_ind(best_sol)\n",
    "\n",
    "with open(outFilePath, \"w\") as f:\n",
    "    for v_r in vehicles_rides:\n",
    "      if v_r is None:\n",
    "        f.write(str(0))\n",
    "      else:\n",
    "        v_r = sort_rides(v_r)    \n",
    "        f.write(str(len(v_r)))\n",
    "        f.write(\" \")\n",
    "        f.write(\" \".join(str(pos) for pos, _ in v_r))\n",
    "      \n",
    "      f.write(\"\\n\")"
   ]
  }
 ],
 "metadata": {
  "interpreter": {
   "hash": "d5eb7a8f509e7ccbf47035c59f1ff1c37d44186d90acd8dc6b44b2ecc8ca6e3f"
  },
  "kernelspec": {
   "display_name": "Python 3.8.6 64-bit",
   "name": "python3"
  },
  "language_info": {
   "codemirror_mode": {
    "name": "ipython",
    "version": 3
   },
   "file_extension": ".py",
   "mimetype": "text/x-python",
   "name": "python",
   "nbconvert_exporter": "python",
   "pygments_lexer": "ipython3",
   "version": "3.8.6"
  },
  "orig_nbformat": 4
 },
 "nbformat": 4,
 "nbformat_minor": 2
}
